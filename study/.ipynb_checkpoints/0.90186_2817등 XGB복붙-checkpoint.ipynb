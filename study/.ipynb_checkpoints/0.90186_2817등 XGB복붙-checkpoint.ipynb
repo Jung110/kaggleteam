{
 "cells": [
  {
   "cell_type": "code",
   "execution_count": 12,
   "id": "0cd5937f",
   "metadata": {},
   "outputs": [],
   "source": [
    "import numpy as np \n",
    "import pandas as pd \n",
    "import matplotlib.pyplot as plt\n",
    "import seaborn as sns\n",
    "sns.set(style=\"darkgrid\")"
   ]
  },
  {
   "cell_type": "code",
   "execution_count": 13,
   "id": "b7ac033c",
   "metadata": {},
   "outputs": [],
   "source": [
    "\n",
    "\n",
    "# 데이터 불러오기\n",
    "items = pd.read_csv(\"./data/items.csv\")\n",
    "shops = pd.read_csv(\"./data/shops.csv\")\n",
    "train = pd.read_csv(\"./data/sales_train.csv\")\n",
    "test = pd.read_csv(\"./data/test.csv\")\n",
    "cats = pd.read_csv('./data/item_categories.csv')\n"
   ]
  },
  {
   "cell_type": "code",
   "execution_count": 14,
   "id": "5b59e4ae",
   "metadata": {},
   "outputs": [
    {
     "data": {
      "text/plain": [
       "<AxesSubplot:xlabel='item_price'>"
      ]
     },
     "execution_count": 14,
     "metadata": {},
     "output_type": "execute_result"
    },
    {
     "data": {
      "image/png": "[encoded data removed]",
      "text/plain": [
       "<Figure size 720x288 with 1 Axes>"
      ]
     },
     "metadata": {},
     "output_type": "display_data"
    },
    {
     "data": {
      "image/png": "[encoded data removed]",
      "text/plain": [
       "<Figure size 720x288 with 1 Axes>"
      ]
     },
     "metadata": {},
     "output_type": "display_data"
    }
   ],
   "source": [
    "\n",
    "# Data Cleaning\n",
    "plt.figure(figsize=(10,4))\n",
    "plt.xlim(-100, 3000)\n",
    "flierprops = dict(marker='o', markerfacecolor='purple', markersize=6,\n",
    "                  linestyle='none', markeredgecolor='black')\n",
    "sns.boxplot(x=train.item_cnt_day, flierprops=flierprops)\n",
    "\n",
    "plt.figure(figsize=(10,4))\n",
    "plt.xlim(train.item_price.min(), train.item_price.max()*1.1)\n",
    "sns.boxplot(x=train.item_price, flierprops=flierprops)"
   ]
  },
  {
   "cell_type": "code",
   "execution_count": 15,
   "id": "ef6a4d4f",
   "metadata": {},
   "outputs": [],
   "source": [
    "# Remove outlier\n",
    "train = train[(train.item_price < 300000 )& (train.item_cnt_day < 1000)]\n",
    "# remove negative item price\n",
    "train = train[train.item_price > 0].reset_index(drop = True)\n"
   ]
  },
  {
   "cell_type": "code",
   "execution_count": 16,
   "id": "ed2cd6ea",
   "metadata": {},
   "outputs": [],
   "source": [
    "# Cleaning shops data\n",
    "# Якутск Орджоникидзе, 56\n",
    "train.loc[train.shop_id == 0, 'shop_id'] = 57\n",
    "test.loc[test.shop_id == 0, 'shop_id'] = 57\n",
    "# Якутск ТЦ \"Центральный\"\n",
    "train.loc[train.shop_id == 1, 'shop_id'] = 58\n",
    "test.loc[test.shop_id == 1, 'shop_id'] = 58\n",
    "# Жуковский ул. Чкалова 39м²\n",
    "train.loc[train.shop_id == 10, 'shop_id'] = 11\n",
    "test.loc[test.shop_id == 10, 'shop_id'] = 11\n"
   ]
  },
  {
   "cell_type": "code",
   "execution_count": 17,
   "id": "2e227211",
   "metadata": {},
   "outputs": [],
   "source": [
    "\n",
    "\n",
    "# Clean up some shop names and add 'city' and 'category' to shops df.\n",
    "shops.loc[ shops.shop_name == 'Сергиев Посад ТЦ \"7Я\"',\"shop_name\" ] = 'СергиевПосад ТЦ \"7Я\"'\n",
    "shops[\"city\"] = shops.shop_name.str.split(\" \").map( lambda x: x[0] )\n",
    "shops[\"category\"] = shops.shop_name.str.split(\" \").map( lambda x: x[1] )\n",
    "shops.loc[shops.city == \"!Якутск\", \"city\"] = \"Якутск\""
   ]
  },
  {
   "cell_type": "code",
   "execution_count": 18,
   "id": "5380d53d",
   "metadata": {},
   "outputs": [],
   "source": [
    "\n",
    "\n",
    "# Only keep shop category if there are 5 or more shops of that category, the rest are grouped as \"other\".\n",
    "category = []\n",
    "for cat in shops.category.unique():\n",
    "    if len(shops[shops.category == cat]) >= 5:\n",
    "        category.append(cat)    \n",
    "shops.category = shops.category.apply( lambda x: x if (x in category) else \"other\" )\n"
   ]
  },
  {
   "cell_type": "code",
   "execution_count": 19,
   "id": "008cbf71",
   "metadata": {},
   "outputs": [],
   "source": [
    "\n",
    "# label encoding\n",
    "from sklearn.preprocessing import LabelEncoder\n",
    "shops[\"shop_category\"] = LabelEncoder().fit_transform( shops.category )\n",
    "shops[\"shop_city\"] = LabelEncoder().fit_transform( shops.city )\n",
    "shops = shops[[\"shop_id\", \"shop_category\", \"shop_city\"]]"
   ]
  },
  {
   "cell_type": "code",
   "execution_count": 20,
   "id": "16e084c8",
   "metadata": {},
   "outputs": [],
   "source": [
    "\n",
    "# Cleaning Item Category Data\n",
    "cats[\"type_code\"] = cats.item_category_name.apply( lambda x: x.split(\" \")[0] ).astype(str)\n",
    "cats.loc[ (cats.type_code == \"Игровые\")| (cats.type_code == \"Аксессуары\"), \"category\" ] = \"Игры\"\n",
    "category = []\n",
    "for cat in cats.type_code.unique():\n",
    "    if len(cats[cats.type_code == cat]) >= 5: \n",
    "        category.append( cat )\n",
    "cats.type_code = cats.type_code.apply(lambda x: x if (x in category) else \"etc\")"
   ]
  },
  {
   "cell_type": "code",
   "execution_count": 21,
   "id": "d0cd5a2a",
   "metadata": {},
   "outputs": [],
   "source": [
    "\n",
    "# Label Encoding\n",
    "cats.type_code = LabelEncoder().fit_transform(cats.type_code)\n",
    "cats[\"split\"] = cats.item_category_name.apply(lambda x: x.split(\"-\"))\n",
    "cats[\"subtype\"] = cats.split.apply(lambda x: x[1].strip() if len(x) > 1 else x[0].strip())\n",
    "cats[\"subtype_code\"] = LabelEncoder().fit_transform( cats[\"subtype\"] )\n",
    "cats = cats[[\"item_category_id\", \"subtype_code\", \"type_code\"]]\n"
   ]
  },
  {
   "cell_type": "code",
   "execution_count": 22,
   "id": "f1765b85",
   "metadata": {},
   "outputs": [],
   "source": [
    "\n",
    "# Cleaning Item Data\n",
    "import re\n",
    "def name_correction(x):\n",
    "    x = x.lower() # all letters lower case\n",
    "    x = x.partition('[')[0] # partition by square brackets\n",
    "    x = x.partition('(')[0] # partition by curly brackets\n",
    "    x = re.sub('[^A-Za-z0-9А-Яа-я]+', ' ', x) # remove special characters\n",
    "    x = x.replace('  ', ' ') # replace double spaces with single spaces\n",
    "    x = x.strip() # remove leading and trailing white space\n",
    "    return x\n",
    "  "
   ]
  },
  {
   "cell_type": "code",
   "execution_count": 23,
   "id": "1ddd5b32",
   "metadata": {},
   "outputs": [
    {
     "name": "stderr",
     "output_type": "stream",
     "text": [
      "/var/folders/pq/_bzx9rqx2hs53brb_m6pwqtc0000gn/T/ipykernel_45835/3979867440.py:3: FutureWarning: Columnar iteration over characters will be deprecated in future releases.\n",
      "  items[\"name1\"], items[\"name2\"] = items.item_name.str.split(\"[\", 1).str\n",
      "/var/folders/pq/_bzx9rqx2hs53brb_m6pwqtc0000gn/T/ipykernel_45835/3979867440.py:4: FutureWarning: Columnar iteration over characters will be deprecated in future releases.\n",
      "  items[\"name1\"], items[\"name3\"] = items.item_name.str.split(\"(\", 1).str\n",
      "/var/folders/pq/_bzx9rqx2hs53brb_m6pwqtc0000gn/T/ipykernel_45835/3979867440.py:7: FutureWarning: The default value of regex will change from True to False in a future version.\n",
      "  items[\"name2\"] = items.name2.str.replace('[^A-Za-z0-9А-Яа-я]+', \" \").str.lower()\n",
      "/var/folders/pq/_bzx9rqx2hs53brb_m6pwqtc0000gn/T/ipykernel_45835/3979867440.py:8: FutureWarning: The default value of regex will change from True to False in a future version.\n",
      "  items[\"name3\"] = items.name3.str.replace('[^A-Za-z0-9А-Яа-я]+', \" \").str.lower()\n"
     ]
    }
   ],
   "source": [
    "\n",
    " # Cleaning Item name\n",
    "# split item names by first bracket\n",
    "items[\"name1\"], items[\"name2\"] = items.item_name.str.split(\"[\", 1).str\n",
    "items[\"name1\"], items[\"name3\"] = items.item_name.str.split(\"(\", 1).str\n",
    "\n",
    "# replace special characters and turn to lower case\n",
    "items[\"name2\"] = items.name2.str.replace('[^A-Za-z0-9А-Яа-я]+', \" \").str.lower()\n",
    "items[\"name3\"] = items.name3.str.replace('[^A-Za-z0-9А-Яа-я]+', \" \").str.lower()\n",
    "\n",
    "# fill nulls with '0'\n",
    "items = items.fillna('0')\n",
    "\n",
    "items[\"item_name\"] = items[\"item_name\"].apply(lambda x: name_correction(x))"
   ]
  },
  {
   "cell_type": "code",
   "execution_count": 24,
   "id": "0668ba54",
   "metadata": {},
   "outputs": [],
   "source": [
    "# return all characters except the last if name 2 is not \"0\" - the closing bracket\n",
    "items.name2 = items.name2.apply( lambda x: x[:-1] if x !=\"0\" else \"0\")"
   ]
  },
  {
   "cell_type": "code",
   "execution_count": 25,
   "id": "727d64cf",
   "metadata": {},
   "outputs": [
    {
     "data": {
      "text/html": [
       "<div>\n",
       "<style scoped>\n",
       "    .dataframe tbody tr th:only-of-type {\n",
       "        vertical-align: middle;\n",
       "    }\n",
       "\n",
       "    .dataframe tbody tr th {\n",
       "        vertical-align: top;\n",
       "    }\n",
       "\n",
       "    .dataframe thead th {\n",
       "        text-align: right;\n",
       "    }\n",
       "</style>\n",
       "<table border=\"1\" class=\"dataframe\">\n",
       "  <thead>\n",
       "    <tr style=\"text-align: right;\">\n",
       "      <th></th>\n",
       "      <th>item_id</th>\n",
       "      <th>item_category_id</th>\n",
       "      <th>name2</th>\n",
       "      <th>name3</th>\n",
       "    </tr>\n",
       "  </thead>\n",
       "  <tbody>\n",
       "    <tr>\n",
       "      <th>0</th>\n",
       "      <td>0</td>\n",
       "      <td>40</td>\n",
       "      <td>4</td>\n",
       "      <td>1331</td>\n",
       "    </tr>\n",
       "    <tr>\n",
       "      <th>1</th>\n",
       "      <td>1</td>\n",
       "      <td>76</td>\n",
       "      <td>64</td>\n",
       "      <td>42</td>\n",
       "    </tr>\n",
       "    <tr>\n",
       "      <th>2</th>\n",
       "      <td>2</td>\n",
       "      <td>40</td>\n",
       "      <td>4</td>\n",
       "      <td>1011</td>\n",
       "    </tr>\n",
       "    <tr>\n",
       "      <th>3</th>\n",
       "      <td>3</td>\n",
       "      <td>40</td>\n",
       "      <td>4</td>\n",
       "      <td>1010</td>\n",
       "    </tr>\n",
       "    <tr>\n",
       "      <th>4</th>\n",
       "      <td>4</td>\n",
       "      <td>40</td>\n",
       "      <td>4</td>\n",
       "      <td>1572</td>\n",
       "    </tr>\n",
       "  </tbody>\n",
       "</table>\n",
       "</div>"
      ],
      "text/plain": [
       "   item_id  item_category_id  name2  name3\n",
       "0        0                40      4   1331\n",
       "1        1                76     64     42\n",
       "2        2                40      4   1011\n",
       "3        3                40      4   1010\n",
       "4        4                40      4   1572"
      ]
     },
     "execution_count": 25,
     "metadata": {},
     "output_type": "execute_result"
    }
   ],
   "source": [
    "\n",
    "# clean item type\n",
    "items[\"type\"] = items.name2.apply(lambda x: x[0:8] if x.split(\" \")[0] == \"xbox\" else x.split(\" \")[0] )\n",
    "items.loc[(items.type == \"x360\") | (items.type == \"xbox360\") | (items.type == \"xbox 360\") ,\"type\"] = \"xbox 360\"\n",
    "items.loc[ items.type == \"\", \"type\"] = \"mac\"\n",
    "items.type = items.type.apply( lambda x: x.replace(\" \", \"\") )\n",
    "items.loc[ (items.type == 'pc' )| (items.type == 'pс') | (items.type == \"pc\"), \"type\" ] = \"pc\"\n",
    "items.loc[ items.type == 'рs3' , \"type\"] = \"ps3\"\n",
    "\n",
    "group_sum = items.groupby([\"type\"]).agg({\"item_id\": \"count\"})\n",
    "group_sum = group_sum.reset_index()\n",
    "drop_cols = []\n",
    "for cat in group_sum.type.unique():\n",
    "    if group_sum.loc[(group_sum.type == cat), \"item_id\"].values[0] <40:\n",
    "        drop_cols.append(cat)\n",
    "items.name2 = items.name2.apply( lambda x: \"other\" if (x in drop_cols) else x )\n",
    "items = items.drop([\"type\"], axis = 1)\n",
    "\n",
    "items.name2 = LabelEncoder().fit_transform(items.name2)\n",
    "items.name3 = LabelEncoder().fit_transform(items.name3)\n",
    "\n",
    "items.drop([\"item_name\", \"name1\"],axis = 1, inplace= True)\n",
    "items.head()"
   ]
  },
  {
   "cell_type": "code",
   "execution_count": 26,
   "id": "183bb90f",
   "metadata": {},
   "outputs": [],
   "source": [
    "\n",
    "\n",
    "# Preprocessing create a matrix df with every combination of month, shop and item in order of increasing month. Item_cnt_day is summed into an item_cnt_month.\n",
    "from itertools import product\n",
    "matrix = []\n",
    "cols  = [\"date_block_num\", \"shop_id\", \"item_id\"]\n",
    "for i in range(34):\n",
    "    sales = train[train.date_block_num == i]\n",
    "    matrix.append( np.array(list( product( [i], sales.shop_id.unique(), sales.item_id.unique() ) ), dtype = np.int16) )\n",
    "\n",
    "matrix = pd.DataFrame( np.vstack(matrix), columns = cols )\n",
    "matrix[\"date_block_num\"] = matrix[\"date_block_num\"].astype(np.int8)\n",
    "matrix[\"shop_id\"] = matrix[\"shop_id\"].astype(np.int8)\n",
    "matrix[\"item_id\"] = matrix[\"item_id\"].astype(np.int16)\n",
    "matrix.sort_values( cols, inplace = True )\n"
   ]
  },
  {
   "cell_type": "code",
   "execution_count": 27,
   "id": "03807ec2",
   "metadata": {},
   "outputs": [],
   "source": [
    "# add revenue to train df\n",
    "train[\"revenue\"] = train[\"item_cnt_day\"] * train[\"item_price\"]\n",
    "group = train.groupby( [\"date_block_num\", \"shop_id\", \"item_id\"] ).agg( {\"item_cnt_day\": [\"sum\"]} )\n",
    "group.columns = [\"item_cnt_month\"]\n",
    "group.reset_index( inplace = True)\n",
    "matrix = pd.merge( matrix, group, on = cols, how = \"left\" )\n",
    "matrix[\"item_cnt_month\"] = matrix[\"item_cnt_month\"].fillna(0).astype(np.float16)\n"
   ]
  },
  {
   "cell_type": "code",
   "execution_count": 28,
   "id": "916ea933",
   "metadata": {},
   "outputs": [],
   "source": [
    "\n",
    "# Create a test set for month 34.\n",
    "test[\"date_block_num\"] = 34\n",
    "test[\"date_block_num\"] = test[\"date_block_num\"].astype(np.int8)\n",
    "test[\"shop_id\"] = test.shop_id.astype(np.int8)\n",
    "test[\"item_id\"] = test.item_id.astype(np.int16)\n"
   ]
  },
  {
   "cell_type": "code",
   "execution_count": 29,
   "id": "50914029",
   "metadata": {},
   "outputs": [],
   "source": [
    "\n",
    "# Concatenate train and test sets.\n",
    "matrix = pd.concat([matrix, test.drop([\"ID\"],axis = 1)], ignore_index=True, sort=False, keys=cols)\n",
    "matrix.fillna( 0, inplace = True )"
   ]
  },
  {
   "cell_type": "code",
   "execution_count": 30,
   "id": "8162efd3",
   "metadata": {},
   "outputs": [],
   "source": [
    "# Add shop, items and categories data onto matrix df.\n",
    "matrix = pd.merge( matrix, shops, on = [\"shop_id\"], how = \"left\" )\n",
    "matrix = pd.merge(matrix, items, on = [\"item_id\"], how = \"left\")\n",
    "matrix = pd.merge( matrix, cats, on = [\"item_category_id\"], how = \"left\" )\n",
    "matrix[\"shop_city\"] = matrix[\"shop_city\"].astype(np.int8)\n",
    "matrix[\"shop_category\"] = matrix[\"shop_category\"].astype(np.int8)\n",
    "matrix[\"item_category_id\"] = matrix[\"item_category_id\"].astype(np.int8)\n",
    "matrix[\"subtype_code\"] = matrix[\"subtype_code\"].astype(np.int8)\n",
    "matrix[\"name2\"] = matrix[\"name2\"].astype(np.int8)\n",
    "matrix[\"name3\"] = matrix[\"name3\"].astype(np.int16)\n",
    "matrix[\"type_code\"] = matrix[\"type_code\"].astype(np.int8)"
   ]
  },
  {
   "cell_type": "code",
   "execution_count": 31,
   "id": "e9fb8f4b",
   "metadata": {},
   "outputs": [],
   "source": [
    "# Feature Engineering, add lag features to matrix df.\n",
    "# Define a lag feature function\n",
    "def lag_feature( df,lags, cols ):\n",
    "    for col in cols:\n",
    "        print(col)\n",
    "        tmp = df[[\"date_block_num\", \"shop_id\",\"item_id\",col ]]\n",
    "        for i in lags:\n",
    "            shifted = tmp.copy()\n",
    "            shifted.columns = [\"date_block_num\", \"shop_id\", \"item_id\", col + \"_lag_\"+str(i)]\n",
    "            shifted.date_block_num = shifted.date_block_num + i\n",
    "            df = pd.merge(df, shifted, on=['date_block_num','shop_id','item_id'], how='left')\n",
    "    return df"
   ]
  },
  {
   "cell_type": "code",
   "execution_count": 32,
   "id": "f26fca9b",
   "metadata": {},
   "outputs": [
    {
     "name": "stdout",
     "output_type": "stream",
     "text": [
      "item_cnt_month\n"
     ]
    }
   ],
   "source": [
    "# Add item_cnt_month lag features. \n",
    "matrix = lag_feature( matrix, [1,2,3], [\"item_cnt_month\"] )"
   ]
  },
  {
   "cell_type": "code",
   "execution_count": 33,
   "id": "e98aa0ea",
   "metadata": {},
   "outputs": [
    {
     "name": "stdout",
     "output_type": "stream",
     "text": [
      "date_avg_item_cnt\n"
     ]
    }
   ],
   "source": [
    "\n",
    "# Add the previous month's average item_cnt.\n",
    "group = matrix.groupby( [\"date_block_num\"] ).agg({\"item_cnt_month\" : [\"mean\"]})\n",
    "group.columns = [\"date_avg_item_cnt\"]\n",
    "group.reset_index(inplace = True)\n",
    "matrix = pd.merge(matrix, group, on = [\"date_block_num\"], how = \"left\")\n",
    "matrix.date_avg_item_cnt = matrix[\"date_avg_item_cnt\"].astype(np.float16)\n",
    "matrix = lag_feature( matrix, [1], [\"date_avg_item_cnt\"] )\n",
    "matrix.drop( [\"date_avg_item_cnt\"], axis = 1, inplace = True )"
   ]
  },
  {
   "cell_type": "code",
   "execution_count": 34,
   "id": "d2aa4d2f",
   "metadata": {},
   "outputs": [
    {
     "name": "stdout",
     "output_type": "stream",
     "text": [
      "date_item_avg_item_cnt\n"
     ]
    }
   ],
   "source": [
    "\n",
    "\n",
    "# Add lag values of item_cnt_month for month / item_id.\n",
    "group = matrix.groupby(['date_block_num', 'item_id']).agg({'item_cnt_month': ['mean']})\n",
    "group.columns = [ 'date_item_avg_item_cnt' ]\n",
    "group.reset_index(inplace=True)\n",
    "\n",
    "matrix = pd.merge(matrix, group, on=['date_block_num','item_id'], how='left')\n",
    "matrix.date_item_avg_item_cnt = matrix['date_item_avg_item_cnt'].astype(np.float16)\n",
    "matrix = lag_feature(matrix, [1,2,3], ['date_item_avg_item_cnt'])\n",
    "matrix.drop(['date_item_avg_item_cnt'], axis=1, inplace=True)"
   ]
  },
  {
   "cell_type": "code",
   "execution_count": 35,
   "id": "e7f68672",
   "metadata": {},
   "outputs": [
    {
     "name": "stderr",
     "output_type": "stream",
     "text": [
      "/var/folders/pq/_bzx9rqx2hs53brb_m6pwqtc0000gn/T/ipykernel_45835/1363287629.py:6: UserWarning: Pandas doesn't allow columns to be created via a new attribute name - see https://pandas.pydata.org/pandas-docs/stable/indexing.html#attribute-access\n",
      "  matrix.date_avg_item_cnt = matrix[\"date_shop_avg_item_cnt\"].astype(np.float16)\n"
     ]
    },
    {
     "name": "stdout",
     "output_type": "stream",
     "text": [
      "date_shop_avg_item_cnt\n"
     ]
    }
   ],
   "source": [
    "\n",
    "# Add lag values for item_cnt_month for every month / shop combination.\n",
    "group = matrix.groupby( [\"date_block_num\",\"shop_id\"] ).agg({\"item_cnt_month\" : [\"mean\"]})\n",
    "group.columns = [\"date_shop_avg_item_cnt\"]\n",
    "group.reset_index(inplace = True)\n",
    "matrix = pd.merge(matrix, group, on = [\"date_block_num\",\"shop_id\"], how = \"left\")\n",
    "matrix.date_avg_item_cnt = matrix[\"date_shop_avg_item_cnt\"].astype(np.float16)\n",
    "matrix = lag_feature( matrix, [1,2,3], [\"date_shop_avg_item_cnt\"] )\n",
    "matrix.drop( [\"date_shop_avg_item_cnt\"], axis = 1, inplace = True )\n"
   ]
  },
  {
   "cell_type": "code",
   "execution_count": 36,
   "id": "0b0056d6",
   "metadata": {},
   "outputs": [
    {
     "name": "stderr",
     "output_type": "stream",
     "text": [
      "/var/folders/pq/_bzx9rqx2hs53brb_m6pwqtc0000gn/T/ipykernel_45835/1372447736.py:6: UserWarning: Pandas doesn't allow columns to be created via a new attribute name - see https://pandas.pydata.org/pandas-docs/stable/indexing.html#attribute-access\n",
      "  matrix.date_avg_item_cnt = matrix[\"date_shop_item_avg_item_cnt\"].astype(np.float16)\n"
     ]
    },
    {
     "name": "stdout",
     "output_type": "stream",
     "text": [
      "date_shop_item_avg_item_cnt\n"
     ]
    }
   ],
   "source": [
    "# Add lag values for item_cnt_month for month/shop/item.\n",
    "group = matrix.groupby( [\"date_block_num\",\"shop_id\",\"item_id\"] ).agg({\"item_cnt_month\" : [\"mean\"]})\n",
    "group.columns = [\"date_shop_item_avg_item_cnt\"]\n",
    "group.reset_index(inplace = True)\n",
    "matrix = pd.merge(matrix, group, on = [\"date_block_num\",\"shop_id\",\"item_id\"], how = \"left\")\n",
    "matrix.date_avg_item_cnt = matrix[\"date_shop_item_avg_item_cnt\"].astype(np.float16)\n",
    "matrix = lag_feature( matrix, [1,2,3], [\"date_shop_item_avg_item_cnt\"] )\n",
    "matrix.drop( [\"date_shop_item_avg_item_cnt\"], axis = 1, inplace = True )\n"
   ]
  },
  {
   "cell_type": "code",
   "execution_count": 37,
   "id": "4d8feec8",
   "metadata": {},
   "outputs": [
    {
     "name": "stdout",
     "output_type": "stream",
     "text": [
      "date_shop_subtype_avg_item_cnt\n"
     ]
    }
   ],
   "source": [
    "\n",
    "# Add lag values for item_cnt_month for month/shop/item subtype.\n",
    "group = matrix.groupby(['date_block_num', 'shop_id', 'subtype_code']).agg({'item_cnt_month': ['mean']})\n",
    "group.columns = ['date_shop_subtype_avg_item_cnt']\n",
    "group.reset_index(inplace=True)\n",
    "matrix = pd.merge(matrix, group, on=['date_block_num', 'shop_id', 'subtype_code'], how='left')\n",
    "matrix.date_shop_subtype_avg_item_cnt = matrix['date_shop_subtype_avg_item_cnt'].astype(np.float16)\n",
    "matrix = lag_feature(matrix, [1], ['date_shop_subtype_avg_item_cnt'])\n",
    "matrix.drop(['date_shop_subtype_avg_item_cnt'], axis=1, inplace=True)\n"
   ]
  },
  {
   "cell_type": "code",
   "execution_count": 38,
   "id": "5e3006c3",
   "metadata": {},
   "outputs": [
    {
     "name": "stdout",
     "output_type": "stream",
     "text": [
      "date_city_avg_item_cnt\n"
     ]
    }
   ],
   "source": [
    "# Add lag values for item_cnt_month for month/city.\n",
    "group = matrix.groupby(['date_block_num', 'shop_city']).agg({'item_cnt_month': ['mean']})\n",
    "group.columns = ['date_city_avg_item_cnt']\n",
    "group.reset_index(inplace=True)\n",
    "matrix = pd.merge(matrix, group, on=['date_block_num', \"shop_city\"], how='left')\n",
    "matrix.date_city_avg_item_cnt = matrix['date_city_avg_item_cnt'].astype(np.float16)\n",
    "matrix = lag_feature(matrix, [1], ['date_city_avg_item_cnt'])\n",
    "matrix.drop(['date_city_avg_item_cnt'], axis=1, inplace=True)"
   ]
  },
  {
   "cell_type": "code",
   "execution_count": 39,
   "id": "11be6b2f",
   "metadata": {},
   "outputs": [
    {
     "name": "stdout",
     "output_type": "stream",
     "text": [
      "date_item_city_avg_item_cnt\n"
     ]
    }
   ],
   "source": [
    "# Add lag values for item_cnt_month for month/city/item.\n",
    "group = matrix.groupby(['date_block_num', 'item_id', 'shop_city']).agg({'item_cnt_month': ['mean']})\n",
    "group.columns = [ 'date_item_city_avg_item_cnt' ]\n",
    "group.reset_index(inplace=True)\n",
    "matrix = pd.merge(matrix, group, on=['date_block_num', 'item_id', 'shop_city'], how='left')\n",
    "matrix.date_item_city_avg_item_cnt = matrix['date_item_city_avg_item_cnt'].astype(np.float16)\n",
    "matrix = lag_feature(matrix, [1], ['date_item_city_avg_item_cnt'])\n",
    "matrix.drop(['date_item_city_avg_item_cnt'], axis=1, inplace=True)"
   ]
  },
  {
   "cell_type": "code",
   "execution_count": 40,
   "id": "3af30973",
   "metadata": {},
   "outputs": [
    {
     "name": "stdout",
     "output_type": "stream",
     "text": [
      "date_item_avg_item_price\n"
     ]
    }
   ],
   "source": [
    "# Add average item price on to matix df., add lag values of item price per month\n",
    "# Add delta price values - how current month average pirce relates to global average.\n",
    "group = train.groupby( [\"item_id\"] ).agg({\"item_price\": [\"mean\"]})\n",
    "group.columns = [\"item_avg_item_price\"]\n",
    "group.reset_index(inplace = True)\n",
    "matrix = matrix.merge( group, on = [\"item_id\"], how = \"left\" )\n",
    "matrix[\"item_avg_item_price\"] = matrix.item_avg_item_price.astype(np.float16)\n",
    "group = train.groupby( [\"date_block_num\",\"item_id\"] ).agg( {\"item_price\": [\"mean\"]} )\n",
    "group.columns = [\"date_item_avg_item_price\"]\n",
    "group.reset_index(inplace = True)\n",
    "matrix = matrix.merge(group, on = [\"date_block_num\",\"item_id\"], how = \"left\")\n",
    "matrix[\"date_item_avg_item_price\"] = matrix.date_item_avg_item_price.astype(np.float16)\n",
    "lags = [1, 2, 3]\n",
    "matrix = lag_feature( matrix, lags, [\"date_item_avg_item_price\"] )"
   ]
  },
  {
   "cell_type": "code",
   "execution_count": 41,
   "id": "96c12c82",
   "metadata": {},
   "outputs": [],
   "source": [
    "for i in lags:\n",
    "    matrix[\"delta_price_lag_\" + str(i) ] = (matrix[\"date_item_avg_item_price_lag_\" + str(i)]- matrix[\"item_avg_item_price\"] )/ matrix[\"item_avg_item_price\"]"
   ]
  },
  {
   "cell_type": "code",
   "execution_count": 42,
   "id": "de87a8df",
   "metadata": {},
   "outputs": [],
   "source": [
    "def select_trends(row) :\n",
    "    for i in lags:\n",
    "        if row[\"delta_price_lag_\" + str(i)]:\n",
    "            return row[\"delta_price_lag_\" + str(i)]\n",
    "    return 0"
   ]
  },
  {
   "cell_type": "code",
   "execution_count": 43,
   "id": "d93fd789",
   "metadata": {},
   "outputs": [],
   "source": [
    "matrix[\"delta_price_lag\"] = matrix.apply(select_trends, axis = 1)\n",
    "matrix[\"delta_price_lag\"] = matrix.delta_price_lag.astype( np.float16 )\n",
    "matrix[\"delta_price_lag\"].fillna( 0 ,inplace = True)\n",
    "\n",
    "features_to_drop = [\"item_avg_item_price\", \"date_item_avg_item_price\"]\n",
    "for i in lags:\n",
    "    features_to_drop.append(\"date_item_avg_item_price_lag_\" + str(i) )\n",
    "    features_to_drop.append(\"delta_price_lag_\" + str(i) )\n",
    "matrix.drop(features_to_drop, axis = 1, inplace = True)\n"
   ]
  },
  {
   "cell_type": "code",
   "execution_count": 44,
   "id": "12f58c73",
   "metadata": {},
   "outputs": [
    {
     "name": "stdout",
     "output_type": "stream",
     "text": [
      "delta_revenue\n"
     ]
    }
   ],
   "source": [
    "# Add total shop revenue per month to matix df. Add lag values of revenue per month.\n",
    "# Add delta revenue values - how current month revenue relates to global average.\n",
    "group = train.groupby( [\"date_block_num\",\"shop_id\"] ).agg({\"revenue\": [\"sum\"] })\n",
    "group.columns = [\"date_shop_revenue\"]\n",
    "group.reset_index(inplace = True)\n",
    "\n",
    "matrix = matrix.merge( group , on = [\"date_block_num\", \"shop_id\"], how = \"left\" )\n",
    "matrix['date_shop_revenue'] = matrix['date_shop_revenue'].astype(np.float32)\n",
    "\n",
    "group = group.groupby([\"shop_id\"]).agg({ \"date_block_num\":[\"mean\"] })\n",
    "group.columns = [\"shop_avg_revenue\"]\n",
    "group.reset_index(inplace = True )\n",
    "\n",
    "matrix = matrix.merge( group, on = [\"shop_id\"], how = \"left\" )\n",
    "matrix[\"shop_avg_revenue\"] = matrix.shop_avg_revenue.astype(np.float32)\n",
    "matrix[\"delta_revenue\"] = (matrix['date_shop_revenue'] - matrix['shop_avg_revenue']) / matrix['shop_avg_revenue']\n",
    "matrix[\"delta_revenue\"] = matrix[\"delta_revenue\"]. astype(np.float32)\n",
    "\n",
    "matrix = lag_feature(matrix, [1], [\"delta_revenue\"])\n",
    "matrix[\"delta_revenue_lag_1\"] = matrix[\"delta_revenue_lag_1\"].astype(np.float32)\n",
    "matrix.drop( [\"date_shop_revenue\", \"shop_avg_revenue\", \"delta_revenue\"] ,axis = 1, inplace = True)"
   ]
  },
  {
   "cell_type": "code",
   "execution_count": 45,
   "id": "c1819132",
   "metadata": {},
   "outputs": [],
   "source": [
    "# Add month and number of days in each month to matrix df.\n",
    "matrix[\"month\"] = matrix[\"date_block_num\"] % 12\n",
    "days = pd.Series([31,28,31,30,31,30,31,31,30,31,30,31])\n",
    "matrix[\"days\"] = matrix[\"month\"].map(days).astype(np.int8)"
   ]
  },
  {
   "cell_type": "code",
   "execution_count": 46,
   "id": "bc8bff91",
   "metadata": {},
   "outputs": [],
   "source": [
    "# Add the month of each shop and item first sale.\n",
    "matrix[\"item_shop_first_sale\"] = matrix[\"date_block_num\"] - matrix.groupby([\"item_id\",\"shop_id\"])[\"date_block_num\"].transform('min')\n",
    "matrix[\"item_first_sale\"] = matrix[\"date_block_num\"] - matrix.groupby([\"item_id\"])[\"date_block_num\"].transform('min')\n"
   ]
  },
  {
   "cell_type": "code",
   "execution_count": 47,
   "id": "971f0d67",
   "metadata": {},
   "outputs": [],
   "source": [
    "# Delete first three months from matrix. They don't have lag values.\n",
    "matrix = matrix[matrix[\"date_block_num\"] > 3]"
   ]
  },
  {
   "cell_type": "code",
   "execution_count": 48,
   "id": "e5bb9427",
   "metadata": {},
   "outputs": [],
   "source": [
    "# Model\n",
    "import gc\n",
    "import pickle\n",
    "from xgboost import XGBRegressor\n",
    "from matplotlib.pylab import rcParams\n"
   ]
  },
  {
   "cell_type": "code",
   "execution_count": 49,
   "id": "f8291b49",
   "metadata": {},
   "outputs": [],
   "source": [
    "data = matrix.copy()\n",
    "del matrix\n",
    "gc.collect()\n",
    "X_train = data[data.date_block_num < 33].drop(['item_cnt_month'], axis=1)\n",
    "Y_train = data[data.date_block_num < 33]['item_cnt_month']\n",
    "X_valid = data[data.date_block_num == 33].drop(['item_cnt_month'], axis=1)\n",
    "Y_valid = data[data.date_block_num == 33]['item_cnt_month']\n",
    "X_test = data[data.date_block_num == 34].drop(['item_cnt_month'], axis=1)\n",
    "Y_train = Y_train.clip(0, 20)\n",
    "Y_valid = Y_valid.clip(0, 20)\n",
    "del data\n",
    "gc.collect();"
   ]
  },
  {
   "cell_type": "code",
   "execution_count": 50,
   "id": "3e7181f3",
   "metadata": {},
   "outputs": [
    {
     "name": "stderr",
     "output_type": "stream",
     "text": [
      "/opt/homebrew/lib/python3.9/site-packages/xgboost/sklearn.py:793: UserWarning: `eval_metric` in `fit` method is deprecated for better compatibility with scikit-learn, use `eval_metric` in constructor or`set_params` instead.\n",
      "  warnings.warn(\n",
      "/opt/homebrew/lib/python3.9/site-packages/xgboost/sklearn.py:793: UserWarning: `early_stopping_rounds` in `fit` method is deprecated for better compatibility with scikit-learn, use `early_stopping_rounds` in constructor or`set_params` instead.\n",
      "  warnings.warn(\n"
     ]
    },
    {
     "name": "stdout",
     "output_type": "stream",
     "text": [
      "[0]\tvalidation_0-rmse:1.17485\tvalidation_1-rmse:1.11651\n",
      "[1]\tvalidation_0-rmse:1.12456\tvalidation_1-rmse:1.07827\n",
      "[2]\tvalidation_0-rmse:1.08155\tvalidation_1-rmse:1.04693\n",
      "[3]\tvalidation_0-rmse:1.04466\tvalidation_1-rmse:1.02132\n",
      "[4]\tvalidation_0-rmse:1.01426\tvalidation_1-rmse:1.00230\n",
      "[5]\tvalidation_0-rmse:0.98731\tvalidation_1-rmse:0.98499\n",
      "[6]\tvalidation_0-rmse:0.96476\tvalidation_1-rmse:0.97258\n",
      "[7]\tvalidation_0-rmse:0.94609\tvalidation_1-rmse:0.96109\n",
      "[8]\tvalidation_0-rmse:0.92730\tvalidation_1-rmse:0.95022\n",
      "[9]\tvalidation_0-rmse:0.91243\tvalidation_1-rmse:0.94149\n",
      "[10]\tvalidation_0-rmse:0.89876\tvalidation_1-rmse:0.93319\n",
      "[11]\tvalidation_0-rmse:0.88795\tvalidation_1-rmse:0.92666\n",
      "[12]\tvalidation_0-rmse:0.87798\tvalidation_1-rmse:0.92063\n",
      "[13]\tvalidation_0-rmse:0.86932\tvalidation_1-rmse:0.91628\n",
      "[14]\tvalidation_0-rmse:0.86083\tvalidation_1-rmse:0.91505\n",
      "[15]\tvalidation_0-rmse:0.85391\tvalidation_1-rmse:0.91206\n",
      "[16]\tvalidation_0-rmse:0.84801\tvalidation_1-rmse:0.90914\n",
      "[17]\tvalidation_0-rmse:0.84224\tvalidation_1-rmse:0.90705\n",
      "[18]\tvalidation_0-rmse:0.83731\tvalidation_1-rmse:0.90499\n",
      "[19]\tvalidation_0-rmse:0.83353\tvalidation_1-rmse:0.90406\n",
      "[20]\tvalidation_0-rmse:0.82985\tvalidation_1-rmse:0.90329\n",
      "[21]\tvalidation_0-rmse:0.82651\tvalidation_1-rmse:0.90180\n",
      "[22]\tvalidation_0-rmse:0.82328\tvalidation_1-rmse:0.90091\n",
      "[23]\tvalidation_0-rmse:0.82011\tvalidation_1-rmse:0.89992\n",
      "[24]\tvalidation_0-rmse:0.81716\tvalidation_1-rmse:0.89957\n",
      "[25]\tvalidation_0-rmse:0.81404\tvalidation_1-rmse:0.90036\n",
      "[26]\tvalidation_0-rmse:0.81173\tvalidation_1-rmse:0.90036\n",
      "[27]\tvalidation_0-rmse:0.80889\tvalidation_1-rmse:0.89762\n",
      "[28]\tvalidation_0-rmse:0.80655\tvalidation_1-rmse:0.89703\n",
      "[29]\tvalidation_0-rmse:0.80412\tvalidation_1-rmse:0.89546\n",
      "[30]\tvalidation_0-rmse:0.80247\tvalidation_1-rmse:0.89515\n",
      "[31]\tvalidation_0-rmse:0.79979\tvalidation_1-rmse:0.89400\n",
      "[32]\tvalidation_0-rmse:0.79851\tvalidation_1-rmse:0.89377\n",
      "[33]\tvalidation_0-rmse:0.79630\tvalidation_1-rmse:0.89365\n",
      "[34]\tvalidation_0-rmse:0.79437\tvalidation_1-rmse:0.89308\n",
      "[35]\tvalidation_0-rmse:0.79281\tvalidation_1-rmse:0.89322\n",
      "[36]\tvalidation_0-rmse:0.79118\tvalidation_1-rmse:0.89343\n",
      "[37]\tvalidation_0-rmse:0.78980\tvalidation_1-rmse:0.89315\n",
      "[38]\tvalidation_0-rmse:0.78866\tvalidation_1-rmse:0.89375\n",
      "[39]\tvalidation_0-rmse:0.78708\tvalidation_1-rmse:0.89384\n",
      "[40]\tvalidation_0-rmse:0.78551\tvalidation_1-rmse:0.89363\n",
      "[41]\tvalidation_0-rmse:0.78437\tvalidation_1-rmse:0.89355\n",
      "[42]\tvalidation_0-rmse:0.78308\tvalidation_1-rmse:0.89339\n",
      "[43]\tvalidation_0-rmse:0.78165\tvalidation_1-rmse:0.89298\n",
      "[44]\tvalidation_0-rmse:0.78048\tvalidation_1-rmse:0.89366\n",
      "[45]\tvalidation_0-rmse:0.77923\tvalidation_1-rmse:0.89340\n",
      "[46]\tvalidation_0-rmse:0.77827\tvalidation_1-rmse:0.89330\n",
      "[47]\tvalidation_0-rmse:0.77754\tvalidation_1-rmse:0.89343\n",
      "[48]\tvalidation_0-rmse:0.77675\tvalidation_1-rmse:0.89296\n",
      "[49]\tvalidation_0-rmse:0.77569\tvalidation_1-rmse:0.89285\n",
      "[50]\tvalidation_0-rmse:0.77492\tvalidation_1-rmse:0.89300\n",
      "[51]\tvalidation_0-rmse:0.77408\tvalidation_1-rmse:0.89286\n",
      "[52]\tvalidation_0-rmse:0.77317\tvalidation_1-rmse:0.89277\n",
      "[53]\tvalidation_0-rmse:0.77263\tvalidation_1-rmse:0.89279\n",
      "[54]\tvalidation_0-rmse:0.77145\tvalidation_1-rmse:0.89305\n",
      "[55]\tvalidation_0-rmse:0.77053\tvalidation_1-rmse:0.89296\n",
      "[56]\tvalidation_0-rmse:0.76984\tvalidation_1-rmse:0.89291\n",
      "[57]\tvalidation_0-rmse:0.76905\tvalidation_1-rmse:0.89268\n",
      "[58]\tvalidation_0-rmse:0.76828\tvalidation_1-rmse:0.89274\n",
      "[59]\tvalidation_0-rmse:0.76709\tvalidation_1-rmse:0.89225\n",
      "[60]\tvalidation_0-rmse:0.76650\tvalidation_1-rmse:0.89229\n",
      "[61]\tvalidation_0-rmse:0.76523\tvalidation_1-rmse:0.89270\n",
      "[62]\tvalidation_0-rmse:0.76451\tvalidation_1-rmse:0.89229\n",
      "[63]\tvalidation_0-rmse:0.76405\tvalidation_1-rmse:0.89257\n",
      "[64]\tvalidation_0-rmse:0.76346\tvalidation_1-rmse:0.89257\n",
      "[65]\tvalidation_0-rmse:0.76286\tvalidation_1-rmse:0.89290\n",
      "[66]\tvalidation_0-rmse:0.76236\tvalidation_1-rmse:0.89304\n",
      "[67]\tvalidation_0-rmse:0.76170\tvalidation_1-rmse:0.89302\n",
      "[68]\tvalidation_0-rmse:0.76105\tvalidation_1-rmse:0.89326\n",
      "[69]\tvalidation_0-rmse:0.76037\tvalidation_1-rmse:0.89317\n",
      "[70]\tvalidation_0-rmse:0.75994\tvalidation_1-rmse:0.89322\n",
      "[71]\tvalidation_0-rmse:0.75929\tvalidation_1-rmse:0.89343\n",
      "[72]\tvalidation_0-rmse:0.75824\tvalidation_1-rmse:0.89343\n",
      "[73]\tvalidation_0-rmse:0.75734\tvalidation_1-rmse:0.89285\n",
      "[74]\tvalidation_0-rmse:0.75673\tvalidation_1-rmse:0.89271\n",
      "[75]\tvalidation_0-rmse:0.75580\tvalidation_1-rmse:0.89317\n",
      "[76]\tvalidation_0-rmse:0.75416\tvalidation_1-rmse:0.89294\n",
      "[77]\tvalidation_0-rmse:0.75371\tvalidation_1-rmse:0.89303\n",
      "[78]\tvalidation_0-rmse:0.75257\tvalidation_1-rmse:0.89337\n",
      "[79]\tvalidation_0-rmse:0.75205\tvalidation_1-rmse:0.89362\n"
     ]
    }
   ],
   "source": [
    "# Training\n",
    "model = XGBRegressor(\n",
    "    max_depth=10,\n",
    "    n_estimators=1000,\n",
    "    min_child_weight=0.5, \n",
    "    colsample_bytree=0.8, \n",
    "    subsample=0.8, \n",
    "    eta=0.1,\n",
    "    seed=42)\n",
    "\n",
    "model.fit(\n",
    "    X_train, \n",
    "    Y_train, \n",
    "    eval_metric=\"rmse\", \n",
    "    eval_set=[(X_train, Y_train), (X_valid, Y_valid)], \n",
    "    verbose=True, \n",
    "    early_stopping_rounds = 20)\n",
    "\n",
    "rcParams['figure.figsize'] = 12, 4"
   ]
  },
  {
   "cell_type": "code",
   "execution_count": 54,
   "id": "3b019df5",
   "metadata": {},
   "outputs": [],
   "source": [
    "# Testing\n",
    "Y_pred = model.predict(X_valid).clip(0, 20)\n",
    "Y_test = model.predict(X_test).clip(0, 20)\n",
    "\n",
    "submission = pd.DataFrame({\n",
    "    \"ID\": test.index, \n",
    "    \"item_cnt_month\": Y_test\n",
    "})\n",
    "submission.to_csv('submission.csv', index=False)"
   ]
  },
  {
   "cell_type": "code",
   "execution_count": 53,
   "id": "5a58ecb6",
   "metadata": {},
   "outputs": [
    {
     "data": {
      "text/plain": [
       "<AxesSubplot:title={'center':'Feature importance'}, xlabel='F score', ylabel='Features'>"
      ]
     },
     "execution_count": 53,
     "metadata": {},
     "output_type": "execute_result"
    },
    {
     "data": {
      "image/png": "[encoded data removed]",
      "text/plain": [
       "<Figure size 720x1008 with 1 Axes>"
      ]
     },
     "metadata": {},
     "output_type": "display_data"
    }
   ],
   "source": [
    "# Plot feature importance\n",
    "from xgboost import plot_importance\n",
    "def plot_features(booster, figsize):    \n",
    "    fig, ax = plt.subplots(1,1,figsize=figsize)\n",
    "    return plot_importance(booster=booster, ax=ax)\n",
    "plot_features(model, (10,14))"
   ]
  },
  {
   "cell_type": "code",
   "execution_count": null,
   "id": "50c3274b",
   "metadata": {},
   "outputs": [],
   "source": []
  }
 ],
 "metadata": {
  "kernelspec": {
   "display_name": "Python 3 (ipykernel)",
   "language": "python",
   "name": "python3"
  },
  "language_info": {
   "codemirror_mode": {
    "name": "ipython",
    "version": 3
   },
   "file_extension": ".py",
   "mimetype": "text/x-python",
   "name": "python",
   "nbconvert_exporter": "python",
   "pygments_lexer": "ipython3",
   "version": "3.9.13"
  }
 },
 "nbformat": 4,
 "nbformat_minor": 5
}
