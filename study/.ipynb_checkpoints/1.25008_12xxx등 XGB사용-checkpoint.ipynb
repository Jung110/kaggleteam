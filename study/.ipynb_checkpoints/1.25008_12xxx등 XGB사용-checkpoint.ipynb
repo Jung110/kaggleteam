{
 "cells": [
  {
   "cell_type": "markdown",
   "id": "6e8100a7",
   "metadata": {},
   "source": [
    "# 사용할 모듈 불러오기"
   ]
  },
  {
   "cell_type": "code",
   "execution_count": 7,
   "id": "1d8872aa",
   "metadata": {},
   "outputs": [],
   "source": [
    "# 사용할 모듈 불러오기 \n",
    "# 라벨인코딩\n",
    "from sklearn.preprocessing import LabelEncoder\n",
    "# 그래프\n",
    "import matplotlib.pyplot as plt\n",
    "from matplotlib import font_manager, rc\n",
    "# 기본\n",
    "import numpy as np\n",
    "import pandas as pd\n",
    "import seaborn as sns\n",
    "# 함수 사용시 사용\n",
    "import re\n",
    "# itertools의 product은 리스트 간의 데카르트 곱을  구하는 데 사용된다.\n",
    "from itertools import product\n",
    "\n",
    "\n"
   ]
  },
  {
   "cell_type": "code",
   "execution_count": 8,
   "id": "dbb50290",
   "metadata": {},
   "outputs": [],
   "source": [
    "# 데이터 불러오기\n",
    "items = pd.read_csv(\"./data/items.csv\")\n",
    "shops = pd.read_csv(\"./data/shops.csv\")\n",
    "train = pd.read_csv(\"./data/sales_train.csv\")\n",
    "test = pd.read_csv(\"./data/test.csv\")\n",
    "item_categories = pd.read_csv('./data/item_categories.csv')\n",
    "submission = pd.read_csv(\"./data/sample_submission.csv\")"
   ]
  },
  {
   "cell_type": "markdown",
   "id": "e7f53692",
   "metadata": {},
   "source": [
    "# EDA"
   ]
  },
  {
   "cell_type": "markdown",
   "id": "4fbd3d6a",
   "metadata": {},
   "source": [
    "### 데이터 크기에 맞게 메모리 줄이기"
   ]
  },
  {
   "cell_type": "code",
   "execution_count": 9,
   "id": "98429d4b",
   "metadata": {},
   "outputs": [],
   "source": [
    "def reduce_mem_usage(df, show_result=True):\n",
    "    num_types = ['int16', 'int32', 'int64', 'float16', 'float32', 'float64']\n",
    "    # 총 메모리를 Mb단위로 표현해준다. \n",
    "    start_mem = df.memory_usage().sum() / 1024**2\n",
    "    # 각 열별로 데이터 타입 및 최대 최소 값 확인 \n",
    "    for col in df.columns:\n",
    "        col_type = df[col].dtypes\n",
    "        if col_type in num_types:\n",
    "            c_min = df[col].min()\n",
    "            c_max = df[col].max()\n",
    "            # 만약 정수형이라면 \n",
    "            if str(col_type)[:3] == 'int':\n",
    "                # np.iinfo()해당 형이 표현 가능한 최댓값 최솟값을 출력해준다. \n",
    "                if c_min > np.iinfo(np.int8).min and c_max < np.iinfo(np.int8).max:\n",
    "                    df[col] = df[col].astype(np.int8)\n",
    "                elif c_min > np.iinfo(np.int16).min and c_max < np.iinfo(np.int16).max:\n",
    "                    df[col] = df[col].astype(np.int16)\n",
    "                elif c_min > np.iinfo(np.int32).min and c_max < np.iinfo(np.int32).max:\n",
    "                    df[col] = df[col].astype(np.int32)\n",
    "                elif c_min > np.iinfo(np.int64).min and c_max < np.iinfo(np.int64).max:\n",
    "                    df[col] = df[col].astype(np.int64)  \n",
    "            # 만약 실수형이라면\n",
    "            else:\n",
    "                if c_min > np.finfo(np.float16).min and c_max < np.finfo(np.float16).max:\n",
    "                    df[col] = df[col].astype(np.float16)\n",
    "                elif c_min > np.finfo(np.float32).min and c_max < np.finfo(np.float32).max:\n",
    "                    df[col] = df[col].astype(np.float32)\n",
    "                else:\n",
    "                    df[col] = df[col].astype(np.float64)    \n",
    "    end_mem = df.memory_usage().sum() / 1024**2\n",
    "    if show_result: \n",
    "        print('Mem. usage decreased to {:.2f} Mb ({:.1f}% reduction)'\n",
    "              .format(end_mem, 100 * (start_mem - end_mem) / start_mem))\n",
    "    return df"
   ]
  },
  {
   "cell_type": "markdown",
   "id": "f1dd3e35",
   "metadata": {},
   "source": [
    "## shops"
   ]
  },
  {
   "cell_type": "code",
   "execution_count": 10,
   "id": "6c65d2da",
   "metadata": {},
   "outputs": [
    {
     "name": "stdout",
     "output_type": "stream",
     "text": [
      "<class 'pandas.core.frame.DataFrame'>\n",
      "RangeIndex: 60 entries, 0 to 59\n",
      "Data columns (total 2 columns):\n",
      " #   Column     Non-Null Count  Dtype \n",
      "---  ------     --------------  ----- \n",
      " 0   shop_name  60 non-null     object\n",
      " 1   shop_id    60 non-null     int64 \n",
      "dtypes: int64(1), object(1)\n",
      "memory usage: 1.1+ KB\n"
     ]
    }
   ],
   "source": [
    "shops.info() # 결측값은 없고 데이터 타입이 적당함을 알수있다."
   ]
  },
  {
   "cell_type": "code",
   "execution_count": 11,
   "id": "8c7a69bc",
   "metadata": {},
   "outputs": [
    {
     "data": {
      "text/html": [
       "<div>\n",
       "<style scoped>\n",
       "    .dataframe tbody tr th:only-of-type {\n",
       "        vertical-align: middle;\n",
       "    }\n",
       "\n",
       "    .dataframe tbody tr th {\n",
       "        vertical-align: top;\n",
       "    }\n",
       "\n",
       "    .dataframe thead th {\n",
       "        text-align: right;\n",
       "    }\n",
       "</style>\n",
       "<table border=\"1\" class=\"dataframe\">\n",
       "  <thead>\n",
       "    <tr style=\"text-align: right;\">\n",
       "      <th></th>\n",
       "      <th>shop_name</th>\n",
       "      <th>shop_id</th>\n",
       "    </tr>\n",
       "  </thead>\n",
       "  <tbody>\n",
       "    <tr>\n",
       "      <th>0</th>\n",
       "      <td>!Якутск Орджоникидзе, 56 фран</td>\n",
       "      <td>0</td>\n",
       "    </tr>\n",
       "    <tr>\n",
       "      <th>1</th>\n",
       "      <td>!Якутск ТЦ \"Центральный\" фран</td>\n",
       "      <td>1</td>\n",
       "    </tr>\n",
       "    <tr>\n",
       "      <th>2</th>\n",
       "      <td>Адыгея ТЦ \"Мега\"</td>\n",
       "      <td>2</td>\n",
       "    </tr>\n",
       "    <tr>\n",
       "      <th>3</th>\n",
       "      <td>Балашиха ТРК \"Октябрь-Киномир\"</td>\n",
       "      <td>3</td>\n",
       "    </tr>\n",
       "    <tr>\n",
       "      <th>4</th>\n",
       "      <td>Волжский ТЦ \"Волга Молл\"</td>\n",
       "      <td>4</td>\n",
       "    </tr>\n",
       "    <tr>\n",
       "      <th>5</th>\n",
       "      <td>Вологда ТРЦ \"Мармелад\"</td>\n",
       "      <td>5</td>\n",
       "    </tr>\n",
       "    <tr>\n",
       "      <th>6</th>\n",
       "      <td>Воронеж (Плехановская, 13)</td>\n",
       "      <td>6</td>\n",
       "    </tr>\n",
       "    <tr>\n",
       "      <th>7</th>\n",
       "      <td>Воронеж ТРЦ \"Максимир\"</td>\n",
       "      <td>7</td>\n",
       "    </tr>\n",
       "    <tr>\n",
       "      <th>8</th>\n",
       "      <td>Воронеж ТРЦ Сити-Парк \"Град\"</td>\n",
       "      <td>8</td>\n",
       "    </tr>\n",
       "    <tr>\n",
       "      <th>9</th>\n",
       "      <td>Выездная Торговля</td>\n",
       "      <td>9</td>\n",
       "    </tr>\n",
       "  </tbody>\n",
       "</table>\n",
       "</div>"
      ],
      "text/plain": [
       "                        shop_name  shop_id\n",
       "0   !Якутск Орджоникидзе, 56 фран        0\n",
       "1   !Якутск ТЦ \"Центральный\" фран        1\n",
       "2                Адыгея ТЦ \"Мега\"        2\n",
       "3  Балашиха ТРК \"Октябрь-Киномир\"        3\n",
       "4        Волжский ТЦ \"Волга Молл\"        4\n",
       "5          Вологда ТРЦ \"Мармелад\"        5\n",
       "6      Воронеж (Плехановская, 13)        6\n",
       "7          Воронеж ТРЦ \"Максимир\"        7\n",
       "8    Воронеж ТРЦ Сити-Парк \"Град\"        8\n",
       "9               Выездная Торговля        9"
      ]
     },
     "execution_count": 11,
     "metadata": {},
     "output_type": "execute_result"
    }
   ],
   "source": [
    "shops.head(10)"
   ]
  },
  {
   "cell_type": "markdown",
   "id": "cac2c031",
   "metadata": {},
   "source": [
    "- 이름에 특수문자가 들어가고 중복되는 이름들이 보인다"
   ]
  },
  {
   "cell_type": "code",
   "execution_count": 12,
   "id": "41bb8320",
   "metadata": {},
   "outputs": [
    {
     "name": "stdout",
     "output_type": "stream",
     "text": [
      "code :  10  and   11\n",
      "name :  Жуковский ул  Чкалова 39м   and   Жуковский ул  Чкалова 39м²\n",
      "code :  11  and   10\n",
      "name :  Жуковский ул  Чкалова 39м²  and   Жуковский ул  Чкалова 39м \n",
      "code :  39  and   40\n",
      "name :  РостовНаДону ТРК  Мегацентр Горизонт   and   РостовНаДону ТРК  Мегацентр Горизонт  Островной\n",
      "code :  57  and   0\n",
      "name :  Якутск Орджоникидзе  56  and    Якутск Орджоникидзе  56 фран\n",
      "code :  58  and   1\n",
      "name :  Якутск ТЦ  Центральный   and    Якутск ТЦ  Центральный  фран\n"
     ]
    }
   ],
   "source": [
    "def clean_text(inputString):\n",
    "    text_rmv = re.sub('[-=+,#/\\?:^.@*\\\"※~ㆍ!』‘|\\(\\)\\[\\]`\\'…》\\”\\“\\’·]', ' ', inputString)\n",
    "    return text_rmv\n",
    "shops_names = shops[\"shop_name\"].apply(clean_text)\n",
    "shops_id = shops[\"shop_id\"]\n",
    "# 중복되는 이름 확인 \n",
    "for i in list(zip(shops_names ,shops_id)):\n",
    "    for j in list(zip(shops_names ,shops_id)):\n",
    "        if (re.match('.*'+i[0]+'*.',j[0])) and (i[1]!= j[1]):\n",
    "            print('code : ', i[1], ' and  ', j[1])\n",
    "            print('name : ', i[0], ' and  ', j[0])\n",
    "            "
   ]
  },
  {
   "cell_type": "markdown",
   "id": "61f625bd",
   "metadata": {},
   "source": [
    "- 위와 같이 shop id가 10:11, 39:40, 57:0, 58:1 4개의 아이디가 중복되는 것을 알 수 있다.\n",
    "- 위의 데이터를 기준으로 train data의 shop id를 바꾸어준다"
   ]
  },
  {
   "cell_type": "code",
   "execution_count": 13,
   "id": "24ac4315",
   "metadata": {},
   "outputs": [],
   "source": [
    "train[\"shop_id\"] = train[\"shop_id\"].replace({0: 57, 1: 58, 11: 10, 40: 39})"
   ]
  },
  {
   "cell_type": "markdown",
   "id": "b05f61de",
   "metadata": {},
   "source": [
    "##  test , submission"
   ]
  },
  {
   "cell_type": "code",
   "execution_count": 14,
   "id": "03a5968b",
   "metadata": {},
   "outputs": [
    {
     "name": "stdout",
     "output_type": "stream",
     "text": [
      "<class 'pandas.core.frame.DataFrame'>\n",
      "RangeIndex: 214200 entries, 0 to 214199\n",
      "Data columns (total 3 columns):\n",
      " #   Column   Non-Null Count   Dtype\n",
      "---  ------   --------------   -----\n",
      " 0   ID       214200 non-null  int64\n",
      " 1   shop_id  214200 non-null  int64\n",
      " 2   item_id  214200 non-null  int64\n",
      "dtypes: int64(3)\n",
      "memory usage: 4.9 MB\n"
     ]
    }
   ],
   "source": [
    "test.info()  # 결측값은 없고 데이터 타입이 적당함을 알수있다."
   ]
  },
  {
   "cell_type": "code",
   "execution_count": 15,
   "id": "2f0e0e3f",
   "metadata": {},
   "outputs": [
    {
     "name": "stdout",
     "output_type": "stream",
     "text": [
      "<class 'pandas.core.frame.DataFrame'>\n",
      "RangeIndex: 214200 entries, 0 to 214199\n",
      "Data columns (total 2 columns):\n",
      " #   Column          Non-Null Count   Dtype  \n",
      "---  ------          --------------   -----  \n",
      " 0   ID              214200 non-null  int64  \n",
      " 1   item_cnt_month  214200 non-null  float64\n",
      "dtypes: float64(1), int64(1)\n",
      "memory usage: 3.3 MB\n"
     ]
    }
   ],
   "source": [
    "submission.info() # item_cnt_day 가 아니라 item_cnt_month가 필요함을 알수가있다. "
   ]
  },
  {
   "cell_type": "code",
   "execution_count": 16,
   "id": "fe995b9b",
   "metadata": {},
   "outputs": [
    {
     "name": "stdout",
     "output_type": "stream",
     "text": [
      "diffrent shop_id nums:  14\n",
      "diffrent item_id nums:  363\n",
      "diff_test_items_itemid nums:  0\n"
     ]
    }
   ],
   "source": [
    "# test의 shop_id , item_id 기 train 데이터에 있는지 확인\n",
    "diff_train_test_shop_id  = set(train['shop_id']) - set(test['shop_id'])\n",
    "print('diffrent shop_id nums: ',len(diff_train_test_shop_id))\n",
    "diff_test_train_item_id = set(test['item_id']) - set(train['item_id'])\n",
    "print('diffrent item_id nums: ',len(diff_test_train_item_id))\n",
    "diff_test_items_item_id = set(test['item_id']) - set(items['item_id'])\n",
    "print('diff_test_items_itemid nums: ',len(diff_test_items_item_id))"
   ]
  },
  {
   "cell_type": "markdown",
   "id": "ef7dc444",
   "metadata": {},
   "source": [
    "## 아하!\n",
    "- test에 시간 데이터가 존재하지 않으므로 date_block_num =34 를 추가한다.\n",
    "- shop_id,item_id,date_block_num을 기준으로 묶어 item_cnt_day -> item_cnt_month 로 변환한다. \n",
    "- test에는 존재하지만 train에 존재하지 않는 값이 363개 존재한다. \n",
    "- train에만 있는 가게가 14개 존재한다. "
   ]
  },
  {
   "cell_type": "markdown",
   "id": "061ef0ce",
   "metadata": {},
   "source": [
    "## Train"
   ]
  },
  {
   "cell_type": "code",
   "execution_count": 17,
   "id": "32806223",
   "metadata": {},
   "outputs": [
    {
     "name": "stdout",
     "output_type": "stream",
     "text": [
      "<class 'pandas.core.frame.DataFrame'>\n",
      "RangeIndex: 2935849 entries, 0 to 2935848\n",
      "Data columns (total 6 columns):\n",
      " #   Column          Dtype  \n",
      "---  ------          -----  \n",
      " 0   date            object \n",
      " 1   date_block_num  int64  \n",
      " 2   shop_id         int64  \n",
      " 3   item_id         int64  \n",
      " 4   item_price      float64\n",
      " 5   item_cnt_day    float64\n",
      "dtypes: float64(2), int64(3), object(1)\n",
      "memory usage: 134.4+ MB\n"
     ]
    }
   ],
   "source": [
    "train.info() # null 값이 모든데이터에 존재 하지 않는다. "
   ]
  },
  {
   "cell_type": "code",
   "execution_count": 18,
   "id": "19420fe0",
   "metadata": {},
   "outputs": [
    {
     "data": {
      "text/plain": [
       "0   2013-01-02\n",
       "1   2013-01-03\n",
       "2   2013-01-05\n",
       "Name: date, dtype: datetime64[ns]"
      ]
     },
     "execution_count": 18,
     "metadata": {},
     "output_type": "execute_result"
    }
   ],
   "source": [
    "#  date의 자료형을 object  -> dattime 으로 바꾸고 싶다. \n",
    "# 변환하는 과정  ->\n",
    "train[\"date\"] = pd.to_datetime(train[\"date\"], format=\"%d.%m.%Y\")\n",
    "train[\"date\"]. head(3) "
   ]
  },
  {
   "cell_type": "code",
   "execution_count": 19,
   "id": "fb4aaefb",
   "metadata": {},
   "outputs": [
    {
     "name": "stderr",
     "output_type": "stream",
     "text": [
      "/var/folders/pq/_bzx9rqx2hs53brb_m6pwqtc0000gn/T/ipykernel_45787/2740853986.py:1: FutureWarning: Treating datetime data as categorical rather than numeric in `.describe` is deprecated and will be removed in a future version of pandas. Specify `datetime_is_numeric=True` to silence this warning and adopt the future behavior now.\n",
      "  train.describe(include = 'all')\n"
     ]
    },
    {
     "data": {
      "text/html": [
       "<div>\n",
       "<style scoped>\n",
       "    .dataframe tbody tr th:only-of-type {\n",
       "        vertical-align: middle;\n",
       "    }\n",
       "\n",
       "    .dataframe tbody tr th {\n",
       "        vertical-align: top;\n",
       "    }\n",
       "\n",
       "    .dataframe thead th {\n",
       "        text-align: right;\n",
       "    }\n",
       "</style>\n",
       "<table border=\"1\" class=\"dataframe\">\n",
       "  <thead>\n",
       "    <tr style=\"text-align: right;\">\n",
       "      <th></th>\n",
       "      <th>date</th>\n",
       "      <th>date_block_num</th>\n",
       "      <th>shop_id</th>\n",
       "      <th>item_id</th>\n",
       "      <th>item_price</th>\n",
       "      <th>item_cnt_day</th>\n",
       "    </tr>\n",
       "  </thead>\n",
       "  <tbody>\n",
       "    <tr>\n",
       "      <th>count</th>\n",
       "      <td>2935849</td>\n",
       "      <td>2.935849e+06</td>\n",
       "      <td>2.935849e+06</td>\n",
       "      <td>2.935849e+06</td>\n",
       "      <td>2.935849e+06</td>\n",
       "      <td>2.935849e+06</td>\n",
       "    </tr>\n",
       "    <tr>\n",
       "      <th>unique</th>\n",
       "      <td>1034</td>\n",
       "      <td>NaN</td>\n",
       "      <td>NaN</td>\n",
       "      <td>NaN</td>\n",
       "      <td>NaN</td>\n",
       "      <td>NaN</td>\n",
       "    </tr>\n",
       "    <tr>\n",
       "      <th>top</th>\n",
       "      <td>2013-12-28 00:00:00</td>\n",
       "      <td>NaN</td>\n",
       "      <td>NaN</td>\n",
       "      <td>NaN</td>\n",
       "      <td>NaN</td>\n",
       "      <td>NaN</td>\n",
       "    </tr>\n",
       "    <tr>\n",
       "      <th>freq</th>\n",
       "      <td>9434</td>\n",
       "      <td>NaN</td>\n",
       "      <td>NaN</td>\n",
       "      <td>NaN</td>\n",
       "      <td>NaN</td>\n",
       "      <td>NaN</td>\n",
       "    </tr>\n",
       "    <tr>\n",
       "      <th>first</th>\n",
       "      <td>2013-01-01 00:00:00</td>\n",
       "      <td>NaN</td>\n",
       "      <td>NaN</td>\n",
       "      <td>NaN</td>\n",
       "      <td>NaN</td>\n",
       "      <td>NaN</td>\n",
       "    </tr>\n",
       "    <tr>\n",
       "      <th>last</th>\n",
       "      <td>2015-10-31 00:00:00</td>\n",
       "      <td>NaN</td>\n",
       "      <td>NaN</td>\n",
       "      <td>NaN</td>\n",
       "      <td>NaN</td>\n",
       "      <td>NaN</td>\n",
       "    </tr>\n",
       "    <tr>\n",
       "      <th>mean</th>\n",
       "      <td>NaN</td>\n",
       "      <td>1.456991e+01</td>\n",
       "      <td>3.330172e+01</td>\n",
       "      <td>1.019723e+04</td>\n",
       "      <td>8.908532e+02</td>\n",
       "      <td>1.242641e+00</td>\n",
       "    </tr>\n",
       "    <tr>\n",
       "      <th>std</th>\n",
       "      <td>NaN</td>\n",
       "      <td>9.422988e+00</td>\n",
       "      <td>1.614678e+01</td>\n",
       "      <td>6.324297e+03</td>\n",
       "      <td>1.729800e+03</td>\n",
       "      <td>2.618834e+00</td>\n",
       "    </tr>\n",
       "    <tr>\n",
       "      <th>min</th>\n",
       "      <td>NaN</td>\n",
       "      <td>0.000000e+00</td>\n",
       "      <td>2.000000e+00</td>\n",
       "      <td>0.000000e+00</td>\n",
       "      <td>-1.000000e+00</td>\n",
       "      <td>-2.200000e+01</td>\n",
       "    </tr>\n",
       "    <tr>\n",
       "      <th>25%</th>\n",
       "      <td>NaN</td>\n",
       "      <td>7.000000e+00</td>\n",
       "      <td>2.200000e+01</td>\n",
       "      <td>4.476000e+03</td>\n",
       "      <td>2.490000e+02</td>\n",
       "      <td>1.000000e+00</td>\n",
       "    </tr>\n",
       "    <tr>\n",
       "      <th>50%</th>\n",
       "      <td>NaN</td>\n",
       "      <td>1.400000e+01</td>\n",
       "      <td>3.100000e+01</td>\n",
       "      <td>9.343000e+03</td>\n",
       "      <td>3.990000e+02</td>\n",
       "      <td>1.000000e+00</td>\n",
       "    </tr>\n",
       "    <tr>\n",
       "      <th>75%</th>\n",
       "      <td>NaN</td>\n",
       "      <td>2.300000e+01</td>\n",
       "      <td>4.800000e+01</td>\n",
       "      <td>1.568400e+04</td>\n",
       "      <td>9.990000e+02</td>\n",
       "      <td>1.000000e+00</td>\n",
       "    </tr>\n",
       "    <tr>\n",
       "      <th>max</th>\n",
       "      <td>NaN</td>\n",
       "      <td>3.300000e+01</td>\n",
       "      <td>5.900000e+01</td>\n",
       "      <td>2.216900e+04</td>\n",
       "      <td>3.079800e+05</td>\n",
       "      <td>2.169000e+03</td>\n",
       "    </tr>\n",
       "  </tbody>\n",
       "</table>\n",
       "</div>"
      ],
      "text/plain": [
       "                       date  date_block_num       shop_id       item_id  \\\n",
       "count               2935849    2.935849e+06  2.935849e+06  2.935849e+06   \n",
       "unique                 1034             NaN           NaN           NaN   \n",
       "top     2013-12-28 00:00:00             NaN           NaN           NaN   \n",
       "freq                   9434             NaN           NaN           NaN   \n",
       "first   2013-01-01 00:00:00             NaN           NaN           NaN   \n",
       "last    2015-10-31 00:00:00             NaN           NaN           NaN   \n",
       "mean                    NaN    1.456991e+01  3.330172e+01  1.019723e+04   \n",
       "std                     NaN    9.422988e+00  1.614678e+01  6.324297e+03   \n",
       "min                     NaN    0.000000e+00  2.000000e+00  0.000000e+00   \n",
       "25%                     NaN    7.000000e+00  2.200000e+01  4.476000e+03   \n",
       "50%                     NaN    1.400000e+01  3.100000e+01  9.343000e+03   \n",
       "75%                     NaN    2.300000e+01  4.800000e+01  1.568400e+04   \n",
       "max                     NaN    3.300000e+01  5.900000e+01  2.216900e+04   \n",
       "\n",
       "          item_price  item_cnt_day  \n",
       "count   2.935849e+06  2.935849e+06  \n",
       "unique           NaN           NaN  \n",
       "top              NaN           NaN  \n",
       "freq             NaN           NaN  \n",
       "first            NaN           NaN  \n",
       "last             NaN           NaN  \n",
       "mean    8.908532e+02  1.242641e+00  \n",
       "std     1.729800e+03  2.618834e+00  \n",
       "min    -1.000000e+00 -2.200000e+01  \n",
       "25%     2.490000e+02  1.000000e+00  \n",
       "50%     3.990000e+02  1.000000e+00  \n",
       "75%     9.990000e+02  1.000000e+00  \n",
       "max     3.079800e+05  2.169000e+03  "
      ]
     },
     "execution_count": 19,
     "metadata": {},
     "output_type": "execute_result"
    }
   ],
   "source": [
    "train.describe(include = 'all')"
   ]
  },
  {
   "cell_type": "markdown",
   "id": "b1dc29c9",
   "metadata": {},
   "source": [
    "2013-01-01 00:00:00 ~ 2015-10-31 00:00:00  까지의 1034일간의 데이터임을 알수있다.  \n",
    "item_price은 평균과 중위값의 차이가 심한 것으로 보아 이상치가 존재함을 알 수 있디.  \n",
    "item_cnt_day 는일,이,삼 분위수가 1인데 비해 평균은 대략 1.2  최대값은 2168로 이상치가 존재한다.   \n",
    "item_cnt_day, item_price에 최소값들은 음수이다.  "
   ]
  },
  {
   "cell_type": "code",
   "execution_count": 20,
   "id": "6f9d793f",
   "metadata": {},
   "outputs": [
    {
     "data": {
      "image/png": "[encoded data removed]",
      "text/plain": [
       "<Figure size 1440x720 with 2 Axes>"
      ]
     },
     "metadata": {
      "needs_background": "light"
     },
     "output_type": "display_data"
    }
   ],
   "source": [
    "def price_item_cnt_day_boxplot():\n",
    "    plt.figure(figsize = (20,10))\n",
    "    # item_price 의 박스플롯\n",
    "    plt.subplot(1,2,1)\n",
    "    sns.boxplot(x = 'date_block_num' , y= 'item_price',data =train)\n",
    "    plt.title('item_price')\n",
    "    plt.grid()\n",
    "    # item_cnt_day의 박스 플롯\n",
    "    plt.subplot(1,2,2)\n",
    "    sns.boxplot(x = 'date_block_num' , y= 'item_cnt_day',data =train)\n",
    "    plt.title('item_cnt_day')\n",
    "    plt.grid()\n",
    "price_item_cnt_day_boxplot()"
   ]
  },
  {
   "cell_type": "markdown",
   "id": "56f1e1cb",
   "metadata": {},
   "source": [
    "- 다음은 date_block_num 별로 item_price의 boxplot이다.  \n",
    "- 위의 그래프를 기준으로 item_price는 50000 이상 , item_cnt_day 는 1000 이상을 이상치로서 train에서 제거한다.  \n",
    "- 또한 판매되는 수량을 구하는 것이 목적이므로 0미만의 값을 제거한다."
   ]
  },
  {
   "cell_type": "code",
   "execution_count": 21,
   "id": "704aad45",
   "metadata": {},
   "outputs": [],
   "source": [
    "condition_for_drop = ((train[\"item_price\"] >= 50000) | (train[\"item_price\"] < 0))\n",
    "train.drop(train[condition_for_drop].index, axis = 0 , inplace=True)\n",
    "\n",
    "condition_for_drop = ((train[\"item_cnt_day\"] >= 1000) | (train[\"item_cnt_day\"] < 0))\n",
    "train.drop(train[condition_for_drop].index, axis = 0 , inplace=True)"
   ]
  },
  {
   "cell_type": "code",
   "execution_count": 22,
   "id": "60453503",
   "metadata": {},
   "outputs": [
    {
     "data": {
      "image/png": "[encoded data removed]",
      "text/plain": [
       "<Figure size 1440x720 with 2 Axes>"
      ]
     },
     "metadata": {
      "needs_background": "light"
     },
     "output_type": "display_data"
    }
   ],
   "source": [
    "# 제거 후의 boxplot\n",
    "price_item_cnt_day_boxplot()"
   ]
  },
  {
   "cell_type": "markdown",
   "id": "dd399157",
   "metadata": {},
   "source": [
    "### train 에만 존재하는 가게 지우기 "
   ]
  },
  {
   "cell_type": "code",
   "execution_count": 23,
   "id": "067c9b11",
   "metadata": {},
   "outputs": [],
   "source": [
    "train = train[~train['shop_id'].isin(diff_train_test_shop_id)]"
   ]
  },
  {
   "cell_type": "markdown",
   "id": "612bc254",
   "metadata": {},
   "source": [
    "### test 모든 가게에 대해 파는 아이템 조합"
   ]
  },
  {
   "cell_type": "code",
   "execution_count": 24,
   "id": "7eefd471",
   "metadata": {},
   "outputs": [],
   "source": [
    "'''\n",
    "방법 1\n",
    "itertools 의 product을 사용하여\n",
    "각 달 아이템이 팔린 가게와 아이템 , data_num_block의 조합을 출력한다. \n",
    "'''\n",
    "\n",
    "temp_train = []\n",
    "for i in range(34):\n",
    "    all_shops = train.loc[train['date_block_num'] == i , 'shop_id'].unique()\n",
    "    all_items = train.loc[train['date_block_num'] == i , 'item_id'].unique()\n",
    "    temp_train.append(np.array(list(product([i] , all_shops ,all_items))))\n",
    "base_features_names = ['date_block_num','shop_id' , 'item_id']\n",
    "# np.vstack 세로 결합 (열의 갯수가 같아야 한다.)\n",
    "temp_train = pd.DataFrame(np.vstack(temp_train) , columns = base_features_names)"
   ]
  },
  {
   "cell_type": "code",
   "execution_count": 25,
   "id": "dd1ac8d6",
   "metadata": {},
   "outputs": [],
   "source": [
    "'''\n",
    "doing\n",
    "item_cnt_day >> item_cnt_month \n",
    "'''\n",
    "train_item_cnt_month  = train.pivot_table(index = base_features_names ,\n",
    "                                          values = 'item_cnt_day' , \n",
    "                                          aggfunc = np.sum)\n",
    "temp_train = pd.merge(temp_train,train_item_cnt_month.reset_index(),on = base_features_names,how= 'left')\n",
    "\n",
    "temp_train.rename(columns= {'item_cnt_day':'item_cnt_month'} ,inplace = True)"
   ]
  },
  {
   "cell_type": "code",
   "execution_count": 26,
   "id": "cb4b6491",
   "metadata": {},
   "outputs": [
    {
     "data": {
      "text/html": [
       "<div>\n",
       "<style scoped>\n",
       "    .dataframe tbody tr th:only-of-type {\n",
       "        vertical-align: middle;\n",
       "    }\n",
       "\n",
       "    .dataframe tbody tr th {\n",
       "        vertical-align: top;\n",
       "    }\n",
       "\n",
       "    .dataframe thead th {\n",
       "        text-align: right;\n",
       "    }\n",
       "</style>\n",
       "<table border=\"1\" class=\"dataframe\">\n",
       "  <thead>\n",
       "    <tr style=\"text-align: right;\">\n",
       "      <th></th>\n",
       "      <th>date_block_num</th>\n",
       "      <th>shop_id</th>\n",
       "      <th>item_id</th>\n",
       "      <th>item_cnt_month</th>\n",
       "      <th>item_count</th>\n",
       "      <th>item_price_mean_month</th>\n",
       "    </tr>\n",
       "  </thead>\n",
       "  <tbody>\n",
       "    <tr>\n",
       "      <th>0</th>\n",
       "      <td>0</td>\n",
       "      <td>59</td>\n",
       "      <td>22154</td>\n",
       "      <td>1.0</td>\n",
       "      <td>1.0</td>\n",
       "      <td>999.0</td>\n",
       "    </tr>\n",
       "    <tr>\n",
       "      <th>1</th>\n",
       "      <td>0</td>\n",
       "      <td>59</td>\n",
       "      <td>2552</td>\n",
       "      <td>0.0</td>\n",
       "      <td>0.0</td>\n",
       "      <td>0.0</td>\n",
       "    </tr>\n",
       "    <tr>\n",
       "      <th>2</th>\n",
       "      <td>0</td>\n",
       "      <td>59</td>\n",
       "      <td>2554</td>\n",
       "      <td>0.0</td>\n",
       "      <td>0.0</td>\n",
       "      <td>0.0</td>\n",
       "    </tr>\n",
       "    <tr>\n",
       "      <th>3</th>\n",
       "      <td>0</td>\n",
       "      <td>59</td>\n",
       "      <td>2555</td>\n",
       "      <td>0.0</td>\n",
       "      <td>0.0</td>\n",
       "      <td>0.0</td>\n",
       "    </tr>\n",
       "    <tr>\n",
       "      <th>4</th>\n",
       "      <td>0</td>\n",
       "      <td>59</td>\n",
       "      <td>2564</td>\n",
       "      <td>0.0</td>\n",
       "      <td>0.0</td>\n",
       "      <td>0.0</td>\n",
       "    </tr>\n",
       "  </tbody>\n",
       "</table>\n",
       "</div>"
      ],
      "text/plain": [
       "   date_block_num  shop_id  item_id  item_cnt_month  item_count  \\\n",
       "0               0       59    22154             1.0         1.0   \n",
       "1               0       59     2552             0.0         0.0   \n",
       "2               0       59     2554             0.0         0.0   \n",
       "3               0       59     2555             0.0         0.0   \n",
       "4               0       59     2564             0.0         0.0   \n",
       "\n",
       "   item_price_mean_month  \n",
       "0                  999.0  \n",
       "1                    0.0  \n",
       "2                    0.0  \n",
       "3                    0.0  \n",
       "4                    0.0  "
      ]
     },
     "execution_count": 26,
     "metadata": {},
     "output_type": "execute_result"
    }
   ],
   "source": [
    "'''\n",
    "doing\n",
    "item_price  >> item_price_mean_month\n",
    "adding\n",
    "item_count\n",
    "'''\n",
    "train_item_cnt_month  = train.pivot_table(index = base_features_names ,\n",
    "                                          values = ['item_cnt_day' , 'item_price'] , \n",
    "                                          aggfunc = {'item_cnt_day':'count' ,'item_price' :np.mean})\n",
    "temp_train = pd.merge(temp_train,train_item_cnt_month.reset_index(),on = base_features_names,how= 'left')\n",
    "temp_train.rename(columns= {'item_cnt_day':'item_count' ,'item_price' :'item_price_mean_month'} \n",
    "                  ,inplace = True)\n",
    "temp_train.fillna(0 , inplace = True)\n",
    "temp_train.head()"
   ]
  },
  {
   "cell_type": "code",
   "execution_count": 27,
   "id": "66476581",
   "metadata": {},
   "outputs": [
    {
     "name": "stdout",
     "output_type": "stream",
     "text": [
      "<class 'pandas.core.frame.DataFrame'>\n",
      "Int64Index: 8642761 entries, 0 to 8642760\n",
      "Data columns (total 6 columns):\n",
      " #   Column                 Dtype  \n",
      "---  ------                 -----  \n",
      " 0   date_block_num         int64  \n",
      " 1   shop_id                int64  \n",
      " 2   item_id                int64  \n",
      " 3   item_cnt_month         float64\n",
      " 4   item_count             float64\n",
      " 5   item_price_mean_month  float64\n",
      "dtypes: float64(3), int64(3)\n",
      "memory usage: 461.6 MB\n"
     ]
    }
   ],
   "source": [
    "temp_train.info()"
   ]
  },
  {
   "cell_type": "markdown",
   "id": "c7aff371",
   "metadata": {},
   "source": [
    "## items"
   ]
  },
  {
   "cell_type": "code",
   "execution_count": 28,
   "id": "db030015",
   "metadata": {},
   "outputs": [
    {
     "name": "stdout",
     "output_type": "stream",
     "text": [
      "<class 'pandas.core.frame.DataFrame'>\n",
      "RangeIndex: 22170 entries, 0 to 22169\n",
      "Data columns (total 3 columns):\n",
      " #   Column            Non-Null Count  Dtype \n",
      "---  ------            --------------  ----- \n",
      " 0   item_name         22170 non-null  object\n",
      " 1   item_id           22170 non-null  int64 \n",
      " 2   item_category_id  22170 non-null  int64 \n",
      "dtypes: int64(2), object(1)\n",
      "memory usage: 519.7+ KB\n"
     ]
    }
   ],
   "source": [
    "items.info() # 결측값은 없고 데이터 타입이 적당함을 알수있다."
   ]
  },
  {
   "cell_type": "code",
   "execution_count": 29,
   "id": "64ae8c9e",
   "metadata": {},
   "outputs": [
    {
     "data": {
      "text/html": [
       "<div>\n",
       "<style scoped>\n",
       "    .dataframe tbody tr th:only-of-type {\n",
       "        vertical-align: middle;\n",
       "    }\n",
       "\n",
       "    .dataframe tbody tr th {\n",
       "        vertical-align: top;\n",
       "    }\n",
       "\n",
       "    .dataframe thead th {\n",
       "        text-align: right;\n",
       "    }\n",
       "</style>\n",
       "<table border=\"1\" class=\"dataframe\">\n",
       "  <thead>\n",
       "    <tr style=\"text-align: right;\">\n",
       "      <th></th>\n",
       "      <th>item_name</th>\n",
       "      <th>item_id</th>\n",
       "      <th>item_category_id</th>\n",
       "    </tr>\n",
       "  </thead>\n",
       "  <tbody>\n",
       "    <tr>\n",
       "      <th>0</th>\n",
       "      <td>! ВО ВЛАСТИ НАВАЖДЕНИЯ (ПЛАСТ.)         D</td>\n",
       "      <td>0</td>\n",
       "      <td>40</td>\n",
       "    </tr>\n",
       "    <tr>\n",
       "      <th>1</th>\n",
       "      <td>!ABBYY FineReader 12 Professional Edition Full...</td>\n",
       "      <td>1</td>\n",
       "      <td>76</td>\n",
       "    </tr>\n",
       "    <tr>\n",
       "      <th>2</th>\n",
       "      <td>***В ЛУЧАХ СЛАВЫ   (UNV)                    D</td>\n",
       "      <td>2</td>\n",
       "      <td>40</td>\n",
       "    </tr>\n",
       "    <tr>\n",
       "      <th>3</th>\n",
       "      <td>***ГОЛУБАЯ ВОЛНА  (Univ)                      D</td>\n",
       "      <td>3</td>\n",
       "      <td>40</td>\n",
       "    </tr>\n",
       "    <tr>\n",
       "      <th>4</th>\n",
       "      <td>***КОРОБКА (СТЕКЛО)                       D</td>\n",
       "      <td>4</td>\n",
       "      <td>40</td>\n",
       "    </tr>\n",
       "    <tr>\n",
       "      <th>5</th>\n",
       "      <td>***НОВЫЕ АМЕРИКАНСКИЕ ГРАФФИТИ  (UNI)         ...</td>\n",
       "      <td>5</td>\n",
       "      <td>40</td>\n",
       "    </tr>\n",
       "    <tr>\n",
       "      <th>6</th>\n",
       "      <td>***УДАР ПО ВОРОТАМ (UNI)               D</td>\n",
       "      <td>6</td>\n",
       "      <td>40</td>\n",
       "    </tr>\n",
       "    <tr>\n",
       "      <th>7</th>\n",
       "      <td>***УДАР ПО ВОРОТАМ-2 (UNI)               D</td>\n",
       "      <td>7</td>\n",
       "      <td>40</td>\n",
       "    </tr>\n",
       "    <tr>\n",
       "      <th>8</th>\n",
       "      <td>***ЧАЙ С МУССОЛИНИ                     D</td>\n",
       "      <td>8</td>\n",
       "      <td>40</td>\n",
       "    </tr>\n",
       "    <tr>\n",
       "      <th>9</th>\n",
       "      <td>***ШУГАРЛЭНДСКИЙ ЭКСПРЕСС (UNI)             D</td>\n",
       "      <td>9</td>\n",
       "      <td>40</td>\n",
       "    </tr>\n",
       "    <tr>\n",
       "      <th>10</th>\n",
       "      <td>*ЗА ГРАНЬЮ СМЕРТИ                       D</td>\n",
       "      <td>10</td>\n",
       "      <td>40</td>\n",
       "    </tr>\n",
       "    <tr>\n",
       "      <th>11</th>\n",
       "      <td>*ЛИНИЯ СМЕРТИ                           D</td>\n",
       "      <td>11</td>\n",
       "      <td>40</td>\n",
       "    </tr>\n",
       "    <tr>\n",
       "      <th>12</th>\n",
       "      <td>*МИХЕЙ И ДЖУМАНДЖИ  Сука любовь</td>\n",
       "      <td>12</td>\n",
       "      <td>55</td>\n",
       "    </tr>\n",
       "    <tr>\n",
       "      <th>13</th>\n",
       "      <td>*СПАСАЯ ЭМИЛИ                           D</td>\n",
       "      <td>13</td>\n",
       "      <td>40</td>\n",
       "    </tr>\n",
       "    <tr>\n",
       "      <th>14</th>\n",
       "      <td>*ЧОКНУТЫЙ ПРОФЕССОР /МАГИЯ/             D</td>\n",
       "      <td>14</td>\n",
       "      <td>40</td>\n",
       "    </tr>\n",
       "    <tr>\n",
       "      <th>15</th>\n",
       "      <td>//АДРЕНАЛИН: ОДИН ПРОТИВ ВСЕХ (Регион)</td>\n",
       "      <td>15</td>\n",
       "      <td>40</td>\n",
       "    </tr>\n",
       "    <tr>\n",
       "      <th>16</th>\n",
       "      <td>//МОНГОЛ С.Бодров (Регион)</td>\n",
       "      <td>16</td>\n",
       "      <td>40</td>\n",
       "    </tr>\n",
       "    <tr>\n",
       "      <th>17</th>\n",
       "      <td>//НЕ ОСТАВЛЯЮЩИЙ СЛЕДА (Регион)</td>\n",
       "      <td>17</td>\n",
       "      <td>40</td>\n",
       "    </tr>\n",
       "    <tr>\n",
       "      <th>18</th>\n",
       "      <td>/БОМБА ДЛЯ НЕВЕСТЫ /2DVD/               D</td>\n",
       "      <td>18</td>\n",
       "      <td>40</td>\n",
       "    </tr>\n",
       "    <tr>\n",
       "      <th>19</th>\n",
       "      <td>/ЗОЛОТАЯ КОЛЛЕКЦИЯ м/ф-72</td>\n",
       "      <td>19</td>\n",
       "      <td>40</td>\n",
       "    </tr>\n",
       "  </tbody>\n",
       "</table>\n",
       "</div>"
      ],
      "text/plain": [
       "                                            item_name  item_id  \\\n",
       "0           ! ВО ВЛАСТИ НАВАЖДЕНИЯ (ПЛАСТ.)         D        0   \n",
       "1   !ABBYY FineReader 12 Professional Edition Full...        1   \n",
       "2       ***В ЛУЧАХ СЛАВЫ   (UNV)                    D        2   \n",
       "3     ***ГОЛУБАЯ ВОЛНА  (Univ)                      D        3   \n",
       "4         ***КОРОБКА (СТЕКЛО)                       D        4   \n",
       "5   ***НОВЫЕ АМЕРИКАНСКИЕ ГРАФФИТИ  (UNI)         ...        5   \n",
       "6            ***УДАР ПО ВОРОТАМ (UNI)               D        6   \n",
       "7          ***УДАР ПО ВОРОТАМ-2 (UNI)               D        7   \n",
       "8            ***ЧАЙ С МУССОЛИНИ                     D        8   \n",
       "9       ***ШУГАРЛЭНДСКИЙ ЭКСПРЕСС (UNI)             D        9   \n",
       "10          *ЗА ГРАНЬЮ СМЕРТИ                       D       10   \n",
       "11          *ЛИНИЯ СМЕРТИ                           D       11   \n",
       "12                    *МИХЕЙ И ДЖУМАНДЖИ  Сука любовь       12   \n",
       "13          *СПАСАЯ ЭМИЛИ                           D       13   \n",
       "14          *ЧОКНУТЫЙ ПРОФЕССОР /МАГИЯ/             D       14   \n",
       "15             //АДРЕНАЛИН: ОДИН ПРОТИВ ВСЕХ (Регион)       15   \n",
       "16                         //МОНГОЛ С.Бодров (Регион)       16   \n",
       "17                    //НЕ ОСТАВЛЯЮЩИЙ СЛЕДА (Регион)       17   \n",
       "18          /БОМБА ДЛЯ НЕВЕСТЫ /2DVD/               D       18   \n",
       "19                          /ЗОЛОТАЯ КОЛЛЕКЦИЯ м/ф-72       19   \n",
       "\n",
       "    item_category_id  \n",
       "0                 40  \n",
       "1                 76  \n",
       "2                 40  \n",
       "3                 40  \n",
       "4                 40  \n",
       "5                 40  \n",
       "6                 40  \n",
       "7                 40  \n",
       "8                 40  \n",
       "9                 40  \n",
       "10                40  \n",
       "11                40  \n",
       "12                55  \n",
       "13                40  \n",
       "14                40  \n",
       "15                40  \n",
       "16                40  \n",
       "17                40  \n",
       "18                40  \n",
       "19                40  "
      ]
     },
     "execution_count": 29,
     "metadata": {},
     "output_type": "execute_result"
    }
   ],
   "source": [
    "items.head(20)"
   ]
  },
  {
   "cell_type": "code",
   "execution_count": 30,
   "id": "0fc4431b",
   "metadata": {},
   "outputs": [
    {
     "data": {
      "image/png": "[encoded data removed]",
      "text/plain": [
       "<Figure size 1440x720 with 1 Axes>"
      ]
     },
     "metadata": {
      "needs_background": "light"
     },
     "output_type": "display_data"
    }
   ],
   "source": [
    "plt.figure(figsize=(20,10))\n",
    "sns.countplot(x= 'item_category_id' , data = items)\n",
    "plt.xticks(size = 15 , rotation =  45 , color = 'black')\n",
    "plt.show()"
   ]
  },
  {
   "cell_type": "code",
   "execution_count": 31,
   "id": "6c41ca24",
   "metadata": {},
   "outputs": [
    {
     "data": {
      "text/html": [
       "<div>\n",
       "<style scoped>\n",
       "    .dataframe tbody tr th:only-of-type {\n",
       "        vertical-align: middle;\n",
       "    }\n",
       "\n",
       "    .dataframe tbody tr th {\n",
       "        vertical-align: top;\n",
       "    }\n",
       "\n",
       "    .dataframe thead th {\n",
       "        text-align: right;\n",
       "    }\n",
       "</style>\n",
       "<table border=\"1\" class=\"dataframe\">\n",
       "  <thead>\n",
       "    <tr style=\"text-align: right;\">\n",
       "      <th></th>\n",
       "      <th>item_category_name</th>\n",
       "      <th>item_category_id</th>\n",
       "    </tr>\n",
       "  </thead>\n",
       "  <tbody>\n",
       "    <tr>\n",
       "      <th>40</th>\n",
       "      <td>Кино - DVD</td>\n",
       "      <td>40</td>\n",
       "    </tr>\n",
       "  </tbody>\n",
       "</table>\n",
       "</div>"
      ],
      "text/plain": [
       "   item_category_name  item_category_id\n",
       "40         Кино - DVD                40"
      ]
     },
     "execution_count": 31,
     "metadata": {},
     "output_type": "execute_result"
    }
   ],
   "source": [
    "item_categories[item_categories['item_category_id']==40]"
   ]
  },
  {
   "cell_type": "markdown",
   "id": "f0390055",
   "metadata": {},
   "source": [
    "- 특정 카테고리에 아이템이 몰려 있는 것을 확인 할 수 있다. \n",
    "- 이를 해결하기 위해 상위 카테고리를 분리 후 데이터가 수가 작은 카테고리는 기타 카테고리에 묶는 작업이 필요하다."
   ]
  },
  {
   "cell_type": "markdown",
   "id": "cae34420",
   "metadata": {},
   "source": [
    "## item_category"
   ]
  },
  {
   "cell_type": "code",
   "execution_count": 32,
   "id": "5f2d09c9",
   "metadata": {},
   "outputs": [
    {
     "name": "stdout",
     "output_type": "stream",
     "text": [
      "<class 'pandas.core.frame.DataFrame'>\n",
      "RangeIndex: 84 entries, 0 to 83\n",
      "Data columns (total 2 columns):\n",
      " #   Column              Non-Null Count  Dtype \n",
      "---  ------              --------------  ----- \n",
      " 0   item_category_name  84 non-null     object\n",
      " 1   item_category_id    84 non-null     int64 \n",
      "dtypes: int64(1), object(1)\n",
      "memory usage: 1.4+ KB\n"
     ]
    }
   ],
   "source": [
    "item_categories.info()  # 결측값은 없고 데이터 타입이 적당함을 알수있다."
   ]
  },
  {
   "cell_type": "code",
   "execution_count": 33,
   "id": "b681f449",
   "metadata": {},
   "outputs": [
    {
     "data": {
      "text/html": [
       "<div>\n",
       "<style scoped>\n",
       "    .dataframe tbody tr th:only-of-type {\n",
       "        vertical-align: middle;\n",
       "    }\n",
       "\n",
       "    .dataframe tbody tr th {\n",
       "        vertical-align: top;\n",
       "    }\n",
       "\n",
       "    .dataframe thead th {\n",
       "        text-align: right;\n",
       "    }\n",
       "</style>\n",
       "<table border=\"1\" class=\"dataframe\">\n",
       "  <thead>\n",
       "    <tr style=\"text-align: right;\">\n",
       "      <th></th>\n",
       "      <th>item_category_name</th>\n",
       "      <th>item_category_id</th>\n",
       "    </tr>\n",
       "  </thead>\n",
       "  <tbody>\n",
       "    <tr>\n",
       "      <th>0</th>\n",
       "      <td>PC - Гарнитуры/Наушники</td>\n",
       "      <td>0</td>\n",
       "    </tr>\n",
       "    <tr>\n",
       "      <th>1</th>\n",
       "      <td>Аксессуары - PS2</td>\n",
       "      <td>1</td>\n",
       "    </tr>\n",
       "    <tr>\n",
       "      <th>2</th>\n",
       "      <td>Аксессуары - PS3</td>\n",
       "      <td>2</td>\n",
       "    </tr>\n",
       "    <tr>\n",
       "      <th>3</th>\n",
       "      <td>Аксессуары - PS4</td>\n",
       "      <td>3</td>\n",
       "    </tr>\n",
       "    <tr>\n",
       "      <th>4</th>\n",
       "      <td>Аксессуары - PSP</td>\n",
       "      <td>4</td>\n",
       "    </tr>\n",
       "    <tr>\n",
       "      <th>5</th>\n",
       "      <td>Аксессуары - PSVita</td>\n",
       "      <td>5</td>\n",
       "    </tr>\n",
       "    <tr>\n",
       "      <th>6</th>\n",
       "      <td>Аксессуары - XBOX 360</td>\n",
       "      <td>6</td>\n",
       "    </tr>\n",
       "    <tr>\n",
       "      <th>7</th>\n",
       "      <td>Аксессуары - XBOX ONE</td>\n",
       "      <td>7</td>\n",
       "    </tr>\n",
       "    <tr>\n",
       "      <th>8</th>\n",
       "      <td>Билеты (Цифра)</td>\n",
       "      <td>8</td>\n",
       "    </tr>\n",
       "    <tr>\n",
       "      <th>9</th>\n",
       "      <td>Доставка товара</td>\n",
       "      <td>9</td>\n",
       "    </tr>\n",
       "    <tr>\n",
       "      <th>10</th>\n",
       "      <td>Игровые консоли - PS2</td>\n",
       "      <td>10</td>\n",
       "    </tr>\n",
       "    <tr>\n",
       "      <th>11</th>\n",
       "      <td>Игровые консоли - PS3</td>\n",
       "      <td>11</td>\n",
       "    </tr>\n",
       "    <tr>\n",
       "      <th>12</th>\n",
       "      <td>Игровые консоли - PS4</td>\n",
       "      <td>12</td>\n",
       "    </tr>\n",
       "    <tr>\n",
       "      <th>13</th>\n",
       "      <td>Игровые консоли - PSP</td>\n",
       "      <td>13</td>\n",
       "    </tr>\n",
       "    <tr>\n",
       "      <th>14</th>\n",
       "      <td>Игровые консоли - PSVita</td>\n",
       "      <td>14</td>\n",
       "    </tr>\n",
       "    <tr>\n",
       "      <th>15</th>\n",
       "      <td>Игровые консоли - XBOX 360</td>\n",
       "      <td>15</td>\n",
       "    </tr>\n",
       "    <tr>\n",
       "      <th>16</th>\n",
       "      <td>Игровые консоли - XBOX ONE</td>\n",
       "      <td>16</td>\n",
       "    </tr>\n",
       "    <tr>\n",
       "      <th>17</th>\n",
       "      <td>Игровые консоли - Прочие</td>\n",
       "      <td>17</td>\n",
       "    </tr>\n",
       "    <tr>\n",
       "      <th>18</th>\n",
       "      <td>Игры - PS2</td>\n",
       "      <td>18</td>\n",
       "    </tr>\n",
       "    <tr>\n",
       "      <th>19</th>\n",
       "      <td>Игры - PS3</td>\n",
       "      <td>19</td>\n",
       "    </tr>\n",
       "  </tbody>\n",
       "</table>\n",
       "</div>"
      ],
      "text/plain": [
       "            item_category_name  item_category_id\n",
       "0      PC - Гарнитуры/Наушники                 0\n",
       "1             Аксессуары - PS2                 1\n",
       "2             Аксессуары - PS3                 2\n",
       "3             Аксессуары - PS4                 3\n",
       "4             Аксессуары - PSP                 4\n",
       "5          Аксессуары - PSVita                 5\n",
       "6        Аксессуары - XBOX 360                 6\n",
       "7        Аксессуары - XBOX ONE                 7\n",
       "8               Билеты (Цифра)                 8\n",
       "9              Доставка товара                 9\n",
       "10       Игровые консоли - PS2                10\n",
       "11       Игровые консоли - PS3                11\n",
       "12       Игровые консоли - PS4                12\n",
       "13       Игровые консоли - PSP                13\n",
       "14    Игровые консоли - PSVita                14\n",
       "15  Игровые консоли - XBOX 360                15\n",
       "16  Игровые консоли - XBOX ONE                16\n",
       "17    Игровые консоли - Прочие                17\n",
       "18                  Игры - PS2                18\n",
       "19                  Игры - PS3                19"
      ]
     },
     "execution_count": 33,
     "metadata": {},
     "output_type": "execute_result"
    }
   ],
   "source": [
    "item_categories.head(20)"
   ]
  },
  {
   "cell_type": "markdown",
   "id": "2b6de9e0",
   "metadata": {},
   "source": [
    "- item_category_name에 같은 단어가 들어가는 데이터가 많이 존재한다\n",
    "- 이를 묶어 더 큰 범주를 만들 수 있다."
   ]
  },
  {
   "cell_type": "markdown",
   "id": "89df6cf7",
   "metadata": {},
   "source": [
    "## high_category"
   ]
  },
  {
   "cell_type": "markdown",
   "id": "3989ee59",
   "metadata": {},
   "source": [
    "item_category의 앞부분만 자르고 새롭게 만든 열을 라벨인코딩 (악세사리 >> 1)   \n",
    "item_id와 연결되어있는 item_category를 새롭게 만든 열로 연결하여 test값을 예측한다면?"
   ]
  },
  {
   "cell_type": "code",
   "execution_count": 34,
   "id": "1a498f37",
   "metadata": {},
   "outputs": [],
   "source": [
    "# item_category 분류하여 새로운 열 만들기\n",
    "def make_high_category(data_name_col):\n",
    "    '''\n",
    "    상위 분류를 생성후 라벨 인코딩을 하는 함수\n",
    "    shopname 과 item_category_name 에 사용\n",
    "    '''\n",
    "    data_name_col\n",
    "    data_name_col = data_name_col.apply(clean_text)\n",
    "    high_category_name = data_name_col.str.split(' ')\n",
    "    high_category_name = [data[1] if data[0] == '' else data[0] for data in high_category_name]\n",
    "    high_category_name_le = LabelEncoder()\n",
    "    high_category_name_le.fit(high_category_name)\n",
    "    high_category_id = high_category_name_le.transform(high_category_name)\n",
    "    return high_category_name , high_category_id"
   ]
  },
  {
   "cell_type": "markdown",
   "id": "b4ec4705",
   "metadata": {},
   "source": [
    "### 아이템 상위 카테고리 high_category_name"
   ]
  },
  {
   "cell_type": "code",
   "execution_count": 35,
   "id": "3c58b87e",
   "metadata": {},
   "outputs": [],
   "source": [
    "item_categories['high_category_name'] , item_categories['high_category_id'] =\\\n",
    "make_high_category(item_categories.item_category_name)"
   ]
  },
  {
   "cell_type": "code",
   "execution_count": 36,
   "id": "1b5a4788",
   "metadata": {},
   "outputs": [
    {
     "name": "stdout",
     "output_type": "stream",
     "text": [
      "Игры          14\n",
      "Книги         13\n",
      "Подарки       12\n",
      "Игровые        8\n",
      "Аксессуары     7\n",
      "Музыка         6\n",
      "Программы      6\n",
      "Карты          5\n",
      "Кино           5\n",
      "Служебные      2\n",
      "Чистые         2\n",
      "PC             1\n",
      "Билеты         1\n",
      "Доставка       1\n",
      "Элементы       1\n",
      "Name: high_category_name, dtype: int64\n"
     ]
    }
   ],
   "source": [
    "item_categories_value_counts=item_categories['high_category_name'].value_counts()\n",
    "print(item_categories_value_counts)\n",
    "item_categories_value_counts = item_categories_value_counts[item_categories['high_category_name'].value_counts()<5].index"
   ]
  },
  {
   "cell_type": "code",
   "execution_count": 37,
   "id": "b0b0e4a8",
   "metadata": {},
   "outputs": [],
   "source": [
    "# 아이템 종류가 5개 미만인 상위 카테고리는 etc로 묶어준다."
   ]
  },
  {
   "cell_type": "code",
   "execution_count": 38,
   "id": "d423f9f8",
   "metadata": {},
   "outputs": [],
   "source": [
    "item_categories['high_category_name'] = \\\n",
    "item_categories['high_category_name'].apply(lambda x : 'etc' if x in item_categories_value_counts else x)"
   ]
  },
  {
   "cell_type": "code",
   "execution_count": 39,
   "id": "c5de205d",
   "metadata": {},
   "outputs": [
    {
     "data": {
      "text/plain": [
       "Игры          14\n",
       "Книги         13\n",
       "Подарки       12\n",
       "etc            8\n",
       "Игровые        8\n",
       "Аксессуары     7\n",
       "Музыка         6\n",
       "Программы      6\n",
       "Карты          5\n",
       "Кино           5\n",
       "Name: high_category_name, dtype: int64"
      ]
     },
     "execution_count": 39,
     "metadata": {},
     "output_type": "execute_result"
    }
   ],
   "source": [
    "item_categories['high_category_name'].value_counts()"
   ]
  },
  {
   "cell_type": "markdown",
   "id": "47a5b4ad",
   "metadata": {},
   "source": [
    "### shop 상위 카테고리 city"
   ]
  },
  {
   "cell_type": "code",
   "execution_count": 40,
   "id": "5d751ac0",
   "metadata": {},
   "outputs": [],
   "source": [
    "shops['city_name'],shops['city_id'] = make_high_category(shops.shop_name)"
   ]
  },
  {
   "cell_type": "code",
   "execution_count": 41,
   "id": "53b1a2af",
   "metadata": {},
   "outputs": [
    {
     "data": {
      "text/html": [
       "<div>\n",
       "<style scoped>\n",
       "    .dataframe tbody tr th:only-of-type {\n",
       "        vertical-align: middle;\n",
       "    }\n",
       "\n",
       "    .dataframe tbody tr th {\n",
       "        vertical-align: top;\n",
       "    }\n",
       "\n",
       "    .dataframe thead th {\n",
       "        text-align: right;\n",
       "    }\n",
       "</style>\n",
       "<table border=\"1\" class=\"dataframe\">\n",
       "  <thead>\n",
       "    <tr style=\"text-align: right;\">\n",
       "      <th></th>\n",
       "      <th>shop_name</th>\n",
       "      <th>shop_id</th>\n",
       "      <th>city_name</th>\n",
       "      <th>city_id</th>\n",
       "    </tr>\n",
       "  </thead>\n",
       "  <tbody>\n",
       "    <tr>\n",
       "      <th>0</th>\n",
       "      <td>!Якутск Орджоникидзе, 56 фран</td>\n",
       "      <td>0</td>\n",
       "      <td>Якутск</td>\n",
       "      <td>29</td>\n",
       "    </tr>\n",
       "    <tr>\n",
       "      <th>1</th>\n",
       "      <td>!Якутск ТЦ \"Центральный\" фран</td>\n",
       "      <td>1</td>\n",
       "      <td>Якутск</td>\n",
       "      <td>29</td>\n",
       "    </tr>\n",
       "    <tr>\n",
       "      <th>2</th>\n",
       "      <td>Адыгея ТЦ \"Мега\"</td>\n",
       "      <td>2</td>\n",
       "      <td>Адыгея</td>\n",
       "      <td>0</td>\n",
       "    </tr>\n",
       "  </tbody>\n",
       "</table>\n",
       "</div>"
      ],
      "text/plain": [
       "                       shop_name  shop_id city_name  city_id\n",
       "0  !Якутск Орджоникидзе, 56 фран        0    Якутск       29\n",
       "1  !Якутск ТЦ \"Центральный\" фран        1    Якутск       29\n",
       "2               Адыгея ТЦ \"Мега\"        2    Адыгея        0"
      ]
     },
     "execution_count": 41,
     "metadata": {},
     "output_type": "execute_result"
    }
   ],
   "source": [
    "shops.head(3)"
   ]
  },
  {
   "cell_type": "markdown",
   "id": "cb5d1a64",
   "metadata": {},
   "source": [
    "## train + test "
   ]
  },
  {
   "cell_type": "code",
   "execution_count": 42,
   "id": "d7f891fa",
   "metadata": {},
   "outputs": [
    {
     "data": {
      "text/plain": [
       "(Index(['ID', 'shop_id', 'item_id'], dtype='object'),\n",
       " Index(['date_block_num', 'shop_id', 'item_id', 'item_cnt_month', 'item_count',\n",
       "        'item_price_mean_month'],\n",
       "       dtype='object'))"
      ]
     },
     "execution_count": 42,
     "metadata": {},
     "output_type": "execute_result"
    }
   ],
   "source": [
    "'''\n",
    "test에 없는 열을 추가 해야 하거나\n",
    "train에 쓸모없는 데이터를 제거해야 한다. \n",
    "'''\n",
    "test.columns , temp_train.columns"
   ]
  },
  {
   "cell_type": "code",
   "execution_count": 43,
   "id": "4a30179d",
   "metadata": {},
   "outputs": [],
   "source": [
    "test['date_block_num'] = 34\n",
    "\n",
    "del test['ID']"
   ]
  },
  {
   "cell_type": "code",
   "execution_count": 44,
   "id": "6480fb9e",
   "metadata": {},
   "outputs": [
    {
     "data": {
      "text/plain": [
       "(Index(['shop_id', 'item_id', 'date_block_num'], dtype='object'),\n",
       " Index(['date_block_num', 'shop_id', 'item_id', 'item_cnt_month', 'item_count',\n",
       "        'item_price_mean_month'],\n",
       "       dtype='object'))"
      ]
     },
     "execution_count": 44,
     "metadata": {},
     "output_type": "execute_result"
    }
   ],
   "source": [
    "test.columns , temp_train.columns"
   ]
  },
  {
   "cell_type": "code",
   "execution_count": 45,
   "id": "f5f7b070",
   "metadata": {},
   "outputs": [
    {
     "data": {
      "text/html": [
       "<div>\n",
       "<style scoped>\n",
       "    .dataframe tbody tr th:only-of-type {\n",
       "        vertical-align: middle;\n",
       "    }\n",
       "\n",
       "    .dataframe tbody tr th {\n",
       "        vertical-align: top;\n",
       "    }\n",
       "\n",
       "    .dataframe thead th {\n",
       "        text-align: right;\n",
       "    }\n",
       "</style>\n",
       "<table border=\"1\" class=\"dataframe\">\n",
       "  <thead>\n",
       "    <tr style=\"text-align: right;\">\n",
       "      <th></th>\n",
       "      <th>shop_id</th>\n",
       "      <th>item_id</th>\n",
       "      <th>date_block_num</th>\n",
       "      <th>item_cnt_month</th>\n",
       "      <th>item_count</th>\n",
       "      <th>item_price_mean_month</th>\n",
       "    </tr>\n",
       "  </thead>\n",
       "  <tbody>\n",
       "    <tr>\n",
       "      <th>0</th>\n",
       "      <td>5</td>\n",
       "      <td>5037</td>\n",
       "      <td>34</td>\n",
       "      <td>0.0</td>\n",
       "      <td>0.0</td>\n",
       "      <td>0.0</td>\n",
       "    </tr>\n",
       "    <tr>\n",
       "      <th>1</th>\n",
       "      <td>5</td>\n",
       "      <td>5320</td>\n",
       "      <td>34</td>\n",
       "      <td>0.0</td>\n",
       "      <td>0.0</td>\n",
       "      <td>0.0</td>\n",
       "    </tr>\n",
       "    <tr>\n",
       "      <th>2</th>\n",
       "      <td>5</td>\n",
       "      <td>5233</td>\n",
       "      <td>34</td>\n",
       "      <td>0.0</td>\n",
       "      <td>0.0</td>\n",
       "      <td>0.0</td>\n",
       "    </tr>\n",
       "    <tr>\n",
       "      <th>3</th>\n",
       "      <td>5</td>\n",
       "      <td>5232</td>\n",
       "      <td>34</td>\n",
       "      <td>0.0</td>\n",
       "      <td>0.0</td>\n",
       "      <td>0.0</td>\n",
       "    </tr>\n",
       "    <tr>\n",
       "      <th>4</th>\n",
       "      <td>5</td>\n",
       "      <td>5268</td>\n",
       "      <td>34</td>\n",
       "      <td>0.0</td>\n",
       "      <td>0.0</td>\n",
       "      <td>0.0</td>\n",
       "    </tr>\n",
       "    <tr>\n",
       "      <th>...</th>\n",
       "      <td>...</td>\n",
       "      <td>...</td>\n",
       "      <td>...</td>\n",
       "      <td>...</td>\n",
       "      <td>...</td>\n",
       "      <td>...</td>\n",
       "    </tr>\n",
       "    <tr>\n",
       "      <th>8642756</th>\n",
       "      <td>21</td>\n",
       "      <td>7635</td>\n",
       "      <td>33</td>\n",
       "      <td>0.0</td>\n",
       "      <td>0.0</td>\n",
       "      <td>0.0</td>\n",
       "    </tr>\n",
       "    <tr>\n",
       "      <th>8642757</th>\n",
       "      <td>21</td>\n",
       "      <td>7638</td>\n",
       "      <td>33</td>\n",
       "      <td>0.0</td>\n",
       "      <td>0.0</td>\n",
       "      <td>0.0</td>\n",
       "    </tr>\n",
       "    <tr>\n",
       "      <th>8642758</th>\n",
       "      <td>21</td>\n",
       "      <td>7640</td>\n",
       "      <td>33</td>\n",
       "      <td>0.0</td>\n",
       "      <td>0.0</td>\n",
       "      <td>0.0</td>\n",
       "    </tr>\n",
       "    <tr>\n",
       "      <th>8642759</th>\n",
       "      <td>21</td>\n",
       "      <td>7632</td>\n",
       "      <td>33</td>\n",
       "      <td>0.0</td>\n",
       "      <td>0.0</td>\n",
       "      <td>0.0</td>\n",
       "    </tr>\n",
       "    <tr>\n",
       "      <th>8642760</th>\n",
       "      <td>21</td>\n",
       "      <td>7440</td>\n",
       "      <td>33</td>\n",
       "      <td>0.0</td>\n",
       "      <td>0.0</td>\n",
       "      <td>0.0</td>\n",
       "    </tr>\n",
       "  </tbody>\n",
       "</table>\n",
       "<p>8856961 rows × 6 columns</p>\n",
       "</div>"
      ],
      "text/plain": [
       "         shop_id  item_id  date_block_num  item_cnt_month  item_count  \\\n",
       "0              5     5037              34             0.0         0.0   \n",
       "1              5     5320              34             0.0         0.0   \n",
       "2              5     5233              34             0.0         0.0   \n",
       "3              5     5232              34             0.0         0.0   \n",
       "4              5     5268              34             0.0         0.0   \n",
       "...          ...      ...             ...             ...         ...   \n",
       "8642756       21     7635              33             0.0         0.0   \n",
       "8642757       21     7638              33             0.0         0.0   \n",
       "8642758       21     7640              33             0.0         0.0   \n",
       "8642759       21     7632              33             0.0         0.0   \n",
       "8642760       21     7440              33             0.0         0.0   \n",
       "\n",
       "         item_price_mean_month  \n",
       "0                          0.0  \n",
       "1                          0.0  \n",
       "2                          0.0  \n",
       "3                          0.0  \n",
       "4                          0.0  \n",
       "...                        ...  \n",
       "8642756                    0.0  \n",
       "8642757                    0.0  \n",
       "8642758                    0.0  \n",
       "8642759                    0.0  \n",
       "8642760                    0.0  \n",
       "\n",
       "[8856961 rows x 6 columns]"
      ]
     },
     "execution_count": 45,
     "metadata": {},
     "output_type": "execute_result"
    }
   ],
   "source": [
    "# 인덱스 값이 꼬여있다.\n",
    "pd.concat([test,temp_train]).fillna(0)"
   ]
  },
  {
   "cell_type": "code",
   "execution_count": 46,
   "id": "710f3799",
   "metadata": {},
   "outputs": [
    {
     "data": {
      "text/html": [
       "<div>\n",
       "<style scoped>\n",
       "    .dataframe tbody tr th:only-of-type {\n",
       "        vertical-align: middle;\n",
       "    }\n",
       "\n",
       "    .dataframe tbody tr th {\n",
       "        vertical-align: top;\n",
       "    }\n",
       "\n",
       "    .dataframe thead th {\n",
       "        text-align: right;\n",
       "    }\n",
       "</style>\n",
       "<table border=\"1\" class=\"dataframe\">\n",
       "  <thead>\n",
       "    <tr style=\"text-align: right;\">\n",
       "      <th></th>\n",
       "      <th>shop_id</th>\n",
       "      <th>item_id</th>\n",
       "      <th>date_block_num</th>\n",
       "      <th>item_cnt_month</th>\n",
       "      <th>item_count</th>\n",
       "      <th>item_price_mean_month</th>\n",
       "    </tr>\n",
       "  </thead>\n",
       "  <tbody>\n",
       "    <tr>\n",
       "      <th>0</th>\n",
       "      <td>35</td>\n",
       "      <td>9613</td>\n",
       "      <td>0</td>\n",
       "      <td>0.0</td>\n",
       "      <td>0.0</td>\n",
       "      <td>0.0</td>\n",
       "    </tr>\n",
       "    <tr>\n",
       "      <th>1</th>\n",
       "      <td>7</td>\n",
       "      <td>9978</td>\n",
       "      <td>0</td>\n",
       "      <td>0.0</td>\n",
       "      <td>0.0</td>\n",
       "      <td>0.0</td>\n",
       "    </tr>\n",
       "    <tr>\n",
       "      <th>2</th>\n",
       "      <td>7</td>\n",
       "      <td>10055</td>\n",
       "      <td>0</td>\n",
       "      <td>0.0</td>\n",
       "      <td>0.0</td>\n",
       "      <td>0.0</td>\n",
       "    </tr>\n",
       "    <tr>\n",
       "      <th>3</th>\n",
       "      <td>7</td>\n",
       "      <td>11165</td>\n",
       "      <td>0</td>\n",
       "      <td>0.0</td>\n",
       "      <td>0.0</td>\n",
       "      <td>0.0</td>\n",
       "    </tr>\n",
       "    <tr>\n",
       "      <th>4</th>\n",
       "      <td>7</td>\n",
       "      <td>8075</td>\n",
       "      <td>0</td>\n",
       "      <td>0.0</td>\n",
       "      <td>0.0</td>\n",
       "      <td>0.0</td>\n",
       "    </tr>\n",
       "    <tr>\n",
       "      <th>...</th>\n",
       "      <td>...</td>\n",
       "      <td>...</td>\n",
       "      <td>...</td>\n",
       "      <td>...</td>\n",
       "      <td>...</td>\n",
       "      <td>...</td>\n",
       "    </tr>\n",
       "    <tr>\n",
       "      <th>8856956</th>\n",
       "      <td>57</td>\n",
       "      <td>16188</td>\n",
       "      <td>34</td>\n",
       "      <td>0.0</td>\n",
       "      <td>0.0</td>\n",
       "      <td>0.0</td>\n",
       "    </tr>\n",
       "    <tr>\n",
       "      <th>8856957</th>\n",
       "      <td>57</td>\n",
       "      <td>18454</td>\n",
       "      <td>34</td>\n",
       "      <td>0.0</td>\n",
       "      <td>0.0</td>\n",
       "      <td>0.0</td>\n",
       "    </tr>\n",
       "    <tr>\n",
       "      <th>8856958</th>\n",
       "      <td>57</td>\n",
       "      <td>18027</td>\n",
       "      <td>34</td>\n",
       "      <td>0.0</td>\n",
       "      <td>0.0</td>\n",
       "      <td>0.0</td>\n",
       "    </tr>\n",
       "    <tr>\n",
       "      <th>8856959</th>\n",
       "      <td>57</td>\n",
       "      <td>1041</td>\n",
       "      <td>34</td>\n",
       "      <td>0.0</td>\n",
       "      <td>0.0</td>\n",
       "      <td>0.0</td>\n",
       "    </tr>\n",
       "    <tr>\n",
       "      <th>8856960</th>\n",
       "      <td>5</td>\n",
       "      <td>5037</td>\n",
       "      <td>34</td>\n",
       "      <td>0.0</td>\n",
       "      <td>0.0</td>\n",
       "      <td>0.0</td>\n",
       "    </tr>\n",
       "  </tbody>\n",
       "</table>\n",
       "<p>8856961 rows × 6 columns</p>\n",
       "</div>"
      ],
      "text/plain": [
       "         shop_id  item_id  date_block_num  item_cnt_month  item_count  \\\n",
       "0             35     9613               0             0.0         0.0   \n",
       "1              7     9978               0             0.0         0.0   \n",
       "2              7    10055               0             0.0         0.0   \n",
       "3              7    11165               0             0.0         0.0   \n",
       "4              7     8075               0             0.0         0.0   \n",
       "...          ...      ...             ...             ...         ...   \n",
       "8856956       57    16188              34             0.0         0.0   \n",
       "8856957       57    18454              34             0.0         0.0   \n",
       "8856958       57    18027              34             0.0         0.0   \n",
       "8856959       57     1041              34             0.0         0.0   \n",
       "8856960        5     5037              34             0.0         0.0   \n",
       "\n",
       "         item_price_mean_month  \n",
       "0                          0.0  \n",
       "1                          0.0  \n",
       "2                          0.0  \n",
       "3                          0.0  \n",
       "4                          0.0  \n",
       "...                        ...  \n",
       "8856956                    0.0  \n",
       "8856957                    0.0  \n",
       "8856958                    0.0  \n",
       "8856959                    0.0  \n",
       "8856960                    0.0  \n",
       "\n",
       "[8856961 rows x 6 columns]"
      ]
     },
     "execution_count": 46,
     "metadata": {},
     "output_type": "execute_result"
    }
   ],
   "source": [
    "pd.concat([test,temp_train]).fillna(0).sort_values('date_block_num').reset_index().drop('index',axis = 1)"
   ]
  },
  {
   "cell_type": "code",
   "execution_count": 47,
   "id": "5990f86e",
   "metadata": {},
   "outputs": [],
   "source": [
    "sales_df = pd.concat([test,temp_train]).fillna(0).sort_values('date_block_num').reset_index().drop('index',axis = 1)"
   ]
  },
  {
   "cell_type": "markdown",
   "id": "55e4b82b",
   "metadata": {},
   "source": [
    "## merging item , city data"
   ]
  },
  {
   "cell_type": "code",
   "execution_count": 48,
   "id": "2a2af8ed",
   "metadata": {},
   "outputs": [],
   "source": [
    "sales_df = pd.merge(sales_df ,shops ,on =  'shop_id').drop(['shop_name','city_name'] ,axis =1)"
   ]
  },
  {
   "cell_type": "code",
   "execution_count": 49,
   "id": "359c422b",
   "metadata": {},
   "outputs": [
    {
     "data": {
      "text/html": [
       "<div>\n",
       "<style scoped>\n",
       "    .dataframe tbody tr th:only-of-type {\n",
       "        vertical-align: middle;\n",
       "    }\n",
       "\n",
       "    .dataframe tbody tr th {\n",
       "        vertical-align: top;\n",
       "    }\n",
       "\n",
       "    .dataframe thead th {\n",
       "        text-align: right;\n",
       "    }\n",
       "</style>\n",
       "<table border=\"1\" class=\"dataframe\">\n",
       "  <thead>\n",
       "    <tr style=\"text-align: right;\">\n",
       "      <th></th>\n",
       "      <th>shop_id</th>\n",
       "      <th>item_id</th>\n",
       "      <th>date_block_num</th>\n",
       "      <th>item_cnt_month</th>\n",
       "      <th>item_count</th>\n",
       "      <th>item_price_mean_month</th>\n",
       "      <th>city_id</th>\n",
       "    </tr>\n",
       "  </thead>\n",
       "  <tbody>\n",
       "    <tr>\n",
       "      <th>0</th>\n",
       "      <td>35</td>\n",
       "      <td>9613</td>\n",
       "      <td>0</td>\n",
       "      <td>0.0</td>\n",
       "      <td>0.0</td>\n",
       "      <td>0.0</td>\n",
       "      <td>15</td>\n",
       "    </tr>\n",
       "    <tr>\n",
       "      <th>1</th>\n",
       "      <td>35</td>\n",
       "      <td>4148</td>\n",
       "      <td>0</td>\n",
       "      <td>0.0</td>\n",
       "      <td>0.0</td>\n",
       "      <td>0.0</td>\n",
       "      <td>15</td>\n",
       "    </tr>\n",
       "    <tr>\n",
       "      <th>2</th>\n",
       "      <td>35</td>\n",
       "      <td>4128</td>\n",
       "      <td>0</td>\n",
       "      <td>1.0</td>\n",
       "      <td>1.0</td>\n",
       "      <td>899.0</td>\n",
       "      <td>15</td>\n",
       "    </tr>\n",
       "  </tbody>\n",
       "</table>\n",
       "</div>"
      ],
      "text/plain": [
       "   shop_id  item_id  date_block_num  item_cnt_month  item_count  \\\n",
       "0       35     9613               0             0.0         0.0   \n",
       "1       35     4148               0             0.0         0.0   \n",
       "2       35     4128               0             1.0         1.0   \n",
       "\n",
       "   item_price_mean_month  city_id  \n",
       "0                    0.0       15  \n",
       "1                    0.0       15  \n",
       "2                  899.0       15  "
      ]
     },
     "execution_count": 49,
     "metadata": {},
     "output_type": "execute_result"
    }
   ],
   "source": [
    "sales_df.head(3)"
   ]
  },
  {
   "cell_type": "code",
   "execution_count": 50,
   "id": "f5b9c08c",
   "metadata": {},
   "outputs": [
    {
     "data": {
      "text/html": [
       "<div>\n",
       "<style scoped>\n",
       "    .dataframe tbody tr th:only-of-type {\n",
       "        vertical-align: middle;\n",
       "    }\n",
       "\n",
       "    .dataframe tbody tr th {\n",
       "        vertical-align: top;\n",
       "    }\n",
       "\n",
       "    .dataframe thead th {\n",
       "        text-align: right;\n",
       "    }\n",
       "</style>\n",
       "<table border=\"1\" class=\"dataframe\">\n",
       "  <thead>\n",
       "    <tr style=\"text-align: right;\">\n",
       "      <th></th>\n",
       "      <th>item_id</th>\n",
       "      <th>item_category_id</th>\n",
       "      <th>high_category_id</th>\n",
       "    </tr>\n",
       "  </thead>\n",
       "  <tbody>\n",
       "    <tr>\n",
       "      <th>0</th>\n",
       "      <td>0</td>\n",
       "      <td>40</td>\n",
       "      <td>7</td>\n",
       "    </tr>\n",
       "    <tr>\n",
       "      <th>1</th>\n",
       "      <td>2</td>\n",
       "      <td>40</td>\n",
       "      <td>7</td>\n",
       "    </tr>\n",
       "    <tr>\n",
       "      <th>2</th>\n",
       "      <td>3</td>\n",
       "      <td>40</td>\n",
       "      <td>7</td>\n",
       "    </tr>\n",
       "  </tbody>\n",
       "</table>\n",
       "</div>"
      ],
      "text/plain": [
       "   item_id  item_category_id  high_category_id\n",
       "0        0                40                 7\n",
       "1        2                40                 7\n",
       "2        3                40                 7"
      ]
     },
     "execution_count": 50,
     "metadata": {},
     "output_type": "execute_result"
    }
   ],
   "source": [
    "item_high_categories = items.merge(item_categories).drop(['item_name','item_category_name','high_category_name'],axis = 1)\n",
    "item_high_categories.head(3)"
   ]
  },
  {
   "cell_type": "code",
   "execution_count": 51,
   "id": "3dde28c3",
   "metadata": {},
   "outputs": [],
   "source": [
    "sales_df = pd.merge(sales_df ,item_high_categories ,on =  'item_id')"
   ]
  },
  {
   "cell_type": "markdown",
   "id": "3dad6f18",
   "metadata": {},
   "source": [
    "### add item_revenue_month"
   ]
  },
  {
   "cell_type": "code",
   "execution_count": 52,
   "id": "71fe1c4c",
   "metadata": {},
   "outputs": [],
   "source": [
    "sales_df['item_revenue_month'] = sales_df.item_cnt_month * sales_df.item_price_mean_month"
   ]
  },
  {
   "cell_type": "code",
   "execution_count": 53,
   "id": "6aac12e2",
   "metadata": {},
   "outputs": [
    {
     "data": {
      "text/html": [
       "<div>\n",
       "<style scoped>\n",
       "    .dataframe tbody tr th:only-of-type {\n",
       "        vertical-align: middle;\n",
       "    }\n",
       "\n",
       "    .dataframe tbody tr th {\n",
       "        vertical-align: top;\n",
       "    }\n",
       "\n",
       "    .dataframe thead th {\n",
       "        text-align: right;\n",
       "    }\n",
       "</style>\n",
       "<table border=\"1\" class=\"dataframe\">\n",
       "  <thead>\n",
       "    <tr style=\"text-align: right;\">\n",
       "      <th></th>\n",
       "      <th>shop_id</th>\n",
       "      <th>item_id</th>\n",
       "      <th>date_block_num</th>\n",
       "      <th>item_cnt_month</th>\n",
       "      <th>item_count</th>\n",
       "      <th>item_price_mean_month</th>\n",
       "      <th>city_id</th>\n",
       "      <th>item_category_id</th>\n",
       "      <th>high_category_id</th>\n",
       "      <th>item_revenue_month</th>\n",
       "    </tr>\n",
       "  </thead>\n",
       "  <tbody>\n",
       "    <tr>\n",
       "      <th>0</th>\n",
       "      <td>35</td>\n",
       "      <td>9613</td>\n",
       "      <td>0</td>\n",
       "      <td>0.0</td>\n",
       "      <td>0.0</td>\n",
       "      <td>0.0</td>\n",
       "      <td>15</td>\n",
       "      <td>37</td>\n",
       "      <td>7</td>\n",
       "      <td>0.0</td>\n",
       "    </tr>\n",
       "    <tr>\n",
       "      <th>1</th>\n",
       "      <td>35</td>\n",
       "      <td>9613</td>\n",
       "      <td>1</td>\n",
       "      <td>0.0</td>\n",
       "      <td>0.0</td>\n",
       "      <td>0.0</td>\n",
       "      <td>15</td>\n",
       "      <td>37</td>\n",
       "      <td>7</td>\n",
       "      <td>0.0</td>\n",
       "    </tr>\n",
       "    <tr>\n",
       "      <th>2</th>\n",
       "      <td>35</td>\n",
       "      <td>9613</td>\n",
       "      <td>2</td>\n",
       "      <td>0.0</td>\n",
       "      <td>0.0</td>\n",
       "      <td>0.0</td>\n",
       "      <td>15</td>\n",
       "      <td>37</td>\n",
       "      <td>7</td>\n",
       "      <td>0.0</td>\n",
       "    </tr>\n",
       "  </tbody>\n",
       "</table>\n",
       "</div>"
      ],
      "text/plain": [
       "   shop_id  item_id  date_block_num  item_cnt_month  item_count  \\\n",
       "0       35     9613               0             0.0         0.0   \n",
       "1       35     9613               1             0.0         0.0   \n",
       "2       35     9613               2             0.0         0.0   \n",
       "\n",
       "   item_price_mean_month  city_id  item_category_id  high_category_id  \\\n",
       "0                    0.0       15                37                 7   \n",
       "1                    0.0       15                37                 7   \n",
       "2                    0.0       15                37                 7   \n",
       "\n",
       "   item_revenue_month  \n",
       "0                 0.0  \n",
       "1                 0.0  \n",
       "2                 0.0  "
      ]
     },
     "execution_count": 53,
     "metadata": {},
     "output_type": "execute_result"
    }
   ],
   "source": [
    "sales_df.head(3)"
   ]
  },
  {
   "cell_type": "markdown",
   "id": "7c36500d",
   "metadata": {},
   "source": [
    "### add_month"
   ]
  },
  {
   "cell_type": "code",
   "execution_count": 54,
   "id": "1adcf554",
   "metadata": {},
   "outputs": [],
   "source": [
    "sales_df['month'] = ((sales_df.date_block_num % 12) +1).astype(np.int8)"
   ]
  },
  {
   "cell_type": "markdown",
   "id": "c873314f",
   "metadata": {},
   "source": [
    "## 시각화"
   ]
  },
  {
   "cell_type": "code",
   "execution_count": 55,
   "id": "d19fbbc5",
   "metadata": {},
   "outputs": [],
   "source": [
    "def draw_x_group_y_sum_barplot(x, y):\n",
    "    temp_data_for_plot = \\\n",
    "    sales_df.pivot_table(index = x , values = y , aggfunc = np.sum).reset_index()\n",
    "    plt.figure(figsize=(20,20))\n",
    "    sns.barplot(x= x,\n",
    "                y = y, \n",
    "                data = temp_data_for_plot)\n",
    "    plt.title(f'{y}___per___{x}')\n",
    "    plt.rc.fontsize = 20\n",
    "    plt.show()"
   ]
  },
  {
   "cell_type": "markdown",
   "id": "61b9008d",
   "metadata": {},
   "source": [
    "### date_block_num 별 팔린 횟수"
   ]
  },
  {
   "cell_type": "code",
   "execution_count": 56,
   "id": "8a42df37",
   "metadata": {},
   "outputs": [
    {
     "data": {
      "image/png": "[encoded data removed]",
      "text/plain": [
       "<Figure size 1440x1440 with 1 Axes>"
      ]
     },
     "metadata": {
      "needs_background": "light"
     },
     "output_type": "display_data"
    }
   ],
   "source": [
    "draw_x_group_y_sum_barplot('date_block_num','item_cnt_month')"
   ]
  },
  {
   "cell_type": "markdown",
   "id": "038a3728",
   "metadata": {},
   "source": [
    "### 달별 팔린 횟수 "
   ]
  },
  {
   "cell_type": "code",
   "execution_count": 57,
   "id": "51b723ab",
   "metadata": {},
   "outputs": [
    {
     "data": {
      "image/png": "[encoded data removed]",
      "text/plain": [
       "<Figure size 1440x1440 with 1 Axes>"
      ]
     },
     "metadata": {
      "needs_background": "light"
     },
     "output_type": "display_data"
    }
   ],
   "source": [
    "draw_x_group_y_sum_barplot('month','item_cnt_month')"
   ]
  },
  {
   "cell_type": "code",
   "execution_count": 58,
   "id": "a7d22356",
   "metadata": {},
   "outputs": [],
   "source": [
    "def draw_x_group_y_sum_regplot(x, y):\n",
    "    plt.figure(figsize=(20,20))\n",
    "    sns.regplot(x= x,\n",
    "                y = y, \n",
    "                data = sales_df)\n",
    "    plt.title(f'{y}___per___{x}')\n",
    "    plt.rc.fontsize = 20\n",
    "    plt.show()"
   ]
  },
  {
   "cell_type": "code",
   "execution_count": null,
   "id": "575b009f",
   "metadata": {},
   "outputs": [],
   "source": []
  },
  {
   "cell_type": "markdown",
   "id": "5798c78f",
   "metadata": {},
   "source": [
    "## add_mean_feature"
   ]
  },
  {
   "cell_type": "code",
   "execution_count": 59,
   "id": "78d15a3e",
   "metadata": {},
   "outputs": [],
   "source": [
    "def add_mean_feature(df , base_feature_names ,num_feature_names ,mean_feature_names ):\n",
    "    '''\n",
    "    base_feature_name를 기준으로 mean_feature_names의 값들을 \n",
    "    한달 평균을 구해서 df에 병합해주는 함수\n",
    "    '''\n",
    "    df_pivot  = df[list(base_feature_names) + list(num_feature_names)]\n",
    "    col_name_front = ''\n",
    "    for base_feature_name in base_feature_names:\n",
    "        if base_feature_name !='date_block_num':\n",
    "            col_name_front += '_'.join(base_feature_name.split('_')[:-1])+'_'\n",
    "\n",
    "    for num_feature_name in num_feature_names:\n",
    "        col_name = col_name_front+num_feature_name.split('_')[1]+'_month_mean'\n",
    "        df_pivot = df_pivot.rename(columns = {num_feature_name:col_name})\n",
    "        print(f'{col_name}이 생성되었습니다.')\n",
    "        mean_feature_names.append(col_name)\n",
    "\n",
    "    df_pivot = df_pivot.pivot_table(index = base_feature_names)\n",
    "    df = df.merge(df_pivot , on =base_feature_names)\n",
    "    return df , mean_feature_names"
   ]
  },
  {
   "cell_type": "code",
   "execution_count": 60,
   "id": "9a8e5d6b",
   "metadata": {},
   "outputs": [],
   "source": [
    "base_feature_names = ['date_block_num','shop_id','item_id']\n",
    "base_item_feature_names = ['item_id','item_category_id','high_category_id']\n",
    "base_place_feature_names = ['shop_id','city_id']\n",
    "catagory_feature_names = list(set(base_feature_names + base_item_feature_names + base_place_feature_names+[\"month\"]))\n",
    "base_item_feature_names = ['high_category_id']\n",
    "base_place_feature_names = ['city_id']\n",
    "num_feature_names = ['item_cnt_month','item_revenue_month','item_count']\n",
    "mean_feature_names = []"
   ]
  },
  {
   "cell_type": "code",
   "execution_count": 61,
   "id": "0e453bb7",
   "metadata": {},
   "outputs": [
    {
     "name": "stdout",
     "output_type": "stream",
     "text": [
      "city_high_category_cnt_month_mean이 생성되었습니다.\n",
      "city_high_category_revenue_month_mean이 생성되었습니다.\n",
      "city_high_category_count_month_mean이 생성되었습니다.\n"
     ]
    }
   ],
   "source": [
    "for place in base_place_feature_names:\n",
    "    for item in base_item_feature_names:\n",
    "        base_feature_names = ['date_block_num', place,item]\n",
    "        sales_df,mean_feature_names = add_mean_feature(sales_df ,base_feature_names,num_feature_names,mean_feature_names)"
   ]
  },
  {
   "cell_type": "code",
   "execution_count": 62,
   "id": "d4c93362",
   "metadata": {},
   "outputs": [
    {
     "data": {
      "text/plain": [
       "Index(['shop_id', 'item_id', 'date_block_num', 'item_cnt_month', 'item_count',\n",
       "       'item_price_mean_month', 'city_id', 'item_category_id',\n",
       "       'high_category_id', 'item_revenue_month', 'month',\n",
       "       'city_high_category_cnt_month_mean',\n",
       "       'city_high_category_count_month_mean',\n",
       "       'city_high_category_revenue_month_mean'],\n",
       "      dtype='object')"
      ]
     },
     "execution_count": 62,
     "metadata": {},
     "output_type": "execute_result"
    }
   ],
   "source": [
    "sales_df.columns"
   ]
  },
  {
   "cell_type": "code",
   "execution_count": 63,
   "id": "db28d204",
   "metadata": {},
   "outputs": [
    {
     "data": {
      "image/png": "[encoded data removed]",
      "text/plain": [
       "<Figure size 1440x1440 with 2 Axes>"
      ]
     },
     "metadata": {
      "needs_background": "light"
     },
     "output_type": "display_data"
    }
   ],
   "source": [
    "sales_corr = sales_df.drop(columns = catagory_feature_names).corr() \n",
    "plt.figure(figsize=(20,20))\n",
    "sns.heatmap(sales_corr, annot=True)\n",
    "plt.show()"
   ]
  },
  {
   "cell_type": "code",
   "execution_count": 64,
   "id": "ba35b2ca",
   "metadata": {},
   "outputs": [],
   "source": [
    "def find_high_corr_location(df_corr , threshold = 0.9):\n",
    "    cols = df_corr.columns\n",
    "    high_corr_location = []\n",
    "    for col in cols :\n",
    "        for index in cols:\n",
    "            df_corr_data = [index,col,df_corr.loc[index,col]]\n",
    "            df_corr_data_2 = [col,index,df_corr.loc[col,index]]\n",
    "            if (df_corr_data[2] >threshold ) &  (index != col) &(df_corr_data_2 not in high_corr_location):\n",
    "                high_corr_location.append(df_corr_data)\n",
    "                print(f'{df_corr_data[0]}와{df_corr_data[1]}는 {df_corr_data[2]}의 상관계수를 가집니다.\\n')\n",
    "    return high_corr_location\n",
    "        "
   ]
  },
  {
   "cell_type": "code",
   "execution_count": 65,
   "id": "7f422567",
   "metadata": {},
   "outputs": [
    {
     "data": {
      "text/plain": [
       "[]"
      ]
     },
     "execution_count": 65,
     "metadata": {},
     "output_type": "execute_result"
    }
   ],
   "source": [
    "find_high_corr_location(sales_df.drop(columns = catagory_feature_names).corr() ,0.9)"
   ]
  },
  {
   "cell_type": "code",
   "execution_count": 67,
   "id": "ab840459",
   "metadata": {},
   "outputs": [],
   "source": [
    "# drop_names =\\\n",
    "# ['shop_item_cnt_month_mean',\n",
    "#  'shop_item_count_month_mean',\n",
    "#  'shop_item_revenue_month_mean',\n",
    "#  'shop_item_category_count_month_mean',\n",
    "#  'shop_item_category_revenue_month_mean',\n",
    "#  'shop_high_category_cnt_month_mean',\n",
    "#  'shop_high_category_revenue_month_mean',\n",
    "# 'city_item_cnt_month_mean',\n",
    "# 'city_item_revenue_month_mean']\n",
    "# sales_df.drop(columns = drop_names ,axis =1)\n",
    "# mean_feature_names = list(set(mean_feature_names) - set(drop_names))"
   ]
  },
  {
   "cell_type": "code",
   "execution_count": 70,
   "id": "e4c539fd",
   "metadata": {},
   "outputs": [],
   "source": [
    "# sales_df = sales_df.drop(columns = drop_names)"
   ]
  },
  {
   "cell_type": "code",
   "execution_count": 71,
   "id": "a53bc2cf",
   "metadata": {},
   "outputs": [
    {
     "name": "stdout",
     "output_type": "stream",
     "text": [
      "Mem. usage decreased to 287.19 Mb (0.0% reduction)\n"
     ]
    }
   ],
   "source": [
    "sales_df  =reduce_mem_usage(sales_df)"
   ]
  },
  {
   "cell_type": "code",
   "execution_count": 72,
   "id": "a569c5f6",
   "metadata": {},
   "outputs": [
    {
     "data": {
      "text/plain": [
       "shop_id                                     int8\n",
       "item_id                                    int16\n",
       "date_block_num                              int8\n",
       "item_cnt_month                           float16\n",
       "item_count                               float16\n",
       "item_price_mean_month                    float16\n",
       "city_id                                     int8\n",
       "item_category_id                            int8\n",
       "high_category_id                            int8\n",
       "item_revenue_month                       float32\n",
       "month                                       int8\n",
       "city_high_category_cnt_month_mean        float16\n",
       "city_high_category_count_month_mean      float16\n",
       "city_high_category_revenue_month_mean    float32\n",
       "dtype: object"
      ]
     },
     "execution_count": 72,
     "metadata": {},
     "output_type": "execute_result"
    }
   ],
   "source": [
    "sales_df.dtypes"
   ]
  },
  {
   "cell_type": "code",
   "execution_count": 73,
   "id": "1c9040fc",
   "metadata": {},
   "outputs": [
    {
     "data": {
      "text/html": [
       "<div>\n",
       "<style scoped>\n",
       "    .dataframe tbody tr th:only-of-type {\n",
       "        vertical-align: middle;\n",
       "    }\n",
       "\n",
       "    .dataframe tbody tr th {\n",
       "        vertical-align: top;\n",
       "    }\n",
       "\n",
       "    .dataframe thead th {\n",
       "        text-align: right;\n",
       "    }\n",
       "</style>\n",
       "<table border=\"1\" class=\"dataframe\">\n",
       "  <thead>\n",
       "    <tr style=\"text-align: right;\">\n",
       "      <th></th>\n",
       "      <th>0</th>\n",
       "      <th>1</th>\n",
       "      <th>2</th>\n",
       "      <th>3</th>\n",
       "      <th>4</th>\n",
       "      <th>5</th>\n",
       "      <th>6</th>\n",
       "      <th>7</th>\n",
       "      <th>8</th>\n",
       "      <th>9</th>\n",
       "      <th>...</th>\n",
       "      <th>8856951</th>\n",
       "      <th>8856952</th>\n",
       "      <th>8856953</th>\n",
       "      <th>8856954</th>\n",
       "      <th>8856955</th>\n",
       "      <th>8856956</th>\n",
       "      <th>8856957</th>\n",
       "      <th>8856958</th>\n",
       "      <th>8856959</th>\n",
       "      <th>8856960</th>\n",
       "    </tr>\n",
       "  </thead>\n",
       "  <tbody>\n",
       "    <tr>\n",
       "      <th>shop_id</th>\n",
       "      <td>35.000000</td>\n",
       "      <td>35.000000</td>\n",
       "      <td>35.000000</td>\n",
       "      <td>35.000000</td>\n",
       "      <td>35.000000</td>\n",
       "      <td>35.000000</td>\n",
       "      <td>35.000000</td>\n",
       "      <td>35.000000</td>\n",
       "      <td>35.000000</td>\n",
       "      <td>35.000000</td>\n",
       "      <td>...</td>\n",
       "      <td>36.0</td>\n",
       "      <td>12.0</td>\n",
       "      <td>47.0</td>\n",
       "      <td>50.0</td>\n",
       "      <td>49.0</td>\n",
       "      <td>56.0</td>\n",
       "      <td>59.0</td>\n",
       "      <td>5.0</td>\n",
       "      <td>55.0</td>\n",
       "      <td>48.0</td>\n",
       "    </tr>\n",
       "    <tr>\n",
       "      <th>item_id</th>\n",
       "      <td>9613.000000</td>\n",
       "      <td>1273.000000</td>\n",
       "      <td>1112.000000</td>\n",
       "      <td>8155.000000</td>\n",
       "      <td>8147.000000</td>\n",
       "      <td>8096.000000</td>\n",
       "      <td>8093.000000</td>\n",
       "      <td>8092.000000</td>\n",
       "      <td>7709.000000</td>\n",
       "      <td>5527.000000</td>\n",
       "      <td>...</td>\n",
       "      <td>5441.0</td>\n",
       "      <td>5441.0</td>\n",
       "      <td>5441.0</td>\n",
       "      <td>5441.0</td>\n",
       "      <td>5441.0</td>\n",
       "      <td>5441.0</td>\n",
       "      <td>5441.0</td>\n",
       "      <td>5441.0</td>\n",
       "      <td>5441.0</td>\n",
       "      <td>5441.0</td>\n",
       "    </tr>\n",
       "    <tr>\n",
       "      <th>date_block_num</th>\n",
       "      <td>0.000000</td>\n",
       "      <td>0.000000</td>\n",
       "      <td>0.000000</td>\n",
       "      <td>0.000000</td>\n",
       "      <td>0.000000</td>\n",
       "      <td>0.000000</td>\n",
       "      <td>0.000000</td>\n",
       "      <td>0.000000</td>\n",
       "      <td>0.000000</td>\n",
       "      <td>0.000000</td>\n",
       "      <td>...</td>\n",
       "      <td>34.0</td>\n",
       "      <td>34.0</td>\n",
       "      <td>34.0</td>\n",
       "      <td>34.0</td>\n",
       "      <td>34.0</td>\n",
       "      <td>34.0</td>\n",
       "      <td>34.0</td>\n",
       "      <td>34.0</td>\n",
       "      <td>34.0</td>\n",
       "      <td>34.0</td>\n",
       "    </tr>\n",
       "    <tr>\n",
       "      <th>item_cnt_month</th>\n",
       "      <td>0.000000</td>\n",
       "      <td>0.000000</td>\n",
       "      <td>0.000000</td>\n",
       "      <td>0.000000</td>\n",
       "      <td>0.000000</td>\n",
       "      <td>1.000000</td>\n",
       "      <td>2.000000</td>\n",
       "      <td>0.000000</td>\n",
       "      <td>0.000000</td>\n",
       "      <td>0.000000</td>\n",
       "      <td>...</td>\n",
       "      <td>0.0</td>\n",
       "      <td>0.0</td>\n",
       "      <td>0.0</td>\n",
       "      <td>0.0</td>\n",
       "      <td>0.0</td>\n",
       "      <td>0.0</td>\n",
       "      <td>0.0</td>\n",
       "      <td>0.0</td>\n",
       "      <td>0.0</td>\n",
       "      <td>0.0</td>\n",
       "    </tr>\n",
       "    <tr>\n",
       "      <th>item_count</th>\n",
       "      <td>0.000000</td>\n",
       "      <td>0.000000</td>\n",
       "      <td>0.000000</td>\n",
       "      <td>0.000000</td>\n",
       "      <td>0.000000</td>\n",
       "      <td>1.000000</td>\n",
       "      <td>2.000000</td>\n",
       "      <td>0.000000</td>\n",
       "      <td>0.000000</td>\n",
       "      <td>0.000000</td>\n",
       "      <td>...</td>\n",
       "      <td>0.0</td>\n",
       "      <td>0.0</td>\n",
       "      <td>0.0</td>\n",
       "      <td>0.0</td>\n",
       "      <td>0.0</td>\n",
       "      <td>0.0</td>\n",
       "      <td>0.0</td>\n",
       "      <td>0.0</td>\n",
       "      <td>0.0</td>\n",
       "      <td>0.0</td>\n",
       "    </tr>\n",
       "    <tr>\n",
       "      <th>item_price_mean_month</th>\n",
       "      <td>0.000000</td>\n",
       "      <td>0.000000</td>\n",
       "      <td>0.000000</td>\n",
       "      <td>0.000000</td>\n",
       "      <td>0.000000</td>\n",
       "      <td>379.000000</td>\n",
       "      <td>1329.000000</td>\n",
       "      <td>0.000000</td>\n",
       "      <td>0.000000</td>\n",
       "      <td>0.000000</td>\n",
       "      <td>...</td>\n",
       "      <td>0.0</td>\n",
       "      <td>0.0</td>\n",
       "      <td>0.0</td>\n",
       "      <td>0.0</td>\n",
       "      <td>0.0</td>\n",
       "      <td>0.0</td>\n",
       "      <td>0.0</td>\n",
       "      <td>0.0</td>\n",
       "      <td>0.0</td>\n",
       "      <td>0.0</td>\n",
       "    </tr>\n",
       "    <tr>\n",
       "      <th>city_id</th>\n",
       "      <td>15.000000</td>\n",
       "      <td>15.000000</td>\n",
       "      <td>15.000000</td>\n",
       "      <td>15.000000</td>\n",
       "      <td>15.000000</td>\n",
       "      <td>15.000000</td>\n",
       "      <td>15.000000</td>\n",
       "      <td>15.000000</td>\n",
       "      <td>15.000000</td>\n",
       "      <td>15.000000</td>\n",
       "      <td>...</td>\n",
       "      <td>16.0</td>\n",
       "      <td>7.0</td>\n",
       "      <td>22.0</td>\n",
       "      <td>24.0</td>\n",
       "      <td>24.0</td>\n",
       "      <td>28.0</td>\n",
       "      <td>30.0</td>\n",
       "      <td>3.0</td>\n",
       "      <td>27.0</td>\n",
       "      <td>23.0</td>\n",
       "    </tr>\n",
       "    <tr>\n",
       "      <th>item_category_id</th>\n",
       "      <td>37.000000</td>\n",
       "      <td>37.000000</td>\n",
       "      <td>37.000000</td>\n",
       "      <td>38.000000</td>\n",
       "      <td>40.000000</td>\n",
       "      <td>40.000000</td>\n",
       "      <td>38.000000</td>\n",
       "      <td>40.000000</td>\n",
       "      <td>40.000000</td>\n",
       "      <td>40.000000</td>\n",
       "      <td>...</td>\n",
       "      <td>0.0</td>\n",
       "      <td>0.0</td>\n",
       "      <td>0.0</td>\n",
       "      <td>0.0</td>\n",
       "      <td>0.0</td>\n",
       "      <td>0.0</td>\n",
       "      <td>0.0</td>\n",
       "      <td>0.0</td>\n",
       "      <td>0.0</td>\n",
       "      <td>0.0</td>\n",
       "    </tr>\n",
       "    <tr>\n",
       "      <th>high_category_id</th>\n",
       "      <td>7.000000</td>\n",
       "      <td>7.000000</td>\n",
       "      <td>7.000000</td>\n",
       "      <td>7.000000</td>\n",
       "      <td>7.000000</td>\n",
       "      <td>7.000000</td>\n",
       "      <td>7.000000</td>\n",
       "      <td>7.000000</td>\n",
       "      <td>7.000000</td>\n",
       "      <td>7.000000</td>\n",
       "      <td>...</td>\n",
       "      <td>0.0</td>\n",
       "      <td>0.0</td>\n",
       "      <td>0.0</td>\n",
       "      <td>0.0</td>\n",
       "      <td>0.0</td>\n",
       "      <td>0.0</td>\n",
       "      <td>0.0</td>\n",
       "      <td>0.0</td>\n",
       "      <td>0.0</td>\n",
       "      <td>0.0</td>\n",
       "    </tr>\n",
       "    <tr>\n",
       "      <th>item_revenue_month</th>\n",
       "      <td>0.000000</td>\n",
       "      <td>0.000000</td>\n",
       "      <td>0.000000</td>\n",
       "      <td>0.000000</td>\n",
       "      <td>0.000000</td>\n",
       "      <td>379.000000</td>\n",
       "      <td>2657.800049</td>\n",
       "      <td>0.000000</td>\n",
       "      <td>0.000000</td>\n",
       "      <td>0.000000</td>\n",
       "      <td>...</td>\n",
       "      <td>0.0</td>\n",
       "      <td>0.0</td>\n",
       "      <td>0.0</td>\n",
       "      <td>0.0</td>\n",
       "      <td>0.0</td>\n",
       "      <td>0.0</td>\n",
       "      <td>0.0</td>\n",
       "      <td>0.0</td>\n",
       "      <td>0.0</td>\n",
       "      <td>0.0</td>\n",
       "    </tr>\n",
       "    <tr>\n",
       "      <th>month</th>\n",
       "      <td>1.000000</td>\n",
       "      <td>1.000000</td>\n",
       "      <td>1.000000</td>\n",
       "      <td>1.000000</td>\n",
       "      <td>1.000000</td>\n",
       "      <td>1.000000</td>\n",
       "      <td>1.000000</td>\n",
       "      <td>1.000000</td>\n",
       "      <td>1.000000</td>\n",
       "      <td>1.000000</td>\n",
       "      <td>...</td>\n",
       "      <td>11.0</td>\n",
       "      <td>11.0</td>\n",
       "      <td>11.0</td>\n",
       "      <td>11.0</td>\n",
       "      <td>11.0</td>\n",
       "      <td>11.0</td>\n",
       "      <td>11.0</td>\n",
       "      <td>11.0</td>\n",
       "      <td>11.0</td>\n",
       "      <td>11.0</td>\n",
       "    </tr>\n",
       "    <tr>\n",
       "      <th>city_high_category_cnt_month_mean</th>\n",
       "      <td>0.178345</td>\n",
       "      <td>0.178345</td>\n",
       "      <td>0.178345</td>\n",
       "      <td>0.178345</td>\n",
       "      <td>0.178345</td>\n",
       "      <td>0.178345</td>\n",
       "      <td>0.178345</td>\n",
       "      <td>0.178345</td>\n",
       "      <td>0.178345</td>\n",
       "      <td>0.178345</td>\n",
       "      <td>...</td>\n",
       "      <td>0.0</td>\n",
       "      <td>0.0</td>\n",
       "      <td>0.0</td>\n",
       "      <td>0.0</td>\n",
       "      <td>0.0</td>\n",
       "      <td>0.0</td>\n",
       "      <td>0.0</td>\n",
       "      <td>0.0</td>\n",
       "      <td>0.0</td>\n",
       "      <td>0.0</td>\n",
       "    </tr>\n",
       "    <tr>\n",
       "      <th>city_high_category_count_month_mean</th>\n",
       "      <td>0.164795</td>\n",
       "      <td>0.164795</td>\n",
       "      <td>0.164795</td>\n",
       "      <td>0.164795</td>\n",
       "      <td>0.164795</td>\n",
       "      <td>0.164795</td>\n",
       "      <td>0.164795</td>\n",
       "      <td>0.164795</td>\n",
       "      <td>0.164795</td>\n",
       "      <td>0.164795</td>\n",
       "      <td>...</td>\n",
       "      <td>0.0</td>\n",
       "      <td>0.0</td>\n",
       "      <td>0.0</td>\n",
       "      <td>0.0</td>\n",
       "      <td>0.0</td>\n",
       "      <td>0.0</td>\n",
       "      <td>0.0</td>\n",
       "      <td>0.0</td>\n",
       "      <td>0.0</td>\n",
       "      <td>0.0</td>\n",
       "    </tr>\n",
       "    <tr>\n",
       "      <th>city_high_category_revenue_month_mean</th>\n",
       "      <td>66.864189</td>\n",
       "      <td>66.864189</td>\n",
       "      <td>66.864189</td>\n",
       "      <td>66.864189</td>\n",
       "      <td>66.864189</td>\n",
       "      <td>66.864189</td>\n",
       "      <td>66.864189</td>\n",
       "      <td>66.864189</td>\n",
       "      <td>66.864189</td>\n",
       "      <td>66.864189</td>\n",
       "      <td>...</td>\n",
       "      <td>0.0</td>\n",
       "      <td>0.0</td>\n",
       "      <td>0.0</td>\n",
       "      <td>0.0</td>\n",
       "      <td>0.0</td>\n",
       "      <td>0.0</td>\n",
       "      <td>0.0</td>\n",
       "      <td>0.0</td>\n",
       "      <td>0.0</td>\n",
       "      <td>0.0</td>\n",
       "    </tr>\n",
       "  </tbody>\n",
       "</table>\n",
       "<p>14 rows × 8856961 columns</p>\n",
       "</div>"
      ],
      "text/plain": [
       "                                           0            1            2        \\\n",
       "shop_id                                  35.000000    35.000000    35.000000   \n",
       "item_id                                9613.000000  1273.000000  1112.000000   \n",
       "date_block_num                            0.000000     0.000000     0.000000   \n",
       "item_cnt_month                            0.000000     0.000000     0.000000   \n",
       "item_count                                0.000000     0.000000     0.000000   \n",
       "item_price_mean_month                     0.000000     0.000000     0.000000   \n",
       "city_id                                  15.000000    15.000000    15.000000   \n",
       "item_category_id                         37.000000    37.000000    37.000000   \n",
       "high_category_id                          7.000000     7.000000     7.000000   \n",
       "item_revenue_month                        0.000000     0.000000     0.000000   \n",
       "month                                     1.000000     1.000000     1.000000   \n",
       "city_high_category_cnt_month_mean         0.178345     0.178345     0.178345   \n",
       "city_high_category_count_month_mean       0.164795     0.164795     0.164795   \n",
       "city_high_category_revenue_month_mean    66.864189    66.864189    66.864189   \n",
       "\n",
       "                                           3            4            5        \\\n",
       "shop_id                                  35.000000    35.000000    35.000000   \n",
       "item_id                                8155.000000  8147.000000  8096.000000   \n",
       "date_block_num                            0.000000     0.000000     0.000000   \n",
       "item_cnt_month                            0.000000     0.000000     1.000000   \n",
       "item_count                                0.000000     0.000000     1.000000   \n",
       "item_price_mean_month                     0.000000     0.000000   379.000000   \n",
       "city_id                                  15.000000    15.000000    15.000000   \n",
       "item_category_id                         38.000000    40.000000    40.000000   \n",
       "high_category_id                          7.000000     7.000000     7.000000   \n",
       "item_revenue_month                        0.000000     0.000000   379.000000   \n",
       "month                                     1.000000     1.000000     1.000000   \n",
       "city_high_category_cnt_month_mean         0.178345     0.178345     0.178345   \n",
       "city_high_category_count_month_mean       0.164795     0.164795     0.164795   \n",
       "city_high_category_revenue_month_mean    66.864189    66.864189    66.864189   \n",
       "\n",
       "                                           6            7            8        \\\n",
       "shop_id                                  35.000000    35.000000    35.000000   \n",
       "item_id                                8093.000000  8092.000000  7709.000000   \n",
       "date_block_num                            0.000000     0.000000     0.000000   \n",
       "item_cnt_month                            2.000000     0.000000     0.000000   \n",
       "item_count                                2.000000     0.000000     0.000000   \n",
       "item_price_mean_month                  1329.000000     0.000000     0.000000   \n",
       "city_id                                  15.000000    15.000000    15.000000   \n",
       "item_category_id                         38.000000    40.000000    40.000000   \n",
       "high_category_id                          7.000000     7.000000     7.000000   \n",
       "item_revenue_month                     2657.800049     0.000000     0.000000   \n",
       "month                                     1.000000     1.000000     1.000000   \n",
       "city_high_category_cnt_month_mean         0.178345     0.178345     0.178345   \n",
       "city_high_category_count_month_mean       0.164795     0.164795     0.164795   \n",
       "city_high_category_revenue_month_mean    66.864189    66.864189    66.864189   \n",
       "\n",
       "                                           9        ...  8856951  8856952  \\\n",
       "shop_id                                  35.000000  ...     36.0     12.0   \n",
       "item_id                                5527.000000  ...   5441.0   5441.0   \n",
       "date_block_num                            0.000000  ...     34.0     34.0   \n",
       "item_cnt_month                            0.000000  ...      0.0      0.0   \n",
       "item_count                                0.000000  ...      0.0      0.0   \n",
       "item_price_mean_month                     0.000000  ...      0.0      0.0   \n",
       "city_id                                  15.000000  ...     16.0      7.0   \n",
       "item_category_id                         40.000000  ...      0.0      0.0   \n",
       "high_category_id                          7.000000  ...      0.0      0.0   \n",
       "item_revenue_month                        0.000000  ...      0.0      0.0   \n",
       "month                                     1.000000  ...     11.0     11.0   \n",
       "city_high_category_cnt_month_mean         0.178345  ...      0.0      0.0   \n",
       "city_high_category_count_month_mean       0.164795  ...      0.0      0.0   \n",
       "city_high_category_revenue_month_mean    66.864189  ...      0.0      0.0   \n",
       "\n",
       "                                       8856953  8856954  8856955  8856956  \\\n",
       "shop_id                                   47.0     50.0     49.0     56.0   \n",
       "item_id                                 5441.0   5441.0   5441.0   5441.0   \n",
       "date_block_num                            34.0     34.0     34.0     34.0   \n",
       "item_cnt_month                             0.0      0.0      0.0      0.0   \n",
       "item_count                                 0.0      0.0      0.0      0.0   \n",
       "item_price_mean_month                      0.0      0.0      0.0      0.0   \n",
       "city_id                                   22.0     24.0     24.0     28.0   \n",
       "item_category_id                           0.0      0.0      0.0      0.0   \n",
       "high_category_id                           0.0      0.0      0.0      0.0   \n",
       "item_revenue_month                         0.0      0.0      0.0      0.0   \n",
       "month                                     11.0     11.0     11.0     11.0   \n",
       "city_high_category_cnt_month_mean          0.0      0.0      0.0      0.0   \n",
       "city_high_category_count_month_mean        0.0      0.0      0.0      0.0   \n",
       "city_high_category_revenue_month_mean      0.0      0.0      0.0      0.0   \n",
       "\n",
       "                                       8856957  8856958  8856959  8856960  \n",
       "shop_id                                   59.0      5.0     55.0     48.0  \n",
       "item_id                                 5441.0   5441.0   5441.0   5441.0  \n",
       "date_block_num                            34.0     34.0     34.0     34.0  \n",
       "item_cnt_month                             0.0      0.0      0.0      0.0  \n",
       "item_count                                 0.0      0.0      0.0      0.0  \n",
       "item_price_mean_month                      0.0      0.0      0.0      0.0  \n",
       "city_id                                   30.0      3.0     27.0     23.0  \n",
       "item_category_id                           0.0      0.0      0.0      0.0  \n",
       "high_category_id                           0.0      0.0      0.0      0.0  \n",
       "item_revenue_month                         0.0      0.0      0.0      0.0  \n",
       "month                                     11.0     11.0     11.0     11.0  \n",
       "city_high_category_cnt_month_mean          0.0      0.0      0.0      0.0  \n",
       "city_high_category_count_month_mean        0.0      0.0      0.0      0.0  \n",
       "city_high_category_revenue_month_mean      0.0      0.0      0.0      0.0  \n",
       "\n",
       "[14 rows x 8856961 columns]"
      ]
     },
     "execution_count": 73,
     "metadata": {},
     "output_type": "execute_result"
    }
   ],
   "source": [
    "sales_df.T"
   ]
  },
  {
   "cell_type": "markdown",
   "id": "52c5c537",
   "metadata": {},
   "source": [
    "# add_lag_data"
   ]
  },
  {
   "cell_type": "code",
   "execution_count": 74,
   "id": "dedd5235",
   "metadata": {},
   "outputs": [
    {
     "data": {
      "text/plain": [
       "['city_high_category_cnt_month_mean',\n",
       " 'city_high_category_revenue_month_mean',\n",
       " 'city_high_category_count_month_mean']"
      ]
     },
     "execution_count": 74,
     "metadata": {},
     "output_type": "execute_result"
    }
   ],
   "source": [
    "mean_feature_names"
   ]
  },
  {
   "cell_type": "code",
   "execution_count": 75,
   "id": "05b4958f",
   "metadata": {},
   "outputs": [],
   "source": [
    "def add_lag_data(df , base_feature_names, lag_feature,lag_feature_names, lag_period=3):\n",
    "    df_temp = df.loc[:, base_feature_names + [lag_feature]].copy()\n",
    "    for i in range(1,lag_period+1):\n",
    "        col_name  = lag_feature +\"_lag_\"+f'{i}'\n",
    "        lag_feature_names.append(col_name)\n",
    "        df_temp['date_block_num'] +=i\n",
    "        df_temp.columns = base_feature_names +[col_name]\n",
    "        df_temp = df.loc[:,base_features_names].merge(df_temp.drop_duplicates(), \n",
    "                      on=base_feature_names, \n",
    "                      how='left')\n",
    "        df_temp = df_temp.set_index(base_feature_names)\n",
    "        df = df.set_index(base_feature_names)\n",
    "        df[lag_feature].fillna(0)\n",
    "        print(f'{col_name}을 생성하였습니다.')\n",
    "    return df ,lag_feature_names\n",
    "        \n",
    "    "
   ]
  },
  {
   "cell_type": "code",
   "execution_count": 78,
   "id": "a1d4eef9",
   "metadata": {},
   "outputs": [],
   "source": [
    "# lag_feature_names = []\n",
    "# for lag_feature in (mean_feature_names + num_feature_names):\n",
    "#     sales_df,lag_feature_names = add_lag_data(sales_df,base_feature_names,lag_feature,lag_feature_names)"
   ]
  },
  {
   "cell_type": "code",
   "execution_count": 79,
   "id": "8e006f43",
   "metadata": {},
   "outputs": [
    {
     "data": {
      "text/plain": [
       "Index(['shop_id', 'item_id', 'date_block_num', 'item_cnt_month', 'item_count',\n",
       "       'item_price_mean_month', 'city_id', 'item_category_id',\n",
       "       'high_category_id', 'item_revenue_month', 'month',\n",
       "       'city_high_category_cnt_month_mean',\n",
       "       'city_high_category_count_month_mean',\n",
       "       'city_high_category_revenue_month_mean'],\n",
       "      dtype='object')"
      ]
     },
     "execution_count": 79,
     "metadata": {},
     "output_type": "execute_result"
    }
   ],
   "source": [
    "sales_df.columns"
   ]
  },
  {
   "cell_type": "code",
   "execution_count": null,
   "id": "76361dd2",
   "metadata": {},
   "outputs": [],
   "source": []
  },
  {
   "cell_type": "code",
   "execution_count": null,
   "id": "07281ba6",
   "metadata": {},
   "outputs": [],
   "source": []
  },
  {
   "cell_type": "code",
   "execution_count": null,
   "id": "18d1bf90",
   "metadata": {},
   "outputs": [],
   "source": []
  },
  {
   "cell_type": "markdown",
   "id": "1b17b288",
   "metadata": {},
   "source": [
    "# Holdsout"
   ]
  },
  {
   "cell_type": "code",
   "execution_count": 80,
   "id": "95603224",
   "metadata": {},
   "outputs": [
    {
     "name": "stdout",
     "output_type": "stream",
     "text": [
      "Mem. usage decreased to 545.19 Mb (0.0% reduction)\n"
     ]
    }
   ],
   "source": [
    "sales_df = reduce_mem_usage(sales_df)\n",
    "x_train = sales_df[sales_df['date_block_num'] < 33]\n",
    "x_train = x_train.drop(['item_cnt_month'], axis = 1)\n",
    "y_train = sales_df[sales_df['date_block_num'] < 33]['item_cnt_month']\n",
    "\n",
    "\n",
    "x_valid = sales_df[sales_df['date_block_num'] == 33]\n",
    "x_valid = x_valid.drop(['item_cnt_month'], axis = 1)\n",
    "y_valid = sales_df[sales_df['date_block_num'] == 33]['item_cnt_month']\n",
    "\n",
    "x_test = sales_df[sales_df['date_block_num'] == 34]\n",
    "x_test = x_test.drop(['item_cnt_month'], axis = 1)\n",
    "y_test = sales_df[sales_df['date_block_num'] == 34]['item_cnt_month']"
   ]
  },
  {
   "cell_type": "code",
   "execution_count": null,
   "id": "ea0ae62c",
   "metadata": {},
   "outputs": [],
   "source": []
  },
  {
   "cell_type": "markdown",
   "id": "299f28e2",
   "metadata": {},
   "source": [
    "# XGboost"
   ]
  },
  {
   "cell_type": "code",
   "execution_count": 81,
   "id": "d0578bd0",
   "metadata": {},
   "outputs": [],
   "source": [
    "# Model\n",
    "import gc\n",
    "import pickle\n",
    "from xgboost import XGBRegressor\n",
    "from matplotlib.pylab import rcParams"
   ]
  },
  {
   "cell_type": "code",
   "execution_count": 82,
   "id": "a9e67c8b",
   "metadata": {},
   "outputs": [
    {
     "name": "stderr",
     "output_type": "stream",
     "text": [
      "/opt/homebrew/lib/python3.9/site-packages/xgboost/sklearn.py:793: UserWarning: `eval_metric` in `fit` method is deprecated for better compatibility with scikit-learn, use `eval_metric` in constructor or`set_params` instead.\n",
      "  warnings.warn(\n",
      "/opt/homebrew/lib/python3.9/site-packages/xgboost/sklearn.py:793: UserWarning: `early_stopping_rounds` in `fit` method is deprecated for better compatibility with scikit-learn, use `early_stopping_rounds` in constructor or`set_params` instead.\n",
      "  warnings.warn(\n"
     ]
    },
    {
     "name": "stdout",
     "output_type": "stream",
     "text": [
      "[0]\tvalidation_0-rmse:3.20721\tvalidation_1-rmse:2.43498\n",
      "[1]\tvalidation_0-rmse:2.94905\tvalidation_1-rmse:2.22666\n",
      "[2]\tvalidation_0-rmse:2.71502\tvalidation_1-rmse:2.04824\n",
      "[3]\tvalidation_0-rmse:2.50216\tvalidation_1-rmse:1.87589\n",
      "[4]\tvalidation_0-rmse:2.31160\tvalidation_1-rmse:1.72062\n",
      "[5]\tvalidation_0-rmse:2.14194\tvalidation_1-rmse:1.58177\n",
      "[6]\tvalidation_0-rmse:1.98189\tvalidation_1-rmse:1.45652\n",
      "[7]\tvalidation_0-rmse:1.86489\tvalidation_1-rmse:1.38894\n",
      "[8]\tvalidation_0-rmse:1.73392\tvalidation_1-rmse:1.29773\n",
      "[9]\tvalidation_0-rmse:1.61997\tvalidation_1-rmse:1.23411\n",
      "[10]\tvalidation_0-rmse:1.52225\tvalidation_1-rmse:1.15930\n",
      "[11]\tvalidation_0-rmse:1.42729\tvalidation_1-rmse:1.11347\n",
      "[12]\tvalidation_0-rmse:1.34121\tvalidation_1-rmse:1.06196\n",
      "[13]\tvalidation_0-rmse:1.26034\tvalidation_1-rmse:1.02127\n",
      "[14]\tvalidation_0-rmse:1.18824\tvalidation_1-rmse:0.97933\n",
      "[15]\tvalidation_0-rmse:1.12206\tvalidation_1-rmse:0.94337\n",
      "[16]\tvalidation_0-rmse:1.07466\tvalidation_1-rmse:0.91157\n",
      "[17]\tvalidation_0-rmse:1.02227\tvalidation_1-rmse:0.87903\n",
      "[18]\tvalidation_0-rmse:0.97963\tvalidation_1-rmse:0.86986\n",
      "[19]\tvalidation_0-rmse:0.93427\tvalidation_1-rmse:0.85156\n",
      "[20]\tvalidation_0-rmse:0.89091\tvalidation_1-rmse:0.84526\n",
      "[21]\tvalidation_0-rmse:0.86086\tvalidation_1-rmse:0.84089\n",
      "[22]\tvalidation_0-rmse:0.82891\tvalidation_1-rmse:0.82009\n",
      "[23]\tvalidation_0-rmse:0.80289\tvalidation_1-rmse:0.81426\n",
      "[24]\tvalidation_0-rmse:0.77649\tvalidation_1-rmse:0.80934\n",
      "[25]\tvalidation_0-rmse:0.74719\tvalidation_1-rmse:0.79589\n",
      "[26]\tvalidation_0-rmse:0.72498\tvalidation_1-rmse:0.79357\n",
      "[27]\tvalidation_0-rmse:0.70345\tvalidation_1-rmse:0.78550\n",
      "[28]\tvalidation_0-rmse:0.68197\tvalidation_1-rmse:0.77188\n",
      "[29]\tvalidation_0-rmse:0.66230\tvalidation_1-rmse:0.76576\n",
      "[30]\tvalidation_0-rmse:0.64782\tvalidation_1-rmse:0.75856\n",
      "[31]\tvalidation_0-rmse:0.63069\tvalidation_1-rmse:0.75791\n",
      "[32]\tvalidation_0-rmse:0.62057\tvalidation_1-rmse:0.75480\n",
      "[33]\tvalidation_0-rmse:0.60571\tvalidation_1-rmse:0.74806\n",
      "[34]\tvalidation_0-rmse:0.59154\tvalidation_1-rmse:0.73840\n",
      "[35]\tvalidation_0-rmse:0.57998\tvalidation_1-rmse:0.73886\n",
      "[36]\tvalidation_0-rmse:0.56697\tvalidation_1-rmse:0.73132\n",
      "[37]\tvalidation_0-rmse:0.55724\tvalidation_1-rmse:0.72164\n",
      "[38]\tvalidation_0-rmse:0.54789\tvalidation_1-rmse:0.72943\n",
      "[39]\tvalidation_0-rmse:0.53512\tvalidation_1-rmse:0.72354\n",
      "[40]\tvalidation_0-rmse:0.52460\tvalidation_1-rmse:0.72600\n",
      "[41]\tvalidation_0-rmse:0.51283\tvalidation_1-rmse:0.71375\n",
      "[42]\tvalidation_0-rmse:0.50417\tvalidation_1-rmse:0.70601\n",
      "[43]\tvalidation_0-rmse:0.49230\tvalidation_1-rmse:0.70267\n",
      "[44]\tvalidation_0-rmse:0.48400\tvalidation_1-rmse:0.69910\n",
      "[45]\tvalidation_0-rmse:0.47479\tvalidation_1-rmse:0.70509\n",
      "[46]\tvalidation_0-rmse:0.46642\tvalidation_1-rmse:0.70571\n",
      "[47]\tvalidation_0-rmse:0.45840\tvalidation_1-rmse:0.70438\n",
      "[48]\tvalidation_0-rmse:0.45149\tvalidation_1-rmse:0.70664\n",
      "[49]\tvalidation_0-rmse:0.44424\tvalidation_1-rmse:0.70218\n",
      "[50]\tvalidation_0-rmse:0.43879\tvalidation_1-rmse:0.69805\n",
      "[51]\tvalidation_0-rmse:0.43387\tvalidation_1-rmse:0.69568\n",
      "[52]\tvalidation_0-rmse:0.42715\tvalidation_1-rmse:0.69275\n",
      "[53]\tvalidation_0-rmse:0.42063\tvalidation_1-rmse:0.69088\n",
      "[54]\tvalidation_0-rmse:0.41570\tvalidation_1-rmse:0.68708\n",
      "[55]\tvalidation_0-rmse:0.41094\tvalidation_1-rmse:0.68430\n",
      "[56]\tvalidation_0-rmse:0.40771\tvalidation_1-rmse:0.68298\n",
      "[57]\tvalidation_0-rmse:0.40426\tvalidation_1-rmse:0.68249\n",
      "[58]\tvalidation_0-rmse:0.39719\tvalidation_1-rmse:0.68103\n",
      "[59]\tvalidation_0-rmse:0.39262\tvalidation_1-rmse:0.67851\n",
      "[60]\tvalidation_0-rmse:0.39059\tvalidation_1-rmse:0.67750\n",
      "[61]\tvalidation_0-rmse:0.38656\tvalidation_1-rmse:0.67644\n",
      "[62]\tvalidation_0-rmse:0.38343\tvalidation_1-rmse:0.67430\n",
      "[63]\tvalidation_0-rmse:0.37908\tvalidation_1-rmse:0.67605\n",
      "[64]\tvalidation_0-rmse:0.37241\tvalidation_1-rmse:0.67609\n",
      "[65]\tvalidation_0-rmse:0.36616\tvalidation_1-rmse:0.67584\n",
      "[66]\tvalidation_0-rmse:0.36151\tvalidation_1-rmse:0.67820\n",
      "[67]\tvalidation_0-rmse:0.35896\tvalidation_1-rmse:0.67932\n",
      "[68]\tvalidation_0-rmse:0.35474\tvalidation_1-rmse:0.67413\n",
      "[69]\tvalidation_0-rmse:0.35113\tvalidation_1-rmse:0.67384\n",
      "[70]\tvalidation_0-rmse:0.34768\tvalidation_1-rmse:0.67146\n",
      "[71]\tvalidation_0-rmse:0.34402\tvalidation_1-rmse:0.67201\n",
      "[72]\tvalidation_0-rmse:0.34056\tvalidation_1-rmse:0.66788\n",
      "[73]\tvalidation_0-rmse:0.33685\tvalidation_1-rmse:0.66410\n",
      "[74]\tvalidation_0-rmse:0.33536\tvalidation_1-rmse:0.66748\n",
      "[75]\tvalidation_0-rmse:0.33286\tvalidation_1-rmse:0.66591\n",
      "[76]\tvalidation_0-rmse:0.32831\tvalidation_1-rmse:0.66445\n",
      "[77]\tvalidation_0-rmse:0.32607\tvalidation_1-rmse:0.66016\n",
      "[78]\tvalidation_0-rmse:0.32325\tvalidation_1-rmse:0.65831\n",
      "[79]\tvalidation_0-rmse:0.32011\tvalidation_1-rmse:0.66378\n",
      "[80]\tvalidation_0-rmse:0.31672\tvalidation_1-rmse:0.66236\n",
      "[81]\tvalidation_0-rmse:0.31310\tvalidation_1-rmse:0.66251\n",
      "[82]\tvalidation_0-rmse:0.30836\tvalidation_1-rmse:0.66350\n",
      "[83]\tvalidation_0-rmse:0.30537\tvalidation_1-rmse:0.66280\n",
      "[84]\tvalidation_0-rmse:0.30253\tvalidation_1-rmse:0.66312\n",
      "[85]\tvalidation_0-rmse:0.30159\tvalidation_1-rmse:0.66198\n",
      "[86]\tvalidation_0-rmse:0.29924\tvalidation_1-rmse:0.66170\n",
      "[87]\tvalidation_0-rmse:0.29732\tvalidation_1-rmse:0.66155\n",
      "[88]\tvalidation_0-rmse:0.29563\tvalidation_1-rmse:0.66087\n",
      "[89]\tvalidation_0-rmse:0.29287\tvalidation_1-rmse:0.66026\n",
      "[90]\tvalidation_0-rmse:0.28914\tvalidation_1-rmse:0.65814\n",
      "[91]\tvalidation_0-rmse:0.28739\tvalidation_1-rmse:0.65623\n",
      "[92]\tvalidation_0-rmse:0.28373\tvalidation_1-rmse:0.65546\n",
      "[93]\tvalidation_0-rmse:0.27935\tvalidation_1-rmse:0.65637\n",
      "[94]\tvalidation_0-rmse:0.27691\tvalidation_1-rmse:0.65714\n",
      "[95]\tvalidation_0-rmse:0.27576\tvalidation_1-rmse:0.65772\n",
      "[96]\tvalidation_0-rmse:0.27275\tvalidation_1-rmse:0.65914\n",
      "[97]\tvalidation_0-rmse:0.26916\tvalidation_1-rmse:0.65858\n",
      "[98]\tvalidation_0-rmse:0.26657\tvalidation_1-rmse:0.66010\n",
      "[99]\tvalidation_0-rmse:0.26466\tvalidation_1-rmse:0.65959\n",
      "[100]\tvalidation_0-rmse:0.26246\tvalidation_1-rmse:0.66230\n",
      "[101]\tvalidation_0-rmse:0.26066\tvalidation_1-rmse:0.66335\n",
      "[102]\tvalidation_0-rmse:0.25901\tvalidation_1-rmse:0.66347\n",
      "[103]\tvalidation_0-rmse:0.25819\tvalidation_1-rmse:0.66231\n",
      "[104]\tvalidation_0-rmse:0.25610\tvalidation_1-rmse:0.66295\n",
      "[105]\tvalidation_0-rmse:0.25371\tvalidation_1-rmse:0.66279\n",
      "[106]\tvalidation_0-rmse:0.25175\tvalidation_1-rmse:0.66474\n",
      "[107]\tvalidation_0-rmse:0.24980\tvalidation_1-rmse:0.66791\n",
      "[108]\tvalidation_0-rmse:0.24886\tvalidation_1-rmse:0.66670\n",
      "[109]\tvalidation_0-rmse:0.24821\tvalidation_1-rmse:0.66653\n",
      "[110]\tvalidation_0-rmse:0.24524\tvalidation_1-rmse:0.66568\n",
      "[111]\tvalidation_0-rmse:0.24437\tvalidation_1-rmse:0.66561\n",
      "[112]\tvalidation_0-rmse:0.24237\tvalidation_1-rmse:0.66350\n"
     ]
    }
   ],
   "source": [
    "# Training\n",
    "model = XGBRegressor(\n",
    "    max_depth=10,\n",
    "    n_estimators=1000,\n",
    "    min_child_weight=0.5, \n",
    "    colsample_bytree=0.8, \n",
    "    subsample=0.8, \n",
    "    eta=0.1,\n",
    "    seed=42)\n",
    "\n",
    "model.fit(\n",
    "    x_train, \n",
    "    y_train, \n",
    "    eval_metric=\"rmse\", \n",
    "    eval_set=[(x_train, y_train), (x_valid, y_valid)], \n",
    "    verbose=True, \n",
    "    early_stopping_rounds = 20)\n",
    "\n",
    "rcParams['figure.figsize'] = 12, 4"
   ]
  },
  {
   "cell_type": "code",
   "execution_count": 83,
   "id": "8e0eb8c7",
   "metadata": {},
   "outputs": [],
   "source": [
    "# Testing\n",
    "Y_pred = model.predict(x_valid).clip(0, 20)\n",
    "Y_test = model.predict(x_test).clip(0, 20)\n",
    "\n",
    "submission = pd.DataFrame({\n",
    "    \"ID\": test.index, \n",
    "    \"item_cnt_month\": Y_test\n",
    "})\n",
    "submission.to_csv('submission.csv', index=False)"
   ]
  },
  {
   "cell_type": "code",
   "execution_count": 84,
   "id": "c54ab311",
   "metadata": {},
   "outputs": [
    {
     "data": {
      "text/plain": [
       "<AxesSubplot:title={'center':'Feature importance'}, xlabel='F score', ylabel='Features'>"
      ]
     },
     "execution_count": 84,
     "metadata": {},
     "output_type": "execute_result"
    },
    {
     "data": {
      "image/png": "[encoded data removed]",
      "text/plain": [
       "<Figure size 720x1008 with 1 Axes>"
      ]
     },
     "metadata": {
      "needs_background": "light"
     },
     "output_type": "display_data"
    }
   ],
   "source": [
    "# Plot feature importance\n",
    "from xgboost import plot_importance\n",
    "def plot_features(booster, figsize):    \n",
    "    fig, ax = plt.subplots(1,1,figsize=figsize)\n",
    "    return plot_importance(booster=booster, ax=ax)\n",
    "plot_features(model, (10,14))"
   ]
  },
  {
   "cell_type": "code",
   "execution_count": null,
   "id": "f999e02c",
   "metadata": {},
   "outputs": [],
   "source": []
  }
 ],
 "metadata": {
  "kernelspec": {
   "display_name": "Python 3 (ipykernel)",
   "language": "python",
   "name": "python3"
  },
  "language_info": {
   "codemirror_mode": {
    "name": "ipython",
    "version": 3
   },
   "file_extension": ".py",
   "mimetype": "text/x-python",
   "name": "python",
   "nbconvert_exporter": "python",
   "pygments_lexer": "ipython3",
   "version": "3.9.13"
  }
 },
 "nbformat": 4,
 "nbformat_minor": 5
}
