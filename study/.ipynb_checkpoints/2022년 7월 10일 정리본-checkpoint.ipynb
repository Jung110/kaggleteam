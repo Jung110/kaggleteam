{
 "cells": [
  {
   "cell_type": "code",
   "execution_count": 1,
   "id": "1d8872aa",
   "metadata": {},
   "outputs": [],
   "source": [
    "# 사용할 모듈 불러오기 \n",
    "import matplotlib.pyplot as plt\n",
    "import numpy as np\n",
    "import pandas as pd\n",
    "import seaborn as sns\n",
    "import re\n"
   ]
  },
  {
   "cell_type": "code",
   "execution_count": 2,
   "id": "dbb50290",
   "metadata": {},
   "outputs": [],
   "source": [
    "# 데이터 불러오기\n",
    "items = pd.read_csv(\"./data/items.csv\")\n",
    "shops = pd.read_csv(\"./data/shops.csv\")\n",
    "train = pd.read_csv(\"./data/sales_train.csv\")\n",
    "test = pd.read_csv(\"./data/test.csv\")\n",
    "item_categories = pd.read_csv('./data/item_categories.csv')"
   ]
  },
  {
   "cell_type": "markdown",
   "id": "e7f53692",
   "metadata": {},
   "source": [
    "# EDA"
   ]
  },
  {
   "cell_type": "markdown",
   "id": "061ef0ce",
   "metadata": {},
   "source": [
    "## Train\n",
    "###  columns 뜻\n",
    " - data  = 날짜\n",
    " - date_block_num  = 한달 단위로 구분하기 편하게 하기 위한 데이터\n",
    " - shop_id = 가게 id\n",
    " - item_price = 아이템 가격\n",
    " - item_cnt_day = 당일 해당 아이템이 팔린 개수"
   ]
  },
  {
   "cell_type": "code",
   "execution_count": 3,
   "id": "32806223",
   "metadata": {},
   "outputs": [
    {
     "name": "stdout",
     "output_type": "stream",
     "text": [
      "<class 'pandas.core.frame.DataFrame'>\n",
      "RangeIndex: 2935849 entries, 0 to 2935848\n",
      "Data columns (total 6 columns):\n",
      " #   Column          Dtype  \n",
      "---  ------          -----  \n",
      " 0   date            object \n",
      " 1   date_block_num  int64  \n",
      " 2   shop_id         int64  \n",
      " 3   item_id         int64  \n",
      " 4   item_price      float64\n",
      " 5   item_cnt_day    float64\n",
      "dtypes: float64(2), int64(3), object(1)\n",
      "memory usage: 134.4+ MB\n"
     ]
    }
   ],
   "source": [
    "train.info() # null 값이 모든데이터에 존재 하지 않는다. "
   ]
  },
  {
   "cell_type": "code",
   "execution_count": 4,
   "id": "19420fe0",
   "metadata": {},
   "outputs": [
    {
     "data": {
      "text/plain": [
       "0   2013-01-02\n",
       "1   2013-01-03\n",
       "2   2013-01-05\n",
       "Name: date, dtype: datetime64[ns]"
      ]
     },
     "execution_count": 4,
     "metadata": {},
     "output_type": "execute_result"
    }
   ],
   "source": [
    "#  date의 자료형을 object  -> dattime 으로 바꾸고 싶다. \n",
    "# 변환하는 과정  ->\n",
    "train[\"date\"] = pd.to_datetime(train[\"date\"], format=\"%d.%m.%Y\")\n",
    "train[\"date\"]. head(3) "
   ]
  },
  {
   "cell_type": "code",
   "execution_count": 5,
   "id": "fb4aaefb",
   "metadata": {},
   "outputs": [
    {
     "name": "stderr",
     "output_type": "stream",
     "text": [
      "C:\\Users\\AW17R4\\AppData\\Local\\Temp\\ipykernel_9376\\2740853986.py:1: FutureWarning: Treating datetime data as categorical rather than numeric in `.describe` is deprecated and will be removed in a future version of pandas. Specify `datetime_is_numeric=True` to silence this warning and adopt the future behavior now.\n",
      "  train.describe(include = 'all')\n"
     ]
    },
    {
     "data": {
      "text/html": [
       "<div>\n",
       "<style scoped>\n",
       "    .dataframe tbody tr th:only-of-type {\n",
       "        vertical-align: middle;\n",
       "    }\n",
       "\n",
       "    .dataframe tbody tr th {\n",
       "        vertical-align: top;\n",
       "    }\n",
       "\n",
       "    .dataframe thead th {\n",
       "        text-align: right;\n",
       "    }\n",
       "</style>\n",
       "<table border=\"1\" class=\"dataframe\">\n",
       "  <thead>\n",
       "    <tr style=\"text-align: right;\">\n",
       "      <th></th>\n",
       "      <th>date</th>\n",
       "      <th>date_block_num</th>\n",
       "      <th>shop_id</th>\n",
       "      <th>item_id</th>\n",
       "      <th>item_price</th>\n",
       "      <th>item_cnt_day</th>\n",
       "    </tr>\n",
       "  </thead>\n",
       "  <tbody>\n",
       "    <tr>\n",
       "      <th>count</th>\n",
       "      <td>2935849</td>\n",
       "      <td>2.935849e+06</td>\n",
       "      <td>2.935849e+06</td>\n",
       "      <td>2.935849e+06</td>\n",
       "      <td>2.935849e+06</td>\n",
       "      <td>2.935849e+06</td>\n",
       "    </tr>\n",
       "    <tr>\n",
       "      <th>unique</th>\n",
       "      <td>1034</td>\n",
       "      <td>NaN</td>\n",
       "      <td>NaN</td>\n",
       "      <td>NaN</td>\n",
       "      <td>NaN</td>\n",
       "      <td>NaN</td>\n",
       "    </tr>\n",
       "    <tr>\n",
       "      <th>top</th>\n",
       "      <td>2013-12-28 00:00:00</td>\n",
       "      <td>NaN</td>\n",
       "      <td>NaN</td>\n",
       "      <td>NaN</td>\n",
       "      <td>NaN</td>\n",
       "      <td>NaN</td>\n",
       "    </tr>\n",
       "    <tr>\n",
       "      <th>freq</th>\n",
       "      <td>9434</td>\n",
       "      <td>NaN</td>\n",
       "      <td>NaN</td>\n",
       "      <td>NaN</td>\n",
       "      <td>NaN</td>\n",
       "      <td>NaN</td>\n",
       "    </tr>\n",
       "    <tr>\n",
       "      <th>first</th>\n",
       "      <td>2013-01-01 00:00:00</td>\n",
       "      <td>NaN</td>\n",
       "      <td>NaN</td>\n",
       "      <td>NaN</td>\n",
       "      <td>NaN</td>\n",
       "      <td>NaN</td>\n",
       "    </tr>\n",
       "    <tr>\n",
       "      <th>last</th>\n",
       "      <td>2015-10-31 00:00:00</td>\n",
       "      <td>NaN</td>\n",
       "      <td>NaN</td>\n",
       "      <td>NaN</td>\n",
       "      <td>NaN</td>\n",
       "      <td>NaN</td>\n",
       "    </tr>\n",
       "    <tr>\n",
       "      <th>mean</th>\n",
       "      <td>NaN</td>\n",
       "      <td>1.456991e+01</td>\n",
       "      <td>3.300173e+01</td>\n",
       "      <td>1.019723e+04</td>\n",
       "      <td>8.908532e+02</td>\n",
       "      <td>1.242641e+00</td>\n",
       "    </tr>\n",
       "    <tr>\n",
       "      <th>std</th>\n",
       "      <td>NaN</td>\n",
       "      <td>9.422988e+00</td>\n",
       "      <td>1.622697e+01</td>\n",
       "      <td>6.324297e+03</td>\n",
       "      <td>1.729800e+03</td>\n",
       "      <td>2.618834e+00</td>\n",
       "    </tr>\n",
       "    <tr>\n",
       "      <th>min</th>\n",
       "      <td>NaN</td>\n",
       "      <td>0.000000e+00</td>\n",
       "      <td>0.000000e+00</td>\n",
       "      <td>0.000000e+00</td>\n",
       "      <td>-1.000000e+00</td>\n",
       "      <td>-2.200000e+01</td>\n",
       "    </tr>\n",
       "    <tr>\n",
       "      <th>25%</th>\n",
       "      <td>NaN</td>\n",
       "      <td>7.000000e+00</td>\n",
       "      <td>2.200000e+01</td>\n",
       "      <td>4.476000e+03</td>\n",
       "      <td>2.490000e+02</td>\n",
       "      <td>1.000000e+00</td>\n",
       "    </tr>\n",
       "    <tr>\n",
       "      <th>50%</th>\n",
       "      <td>NaN</td>\n",
       "      <td>1.400000e+01</td>\n",
       "      <td>3.100000e+01</td>\n",
       "      <td>9.343000e+03</td>\n",
       "      <td>3.990000e+02</td>\n",
       "      <td>1.000000e+00</td>\n",
       "    </tr>\n",
       "    <tr>\n",
       "      <th>75%</th>\n",
       "      <td>NaN</td>\n",
       "      <td>2.300000e+01</td>\n",
       "      <td>4.700000e+01</td>\n",
       "      <td>1.568400e+04</td>\n",
       "      <td>9.990000e+02</td>\n",
       "      <td>1.000000e+00</td>\n",
       "    </tr>\n",
       "    <tr>\n",
       "      <th>max</th>\n",
       "      <td>NaN</td>\n",
       "      <td>3.300000e+01</td>\n",
       "      <td>5.900000e+01</td>\n",
       "      <td>2.216900e+04</td>\n",
       "      <td>3.079800e+05</td>\n",
       "      <td>2.169000e+03</td>\n",
       "    </tr>\n",
       "  </tbody>\n",
       "</table>\n",
       "</div>"
      ],
      "text/plain": [
       "                       date  date_block_num       shop_id       item_id  \\\n",
       "count               2935849    2.935849e+06  2.935849e+06  2.935849e+06   \n",
       "unique                 1034             NaN           NaN           NaN   \n",
       "top     2013-12-28 00:00:00             NaN           NaN           NaN   \n",
       "freq                   9434             NaN           NaN           NaN   \n",
       "first   2013-01-01 00:00:00             NaN           NaN           NaN   \n",
       "last    2015-10-31 00:00:00             NaN           NaN           NaN   \n",
       "mean                    NaN    1.456991e+01  3.300173e+01  1.019723e+04   \n",
       "std                     NaN    9.422988e+00  1.622697e+01  6.324297e+03   \n",
       "min                     NaN    0.000000e+00  0.000000e+00  0.000000e+00   \n",
       "25%                     NaN    7.000000e+00  2.200000e+01  4.476000e+03   \n",
       "50%                     NaN    1.400000e+01  3.100000e+01  9.343000e+03   \n",
       "75%                     NaN    2.300000e+01  4.700000e+01  1.568400e+04   \n",
       "max                     NaN    3.300000e+01  5.900000e+01  2.216900e+04   \n",
       "\n",
       "          item_price  item_cnt_day  \n",
       "count   2.935849e+06  2.935849e+06  \n",
       "unique           NaN           NaN  \n",
       "top              NaN           NaN  \n",
       "freq             NaN           NaN  \n",
       "first            NaN           NaN  \n",
       "last             NaN           NaN  \n",
       "mean    8.908532e+02  1.242641e+00  \n",
       "std     1.729800e+03  2.618834e+00  \n",
       "min    -1.000000e+00 -2.200000e+01  \n",
       "25%     2.490000e+02  1.000000e+00  \n",
       "50%     3.990000e+02  1.000000e+00  \n",
       "75%     9.990000e+02  1.000000e+00  \n",
       "max     3.079800e+05  2.169000e+03  "
      ]
     },
     "execution_count": 5,
     "metadata": {},
     "output_type": "execute_result"
    }
   ],
   "source": [
    "train.describe(include = 'all')"
   ]
  },
  {
   "cell_type": "markdown",
   "id": "b1dc29c9",
   "metadata": {},
   "source": [
    "2013-01-01 00:00:00 ~ 2015-10-31 00:00:00  까지의 1034일간의 데이터임을 알수있다.  \n",
    "item_price은 평균과 중위값의 차이가 심한 것으로 보아 이상치가 존재함을 알 수 있디.  \n",
    "item_cnt_day 는일,이,삼 분위수가 1인데 비해 평균은 대략 1.2  최대값은 2168로 이상치가 존재한다.   \n",
    "item_cnt_day, item_price에 최소값들은 음수이다.  "
   ]
  },
  {
   "cell_type": "code",
   "execution_count": 6,
   "id": "6f9d793f",
   "metadata": {},
   "outputs": [
    {
     "data": {
      "image/png": "[encoded data removed]",
      "text/plain": [
       "<Figure size 1440x720 with 2 Axes>"
      ]
     },
     "metadata": {
      "needs_background": "light"
     },
     "output_type": "display_data"
    }
   ],
   "source": [
    "def price_cntday_boxplot():\n",
    "    plt.figure(figsize = (20,10))\n",
    "    # item_price 의 박스플롯\n",
    "    plt.subplot(1,2,1)\n",
    "    sns.boxplot(x = 'date_block_num' , y= 'item_price',data =train)\n",
    "    plt.title('item_price')\n",
    "    plt.grid()\n",
    "    # item_cnt_day의 박스 플롯\n",
    "    plt.subplot(1,2,2)\n",
    "    sns.boxplot(x = 'date_block_num' , y= 'item_cnt_day',data =train)\n",
    "    plt.title('item_cnt_day')\n",
    "    plt.grid()\n",
    "price_cntday_boxplot()"
   ]
  },
  {
   "cell_type": "markdown",
   "id": "56f1e1cb",
   "metadata": {},
   "source": [
    "- 다음은 date_block_num 별로 item_price의 boxplot이다.  \n",
    "- 위의 그래프를 기준으로 item_price는 50000 이상 , item_cnt_day 는 1000 이상을 이상치로서 train에서 제거한다.  \n",
    "- 또한 판매되는 수량을 구하는 것이 목적이므로 0미만의 값을 제거한다."
   ]
  },
  {
   "cell_type": "code",
   "execution_count": 7,
   "id": "704aad45",
   "metadata": {},
   "outputs": [],
   "source": [
    "condition_for_drop = ((train[\"item_price\"] >= 50000) | (train[\"item_price\"] < 0))\n",
    "train.drop(train[condition_for_drop].index, axis = 0 , inplace=True)\n",
    "\n",
    "condition_for_drop = ((train[\"item_cnt_day\"] >= 1000) | (train[\"item_cnt_day\"] < 0))\n",
    "train.drop(train[condition_for_drop].index, axis = 0 , inplace=True)"
   ]
  },
  {
   "cell_type": "code",
   "execution_count": 8,
   "id": "60453503",
   "metadata": {},
   "outputs": [
    {
     "data": {
      "image/png": "[encoded data removed]",
      "text/plain": [
       "<Figure size 1440x720 with 2 Axes>"
      ]
     },
     "metadata": {
      "needs_background": "light"
     },
     "output_type": "display_data"
    }
   ],
   "source": [
    "# 제거 후의 boxplot\n",
    "price_cntday_boxplot()"
   ]
  },
  {
   "cell_type": "code",
   "execution_count": 9,
   "id": "de6f05e1",
   "metadata": {},
   "outputs": [
    {
     "data": {
      "text/html": [
       "<div>\n",
       "<style scoped>\n",
       "    .dataframe tbody tr th:only-of-type {\n",
       "        vertical-align: middle;\n",
       "    }\n",
       "\n",
       "    .dataframe tbody tr th {\n",
       "        vertical-align: top;\n",
       "    }\n",
       "\n",
       "    .dataframe thead th {\n",
       "        text-align: right;\n",
       "    }\n",
       "</style>\n",
       "<table border=\"1\" class=\"dataframe\">\n",
       "  <thead>\n",
       "    <tr style=\"text-align: right;\">\n",
       "      <th></th>\n",
       "      <th>date_block_num</th>\n",
       "      <th>shop_id</th>\n",
       "      <th>item_id</th>\n",
       "      <th>item_price</th>\n",
       "      <th>item_cnt_day</th>\n",
       "    </tr>\n",
       "  </thead>\n",
       "  <tbody>\n",
       "    <tr>\n",
       "      <th>date_block_num</th>\n",
       "      <td>1.000000</td>\n",
       "      <td>0.019329</td>\n",
       "      <td>0.009472</td>\n",
       "      <td>0.095539</td>\n",
       "      <td>0.010339</td>\n",
       "    </tr>\n",
       "    <tr>\n",
       "      <th>shop_id</th>\n",
       "      <td>0.019329</td>\n",
       "      <td>1.000000</td>\n",
       "      <td>0.029345</td>\n",
       "      <td>-0.023955</td>\n",
       "      <td>-0.005660</td>\n",
       "    </tr>\n",
       "    <tr>\n",
       "      <th>item_id</th>\n",
       "      <td>0.009472</td>\n",
       "      <td>0.029345</td>\n",
       "      <td>1.000000</td>\n",
       "      <td>-0.134812</td>\n",
       "      <td>0.018896</td>\n",
       "    </tr>\n",
       "    <tr>\n",
       "      <th>item_price</th>\n",
       "      <td>0.095539</td>\n",
       "      <td>-0.023955</td>\n",
       "      <td>-0.134812</td>\n",
       "      <td>1.000000</td>\n",
       "      <td>0.014444</td>\n",
       "    </tr>\n",
       "    <tr>\n",
       "      <th>item_cnt_day</th>\n",
       "      <td>0.010339</td>\n",
       "      <td>-0.005660</td>\n",
       "      <td>0.018896</td>\n",
       "      <td>0.014444</td>\n",
       "      <td>1.000000</td>\n",
       "    </tr>\n",
       "  </tbody>\n",
       "</table>\n",
       "</div>"
      ],
      "text/plain": [
       "                date_block_num   shop_id   item_id  item_price  item_cnt_day\n",
       "date_block_num        1.000000  0.019329  0.009472    0.095539      0.010339\n",
       "shop_id               0.019329  1.000000  0.029345   -0.023955     -0.005660\n",
       "item_id               0.009472  0.029345  1.000000   -0.134812      0.018896\n",
       "item_price            0.095539 -0.023955 -0.134812    1.000000      0.014444\n",
       "item_cnt_day          0.010339 -0.005660  0.018896    0.014444      1.000000"
      ]
     },
     "execution_count": 9,
     "metadata": {},
     "output_type": "execute_result"
    }
   ],
   "source": [
    "train.corr()"
   ]
  },
  {
   "cell_type": "markdown",
   "id": "fad0c0c7",
   "metadata": {},
   "source": [
    "## shops"
   ]
  },
  {
   "cell_type": "code",
   "execution_count": 10,
   "id": "33f36a67",
   "metadata": {},
   "outputs": [
    {
     "name": "stdout",
     "output_type": "stream",
     "text": [
      "<class 'pandas.core.frame.DataFrame'>\n",
      "RangeIndex: 60 entries, 0 to 59\n",
      "Data columns (total 2 columns):\n",
      " #   Column     Non-Null Count  Dtype \n",
      "---  ------     --------------  ----- \n",
      " 0   shop_name  60 non-null     object\n",
      " 1   shop_id    60 non-null     int64 \n",
      "dtypes: int64(1), object(1)\n",
      "memory usage: 1.1+ KB\n"
     ]
    }
   ],
   "source": [
    "shops.info() # 결측값은 없고 데이터 타입이 적당함을 알수있다."
   ]
  },
  {
   "cell_type": "code",
   "execution_count": 11,
   "id": "fb99d472",
   "metadata": {},
   "outputs": [
    {
     "data": {
      "text/html": [
       "<div>\n",
       "<style scoped>\n",
       "    .dataframe tbody tr th:only-of-type {\n",
       "        vertical-align: middle;\n",
       "    }\n",
       "\n",
       "    .dataframe tbody tr th {\n",
       "        vertical-align: top;\n",
       "    }\n",
       "\n",
       "    .dataframe thead th {\n",
       "        text-align: right;\n",
       "    }\n",
       "</style>\n",
       "<table border=\"1\" class=\"dataframe\">\n",
       "  <thead>\n",
       "    <tr style=\"text-align: right;\">\n",
       "      <th></th>\n",
       "      <th>shop_name</th>\n",
       "      <th>shop_id</th>\n",
       "    </tr>\n",
       "  </thead>\n",
       "  <tbody>\n",
       "    <tr>\n",
       "      <th>0</th>\n",
       "      <td>!Якутск Орджоникидзе, 56 фран</td>\n",
       "      <td>0</td>\n",
       "    </tr>\n",
       "    <tr>\n",
       "      <th>1</th>\n",
       "      <td>!Якутск ТЦ \"Центральный\" фран</td>\n",
       "      <td>1</td>\n",
       "    </tr>\n",
       "    <tr>\n",
       "      <th>2</th>\n",
       "      <td>Адыгея ТЦ \"Мега\"</td>\n",
       "      <td>2</td>\n",
       "    </tr>\n",
       "    <tr>\n",
       "      <th>3</th>\n",
       "      <td>Балашиха ТРК \"Октябрь-Киномир\"</td>\n",
       "      <td>3</td>\n",
       "    </tr>\n",
       "    <tr>\n",
       "      <th>4</th>\n",
       "      <td>Волжский ТЦ \"Волга Молл\"</td>\n",
       "      <td>4</td>\n",
       "    </tr>\n",
       "    <tr>\n",
       "      <th>5</th>\n",
       "      <td>Вологда ТРЦ \"Мармелад\"</td>\n",
       "      <td>5</td>\n",
       "    </tr>\n",
       "    <tr>\n",
       "      <th>6</th>\n",
       "      <td>Воронеж (Плехановская, 13)</td>\n",
       "      <td>6</td>\n",
       "    </tr>\n",
       "    <tr>\n",
       "      <th>7</th>\n",
       "      <td>Воронеж ТРЦ \"Максимир\"</td>\n",
       "      <td>7</td>\n",
       "    </tr>\n",
       "    <tr>\n",
       "      <th>8</th>\n",
       "      <td>Воронеж ТРЦ Сити-Парк \"Град\"</td>\n",
       "      <td>8</td>\n",
       "    </tr>\n",
       "    <tr>\n",
       "      <th>9</th>\n",
       "      <td>Выездная Торговля</td>\n",
       "      <td>9</td>\n",
       "    </tr>\n",
       "    <tr>\n",
       "      <th>10</th>\n",
       "      <td>Жуковский ул. Чкалова 39м?</td>\n",
       "      <td>10</td>\n",
       "    </tr>\n",
       "    <tr>\n",
       "      <th>11</th>\n",
       "      <td>Жуковский ул. Чкалова 39м²</td>\n",
       "      <td>11</td>\n",
       "    </tr>\n",
       "    <tr>\n",
       "      <th>12</th>\n",
       "      <td>Интернет-магазин ЧС</td>\n",
       "      <td>12</td>\n",
       "    </tr>\n",
       "    <tr>\n",
       "      <th>13</th>\n",
       "      <td>Казань ТЦ \"Бехетле\"</td>\n",
       "      <td>13</td>\n",
       "    </tr>\n",
       "    <tr>\n",
       "      <th>14</th>\n",
       "      <td>Казань ТЦ \"ПаркХаус\" II</td>\n",
       "      <td>14</td>\n",
       "    </tr>\n",
       "    <tr>\n",
       "      <th>15</th>\n",
       "      <td>Калуга ТРЦ \"XXI век\"</td>\n",
       "      <td>15</td>\n",
       "    </tr>\n",
       "    <tr>\n",
       "      <th>16</th>\n",
       "      <td>Коломна ТЦ \"Рио\"</td>\n",
       "      <td>16</td>\n",
       "    </tr>\n",
       "    <tr>\n",
       "      <th>17</th>\n",
       "      <td>Красноярск ТЦ \"Взлетка Плаза\"</td>\n",
       "      <td>17</td>\n",
       "    </tr>\n",
       "    <tr>\n",
       "      <th>18</th>\n",
       "      <td>Красноярск ТЦ \"Июнь\"</td>\n",
       "      <td>18</td>\n",
       "    </tr>\n",
       "    <tr>\n",
       "      <th>19</th>\n",
       "      <td>Курск ТЦ \"Пушкинский\"</td>\n",
       "      <td>19</td>\n",
       "    </tr>\n",
       "  </tbody>\n",
       "</table>\n",
       "</div>"
      ],
      "text/plain": [
       "                         shop_name  shop_id\n",
       "0    !Якутск Орджоникидзе, 56 фран        0\n",
       "1    !Якутск ТЦ \"Центральный\" фран        1\n",
       "2                 Адыгея ТЦ \"Мега\"        2\n",
       "3   Балашиха ТРК \"Октябрь-Киномир\"        3\n",
       "4         Волжский ТЦ \"Волга Молл\"        4\n",
       "5           Вологда ТРЦ \"Мармелад\"        5\n",
       "6       Воронеж (Плехановская, 13)        6\n",
       "7           Воронеж ТРЦ \"Максимир\"        7\n",
       "8     Воронеж ТРЦ Сити-Парк \"Град\"        8\n",
       "9                Выездная Торговля        9\n",
       "10      Жуковский ул. Чкалова 39м?       10\n",
       "11      Жуковский ул. Чкалова 39м²       11\n",
       "12             Интернет-магазин ЧС       12\n",
       "13             Казань ТЦ \"Бехетле\"       13\n",
       "14         Казань ТЦ \"ПаркХаус\" II       14\n",
       "15            Калуга ТРЦ \"XXI век\"       15\n",
       "16                Коломна ТЦ \"Рио\"       16\n",
       "17   Красноярск ТЦ \"Взлетка Плаза\"       17\n",
       "18            Красноярск ТЦ \"Июнь\"       18\n",
       "19           Курск ТЦ \"Пушкинский\"       19"
      ]
     },
     "execution_count": 11,
     "metadata": {},
     "output_type": "execute_result"
    }
   ],
   "source": [
    "shops.head(20)"
   ]
  },
  {
   "cell_type": "markdown",
   "id": "7b0b732f",
   "metadata": {},
   "source": [
    "- 이름에 특수문자가 들어가고 중복되는 이름들이 보인다"
   ]
  },
  {
   "cell_type": "code",
   "execution_count": 46,
   "id": "c05e2e32",
   "metadata": {},
   "outputs": [
    {
     "name": "stdout",
     "output_type": "stream",
     "text": [
      "code :  10  and   11\n",
      "name :  Жуковский ул  Чкалова 39м   and   Жуковский ул  Чкалова 39м²\n",
      "code :  11  and   10\n",
      "name :  Жуковский ул  Чкалова 39м²  and   Жуковский ул  Чкалова 39м \n",
      "code :  39  and   40\n",
      "name :  РостовНаДону ТРК  Мегацентр Горизонт   and   РостовНаДону ТРК  Мегацентр Горизонт  Островной\n",
      "code :  57  and   0\n",
      "name :  Якутск Орджоникидзе  56  and    Якутск Орджоникидзе  56 фран\n",
      "code :  58  and   1\n",
      "name :  Якутск ТЦ  Центральный   and    Якутск ТЦ  Центральный  фран\n"
     ]
    }
   ],
   "source": [
    "def clean_text(inputString):\n",
    "    text_rmv = re.sub('[-=+,#/\\?:^.@*\\\"※~ㆍ!』‘|\\(\\)\\[\\]`\\'…》\\”\\“\\’·]', ' ', inputString)\n",
    "    return text_rmv\n",
    "shops_names = shops[\"shop_name\"].apply(clean_text)\n",
    "shops_id = shops[\"shop_id\"]\n",
    "# 중복되는 이름 확인 \n",
    "for i in list(zip(shops_names ,shops_id)):\n",
    "    for j in list(zip(shops_names ,shops_id)):\n",
    "        if (re.match('.*'+i[0]+'*.',j[0])) and (i[1]!= j[1]):\n",
    "            print('code : ', i[1], ' and  ', j[1])\n",
    "            print('name : ', i[0], ' and  ', j[0])\n",
    "            "
   ]
  },
  {
   "cell_type": "markdown",
   "id": "0bd21cf2",
   "metadata": {},
   "source": [
    "- 위와 같이 shop id가 10:11, 39:40, 57:0, 58:1 4개의 아이디가 중복되는 것을 알 수 있다.\n",
    "- 위의 데이터를 기준으로 train data의 shop id를 바꾸어준다"
   ]
  },
  {
   "cell_type": "code",
   "execution_count": 13,
   "id": "3091f2f0",
   "metadata": {},
   "outputs": [],
   "source": [
    "train[\"shop_id\"] = train[\"shop_id\"].replace({0: 57, 1: 58, 11: 10, 40: 39})"
   ]
  },
  {
   "cell_type": "markdown",
   "id": "c7aff371",
   "metadata": {},
   "source": [
    "## items"
   ]
  },
  {
   "cell_type": "code",
   "execution_count": 14,
   "id": "db030015",
   "metadata": {},
   "outputs": [
    {
     "name": "stdout",
     "output_type": "stream",
     "text": [
      "<class 'pandas.core.frame.DataFrame'>\n",
      "RangeIndex: 22170 entries, 0 to 22169\n",
      "Data columns (total 3 columns):\n",
      " #   Column            Non-Null Count  Dtype \n",
      "---  ------            --------------  ----- \n",
      " 0   item_name         22170 non-null  object\n",
      " 1   item_id           22170 non-null  int64 \n",
      " 2   item_category_id  22170 non-null  int64 \n",
      "dtypes: int64(2), object(1)\n",
      "memory usage: 519.7+ KB\n"
     ]
    }
   ],
   "source": [
    "items.info() # 결측값은 없고 데이터 타입이 적당함을 알수있다."
   ]
  },
  {
   "cell_type": "code",
   "execution_count": 15,
   "id": "64ae8c9e",
   "metadata": {},
   "outputs": [
    {
     "data": {
      "text/html": [
       "<div>\n",
       "<style scoped>\n",
       "    .dataframe tbody tr th:only-of-type {\n",
       "        vertical-align: middle;\n",
       "    }\n",
       "\n",
       "    .dataframe tbody tr th {\n",
       "        vertical-align: top;\n",
       "    }\n",
       "\n",
       "    .dataframe thead th {\n",
       "        text-align: right;\n",
       "    }\n",
       "</style>\n",
       "<table border=\"1\" class=\"dataframe\">\n",
       "  <thead>\n",
       "    <tr style=\"text-align: right;\">\n",
       "      <th></th>\n",
       "      <th>item_name</th>\n",
       "      <th>item_id</th>\n",
       "      <th>item_category_id</th>\n",
       "    </tr>\n",
       "  </thead>\n",
       "  <tbody>\n",
       "    <tr>\n",
       "      <th>0</th>\n",
       "      <td>! ВО ВЛАСТИ НАВАЖДЕНИЯ (ПЛАСТ.)         D</td>\n",
       "      <td>0</td>\n",
       "      <td>40</td>\n",
       "    </tr>\n",
       "    <tr>\n",
       "      <th>1</th>\n",
       "      <td>!ABBYY FineReader 12 Professional Edition Full...</td>\n",
       "      <td>1</td>\n",
       "      <td>76</td>\n",
       "    </tr>\n",
       "    <tr>\n",
       "      <th>2</th>\n",
       "      <td>***В ЛУЧАХ СЛАВЫ   (UNV)                    D</td>\n",
       "      <td>2</td>\n",
       "      <td>40</td>\n",
       "    </tr>\n",
       "    <tr>\n",
       "      <th>3</th>\n",
       "      <td>***ГОЛУБАЯ ВОЛНА  (Univ)                      D</td>\n",
       "      <td>3</td>\n",
       "      <td>40</td>\n",
       "    </tr>\n",
       "    <tr>\n",
       "      <th>4</th>\n",
       "      <td>***КОРОБКА (СТЕКЛО)                       D</td>\n",
       "      <td>4</td>\n",
       "      <td>40</td>\n",
       "    </tr>\n",
       "    <tr>\n",
       "      <th>5</th>\n",
       "      <td>***НОВЫЕ АМЕРИКАНСКИЕ ГРАФФИТИ  (UNI)         ...</td>\n",
       "      <td>5</td>\n",
       "      <td>40</td>\n",
       "    </tr>\n",
       "    <tr>\n",
       "      <th>6</th>\n",
       "      <td>***УДАР ПО ВОРОТАМ (UNI)               D</td>\n",
       "      <td>6</td>\n",
       "      <td>40</td>\n",
       "    </tr>\n",
       "    <tr>\n",
       "      <th>7</th>\n",
       "      <td>***УДАР ПО ВОРОТАМ-2 (UNI)               D</td>\n",
       "      <td>7</td>\n",
       "      <td>40</td>\n",
       "    </tr>\n",
       "    <tr>\n",
       "      <th>8</th>\n",
       "      <td>***ЧАЙ С МУССОЛИНИ                     D</td>\n",
       "      <td>8</td>\n",
       "      <td>40</td>\n",
       "    </tr>\n",
       "    <tr>\n",
       "      <th>9</th>\n",
       "      <td>***ШУГАРЛЭНДСКИЙ ЭКСПРЕСС (UNI)             D</td>\n",
       "      <td>9</td>\n",
       "      <td>40</td>\n",
       "    </tr>\n",
       "    <tr>\n",
       "      <th>10</th>\n",
       "      <td>*ЗА ГРАНЬЮ СМЕРТИ                       D</td>\n",
       "      <td>10</td>\n",
       "      <td>40</td>\n",
       "    </tr>\n",
       "    <tr>\n",
       "      <th>11</th>\n",
       "      <td>*ЛИНИЯ СМЕРТИ                           D</td>\n",
       "      <td>11</td>\n",
       "      <td>40</td>\n",
       "    </tr>\n",
       "    <tr>\n",
       "      <th>12</th>\n",
       "      <td>*МИХЕЙ И ДЖУМАНДЖИ  Сука любовь</td>\n",
       "      <td>12</td>\n",
       "      <td>55</td>\n",
       "    </tr>\n",
       "    <tr>\n",
       "      <th>13</th>\n",
       "      <td>*СПАСАЯ ЭМИЛИ                           D</td>\n",
       "      <td>13</td>\n",
       "      <td>40</td>\n",
       "    </tr>\n",
       "    <tr>\n",
       "      <th>14</th>\n",
       "      <td>*ЧОКНУТЫЙ ПРОФЕССОР /МАГИЯ/             D</td>\n",
       "      <td>14</td>\n",
       "      <td>40</td>\n",
       "    </tr>\n",
       "    <tr>\n",
       "      <th>15</th>\n",
       "      <td>//АДРЕНАЛИН: ОДИН ПРОТИВ ВСЕХ (Регион)</td>\n",
       "      <td>15</td>\n",
       "      <td>40</td>\n",
       "    </tr>\n",
       "    <tr>\n",
       "      <th>16</th>\n",
       "      <td>//МОНГОЛ С.Бодров (Регион)</td>\n",
       "      <td>16</td>\n",
       "      <td>40</td>\n",
       "    </tr>\n",
       "    <tr>\n",
       "      <th>17</th>\n",
       "      <td>//НЕ ОСТАВЛЯЮЩИЙ СЛЕДА (Регион)</td>\n",
       "      <td>17</td>\n",
       "      <td>40</td>\n",
       "    </tr>\n",
       "    <tr>\n",
       "      <th>18</th>\n",
       "      <td>/БОМБА ДЛЯ НЕВЕСТЫ /2DVD/               D</td>\n",
       "      <td>18</td>\n",
       "      <td>40</td>\n",
       "    </tr>\n",
       "    <tr>\n",
       "      <th>19</th>\n",
       "      <td>/ЗОЛОТАЯ КОЛЛЕКЦИЯ м/ф-72</td>\n",
       "      <td>19</td>\n",
       "      <td>40</td>\n",
       "    </tr>\n",
       "  </tbody>\n",
       "</table>\n",
       "</div>"
      ],
      "text/plain": [
       "                                            item_name  item_id  \\\n",
       "0           ! ВО ВЛАСТИ НАВАЖДЕНИЯ (ПЛАСТ.)         D        0   \n",
       "1   !ABBYY FineReader 12 Professional Edition Full...        1   \n",
       "2       ***В ЛУЧАХ СЛАВЫ   (UNV)                    D        2   \n",
       "3     ***ГОЛУБАЯ ВОЛНА  (Univ)                      D        3   \n",
       "4         ***КОРОБКА (СТЕКЛО)                       D        4   \n",
       "5   ***НОВЫЕ АМЕРИКАНСКИЕ ГРАФФИТИ  (UNI)         ...        5   \n",
       "6            ***УДАР ПО ВОРОТАМ (UNI)               D        6   \n",
       "7          ***УДАР ПО ВОРОТАМ-2 (UNI)               D        7   \n",
       "8            ***ЧАЙ С МУССОЛИНИ                     D        8   \n",
       "9       ***ШУГАРЛЭНДСКИЙ ЭКСПРЕСС (UNI)             D        9   \n",
       "10          *ЗА ГРАНЬЮ СМЕРТИ                       D       10   \n",
       "11          *ЛИНИЯ СМЕРТИ                           D       11   \n",
       "12                    *МИХЕЙ И ДЖУМАНДЖИ  Сука любовь       12   \n",
       "13          *СПАСАЯ ЭМИЛИ                           D       13   \n",
       "14          *ЧОКНУТЫЙ ПРОФЕССОР /МАГИЯ/             D       14   \n",
       "15             //АДРЕНАЛИН: ОДИН ПРОТИВ ВСЕХ (Регион)       15   \n",
       "16                         //МОНГОЛ С.Бодров (Регион)       16   \n",
       "17                    //НЕ ОСТАВЛЯЮЩИЙ СЛЕДА (Регион)       17   \n",
       "18          /БОМБА ДЛЯ НЕВЕСТЫ /2DVD/               D       18   \n",
       "19                          /ЗОЛОТАЯ КОЛЛЕКЦИЯ м/ф-72       19   \n",
       "\n",
       "    item_category_id  \n",
       "0                 40  \n",
       "1                 76  \n",
       "2                 40  \n",
       "3                 40  \n",
       "4                 40  \n",
       "5                 40  \n",
       "6                 40  \n",
       "7                 40  \n",
       "8                 40  \n",
       "9                 40  \n",
       "10                40  \n",
       "11                40  \n",
       "12                55  \n",
       "13                40  \n",
       "14                40  \n",
       "15                40  \n",
       "16                40  \n",
       "17                40  \n",
       "18                40  \n",
       "19                40  "
      ]
     },
     "execution_count": 15,
     "metadata": {},
     "output_type": "execute_result"
    }
   ],
   "source": [
    "items.head(20) # 이름에 특수 문자 제거 후 비슷한 게임끼리 "
   ]
  },
  {
   "cell_type": "code",
   "execution_count": 16,
   "id": "0fc4431b",
   "metadata": {},
   "outputs": [
    {
     "data": {
      "image/png": "[encoded data removed]",
      "text/plain": [
       "<Figure size 1440x720 with 1 Axes>"
      ]
     },
     "metadata": {
      "needs_background": "light"
     },
     "output_type": "display_data"
    }
   ],
   "source": [
    "plt.figure(figsize=(20,10))\n",
    "sns.countplot(x= 'item_category_id' , data = items)\n",
    "plt.xticks(size = 15 , rotation =  45 , color = 'black')\n",
    "plt.show()"
   ]
  },
  {
   "cell_type": "code",
   "execution_count": 17,
   "id": "6c41ca24",
   "metadata": {},
   "outputs": [
    {
     "data": {
      "text/html": [
       "<div>\n",
       "<style scoped>\n",
       "    .dataframe tbody tr th:only-of-type {\n",
       "        vertical-align: middle;\n",
       "    }\n",
       "\n",
       "    .dataframe tbody tr th {\n",
       "        vertical-align: top;\n",
       "    }\n",
       "\n",
       "    .dataframe thead th {\n",
       "        text-align: right;\n",
       "    }\n",
       "</style>\n",
       "<table border=\"1\" class=\"dataframe\">\n",
       "  <thead>\n",
       "    <tr style=\"text-align: right;\">\n",
       "      <th></th>\n",
       "      <th>item_category_name</th>\n",
       "      <th>item_category_id</th>\n",
       "    </tr>\n",
       "  </thead>\n",
       "  <tbody>\n",
       "    <tr>\n",
       "      <th>40</th>\n",
       "      <td>Кино - DVD</td>\n",
       "      <td>40</td>\n",
       "    </tr>\n",
       "  </tbody>\n",
       "</table>\n",
       "</div>"
      ],
      "text/plain": [
       "   item_category_name  item_category_id\n",
       "40         Кино - DVD                40"
      ]
     },
     "execution_count": 17,
     "metadata": {},
     "output_type": "execute_result"
    }
   ],
   "source": [
    "item_categories[item_categories['item_category_id']==40]"
   ]
  },
  {
   "cell_type": "markdown",
   "id": "f0390055",
   "metadata": {},
   "source": [
    "- item_category_id =40 인  Кино - DVD 카테고리에 많은 아이템이 존재하는지 알 수 있다"
   ]
  },
  {
   "cell_type": "markdown",
   "id": "cae34420",
   "metadata": {},
   "source": [
    "## item_category"
   ]
  },
  {
   "cell_type": "code",
   "execution_count": 18,
   "id": "5f2d09c9",
   "metadata": {},
   "outputs": [
    {
     "name": "stdout",
     "output_type": "stream",
     "text": [
      "<class 'pandas.core.frame.DataFrame'>\n",
      "RangeIndex: 84 entries, 0 to 83\n",
      "Data columns (total 2 columns):\n",
      " #   Column              Non-Null Count  Dtype \n",
      "---  ------              --------------  ----- \n",
      " 0   item_category_name  84 non-null     object\n",
      " 1   item_category_id    84 non-null     int64 \n",
      "dtypes: int64(1), object(1)\n",
      "memory usage: 1.4+ KB\n"
     ]
    }
   ],
   "source": [
    "item_categories.info()  # 결측값은 없고 데이터 타입이 적당함을 알수있다."
   ]
  },
  {
   "cell_type": "code",
   "execution_count": 19,
   "id": "b681f449",
   "metadata": {},
   "outputs": [
    {
     "data": {
      "text/html": [
       "<div>\n",
       "<style scoped>\n",
       "    .dataframe tbody tr th:only-of-type {\n",
       "        vertical-align: middle;\n",
       "    }\n",
       "\n",
       "    .dataframe tbody tr th {\n",
       "        vertical-align: top;\n",
       "    }\n",
       "\n",
       "    .dataframe thead th {\n",
       "        text-align: right;\n",
       "    }\n",
       "</style>\n",
       "<table border=\"1\" class=\"dataframe\">\n",
       "  <thead>\n",
       "    <tr style=\"text-align: right;\">\n",
       "      <th></th>\n",
       "      <th>item_category_name</th>\n",
       "      <th>item_category_id</th>\n",
       "    </tr>\n",
       "  </thead>\n",
       "  <tbody>\n",
       "    <tr>\n",
       "      <th>0</th>\n",
       "      <td>PC - Гарнитуры/Наушники</td>\n",
       "      <td>0</td>\n",
       "    </tr>\n",
       "    <tr>\n",
       "      <th>1</th>\n",
       "      <td>Аксессуары - PS2</td>\n",
       "      <td>1</td>\n",
       "    </tr>\n",
       "    <tr>\n",
       "      <th>2</th>\n",
       "      <td>Аксессуары - PS3</td>\n",
       "      <td>2</td>\n",
       "    </tr>\n",
       "    <tr>\n",
       "      <th>3</th>\n",
       "      <td>Аксессуары - PS4</td>\n",
       "      <td>3</td>\n",
       "    </tr>\n",
       "    <tr>\n",
       "      <th>4</th>\n",
       "      <td>Аксессуары - PSP</td>\n",
       "      <td>4</td>\n",
       "    </tr>\n",
       "    <tr>\n",
       "      <th>5</th>\n",
       "      <td>Аксессуары - PSVita</td>\n",
       "      <td>5</td>\n",
       "    </tr>\n",
       "    <tr>\n",
       "      <th>6</th>\n",
       "      <td>Аксессуары - XBOX 360</td>\n",
       "      <td>6</td>\n",
       "    </tr>\n",
       "    <tr>\n",
       "      <th>7</th>\n",
       "      <td>Аксессуары - XBOX ONE</td>\n",
       "      <td>7</td>\n",
       "    </tr>\n",
       "    <tr>\n",
       "      <th>8</th>\n",
       "      <td>Билеты (Цифра)</td>\n",
       "      <td>8</td>\n",
       "    </tr>\n",
       "    <tr>\n",
       "      <th>9</th>\n",
       "      <td>Доставка товара</td>\n",
       "      <td>9</td>\n",
       "    </tr>\n",
       "    <tr>\n",
       "      <th>10</th>\n",
       "      <td>Игровые консоли - PS2</td>\n",
       "      <td>10</td>\n",
       "    </tr>\n",
       "    <tr>\n",
       "      <th>11</th>\n",
       "      <td>Игровые консоли - PS3</td>\n",
       "      <td>11</td>\n",
       "    </tr>\n",
       "    <tr>\n",
       "      <th>12</th>\n",
       "      <td>Игровые консоли - PS4</td>\n",
       "      <td>12</td>\n",
       "    </tr>\n",
       "    <tr>\n",
       "      <th>13</th>\n",
       "      <td>Игровые консоли - PSP</td>\n",
       "      <td>13</td>\n",
       "    </tr>\n",
       "    <tr>\n",
       "      <th>14</th>\n",
       "      <td>Игровые консоли - PSVita</td>\n",
       "      <td>14</td>\n",
       "    </tr>\n",
       "    <tr>\n",
       "      <th>15</th>\n",
       "      <td>Игровые консоли - XBOX 360</td>\n",
       "      <td>15</td>\n",
       "    </tr>\n",
       "    <tr>\n",
       "      <th>16</th>\n",
       "      <td>Игровые консоли - XBOX ONE</td>\n",
       "      <td>16</td>\n",
       "    </tr>\n",
       "    <tr>\n",
       "      <th>17</th>\n",
       "      <td>Игровые консоли - Прочие</td>\n",
       "      <td>17</td>\n",
       "    </tr>\n",
       "    <tr>\n",
       "      <th>18</th>\n",
       "      <td>Игры - PS2</td>\n",
       "      <td>18</td>\n",
       "    </tr>\n",
       "    <tr>\n",
       "      <th>19</th>\n",
       "      <td>Игры - PS3</td>\n",
       "      <td>19</td>\n",
       "    </tr>\n",
       "  </tbody>\n",
       "</table>\n",
       "</div>"
      ],
      "text/plain": [
       "            item_category_name  item_category_id\n",
       "0      PC - Гарнитуры/Наушники                 0\n",
       "1             Аксессуары - PS2                 1\n",
       "2             Аксессуары - PS3                 2\n",
       "3             Аксессуары - PS4                 3\n",
       "4             Аксессуары - PSP                 4\n",
       "5          Аксессуары - PSVita                 5\n",
       "6        Аксессуары - XBOX 360                 6\n",
       "7        Аксессуары - XBOX ONE                 7\n",
       "8               Билеты (Цифра)                 8\n",
       "9              Доставка товара                 9\n",
       "10       Игровые консоли - PS2                10\n",
       "11       Игровые консоли - PS3                11\n",
       "12       Игровые консоли - PS4                12\n",
       "13       Игровые консоли - PSP                13\n",
       "14    Игровые консоли - PSVita                14\n",
       "15  Игровые консоли - XBOX 360                15\n",
       "16  Игровые консоли - XBOX ONE                16\n",
       "17    Игровые консоли - Прочие                17\n",
       "18                  Игры - PS2                18\n",
       "19                  Игры - PS3                19"
      ]
     },
     "execution_count": 19,
     "metadata": {},
     "output_type": "execute_result"
    }
   ],
   "source": [
    "item_categories.head(20)"
   ]
  },
  {
   "cell_type": "markdown",
   "id": "2b6de9e0",
   "metadata": {},
   "source": [
    "- item_category_name에 같은 단어가 들어가는 데이터가 많이 존재한다\n",
    "- 이를 묶어 더 큰 범주를 만들 수 있다."
   ]
  },
  {
   "cell_type": "markdown",
   "id": "31208255",
   "metadata": {},
   "source": [
    "## test"
   ]
  },
  {
   "cell_type": "code",
   "execution_count": 20,
   "id": "925f625b",
   "metadata": {},
   "outputs": [
    {
     "name": "stdout",
     "output_type": "stream",
     "text": [
      "<class 'pandas.core.frame.DataFrame'>\n",
      "RangeIndex: 214200 entries, 0 to 214199\n",
      "Data columns (total 3 columns):\n",
      " #   Column   Non-Null Count   Dtype\n",
      "---  ------   --------------   -----\n",
      " 0   ID       214200 non-null  int64\n",
      " 1   shop_id  214200 non-null  int64\n",
      " 2   item_id  214200 non-null  int64\n",
      "dtypes: int64(3)\n",
      "memory usage: 4.9 MB\n"
     ]
    }
   ],
   "source": [
    "test.info()  # 결측값은 없고 데이터 타입이 적당함을 알수있다."
   ]
  },
  {
   "cell_type": "code",
   "execution_count": 21,
   "id": "3e39c9b0",
   "metadata": {},
   "outputs": [
    {
     "name": "stdout",
     "output_type": "stream",
     "text": [
      "diffrent shop_id nums:  0\n",
      "diffrent item_id nums:  363\n",
      "diff_test_items_itemid nums:  0\n"
     ]
    }
   ],
   "source": [
    "# test의 shop_id , item_id 기 train 데이터에 있는지 확인\n",
    "diff_test_train_shopid = set(test['shop_id']) - set(train['shop_id'])\n",
    "print('diffrent shop_id nums: ',len(diff_test_train_shopid))\n",
    "diff_test_train_itemid = set(test['item_id']) - set(train['item_id'])\n",
    "print('diffrent item_id nums: ',len(diff_test_train_itemid))\n",
    "diff_test_items_itemid = set(test['item_id']) - set(items['item_id'])\n",
    "print('diff_test_items_itemid nums: ',len(diff_test_items_itemid))"
   ]
  },
  {
   "cell_type": "code",
   "execution_count": null,
   "id": "c5436a45",
   "metadata": {},
   "outputs": [],
   "source": []
  },
  {
   "cell_type": "markdown",
   "id": "b873082b",
   "metadata": {},
   "source": [
    "#### test에는 존재하지만 train에 존재하지 않는 값이 363개 존재한다. \n",
    "#### items에는 test에 있는 모든 item_id를 가지고 있다. \n",
    "#### 이를 해결하기위해 다음과 같은 방법을 사용한다\n",
    " - train에 존재하지 않는 test값을 예측하기 위해 item_category_id를 사용한다."
   ]
  },
  {
   "cell_type": "markdown",
   "id": "3989ee59",
   "metadata": {},
   "source": [
    "item_category의 앞부분만 자르고 새롭게 만든 열을 라벨인코딩 (악세사리 >> 1)   \n",
    "item_id와 연결되어있는 item_category를 새롭게 만든 열로 연결하여 test값을 예측한다면?"
   ]
  },
  {
   "cell_type": "code",
   "execution_count": 76,
   "id": "1a498f37",
   "metadata": {},
   "outputs": [],
   "source": [
    "# item_category 분류하여 새로운 열 만들기\n",
    "high_categories = item_categories.item_category_name"
   ]
  },
  {
   "cell_type": "code",
   "execution_count": 77,
   "id": "cd974d96",
   "metadata": {},
   "outputs": [
    {
     "data": {
      "text/plain": [
       "array(['PC ', 'Аксессуары ', 'Билеты (Цифра)', 'Доставка товара',\n",
       "       'Игровые консоли ', 'Игры ', 'Игры Android ', 'Игры MAC ',\n",
       "       'Игры PC ', 'Карты оплаты (Кино, Музыка, Игры)', 'Карты оплаты ',\n",
       "       'Кино ', 'Книги ', 'Музыка ', 'Подарки ', 'Программы ',\n",
       "       'Служебные', 'Служебные ', 'Чистые носители (шпиль)',\n",
       "       'Чистые носители (штучные)', 'Элементы питания'], dtype=object)"
      ]
     },
     "execution_count": 77,
     "metadata": {},
     "output_type": "execute_result"
    }
   ],
   "source": [
    "'''\n",
    "Игры Android 등 '-' 뿐만 아니라 ' ' 기준으로 나누어져야 합니다. \n",
    "'''\n",
    "\n",
    "high_categories.str.split('-').str[0].unique()"
   ]
  },
  {
   "cell_type": "code",
   "execution_count": 78,
   "id": "7d2e49ab",
   "metadata": {},
   "outputs": [
    {
     "data": {
      "text/plain": [
       "0       PC - Гарнитуры/Наушники\n",
       "1              Аксессуары - PS2\n",
       "2              Аксессуары - PS3\n",
       "3              Аксессуары - PS4\n",
       "4              Аксессуары - PSP\n",
       "                ...            \n",
       "79                    Служебные\n",
       "80           Служебные - Билеты\n",
       "81      Чистые носители (шпиль)\n",
       "82    Чистые носители (штучные)\n",
       "83             Элементы питания\n",
       "Name: item_category_name, Length: 84, dtype: object"
      ]
     },
     "execution_count": 78,
     "metadata": {},
     "output_type": "execute_result"
    }
   ],
   "source": [
    "high_categories"
   ]
  },
  {
   "cell_type": "code",
   "execution_count": 79,
   "id": "407f8591",
   "metadata": {},
   "outputs": [
    {
     "data": {
      "text/plain": [
       "0       PC   Гарнитуры Наушники\n",
       "1              Аксессуары   PS2\n",
       "2              Аксессуары   PS3\n",
       "3              Аксессуары   PS4\n",
       "4              Аксессуары   PSP\n",
       "                ...            \n",
       "79                    Служебные\n",
       "80           Служебные   Билеты\n",
       "81      Чистые носители  шпиль \n",
       "82    Чистые носители  штучные \n",
       "83             Элементы питания\n",
       "Name: item_category_name, Length: 84, dtype: object"
      ]
     },
     "execution_count": 79,
     "metadata": {},
     "output_type": "execute_result"
    }
   ],
   "source": [
    "'''\n",
    "위에서 만든 특수문자 제거 함수 사용\n",
    "'''\n",
    "high_categories = high_categories.apply(clean_text)\n",
    "high_categories"
   ]
  },
  {
   "cell_type": "code",
   "execution_count": 80,
   "id": "f5724cae",
   "metadata": {},
   "outputs": [
    {
     "data": {
      "text/plain": [
       "0       [PC, , , Гарнитуры, Наушники]\n",
       "1               [Аксессуары, , , PS2]\n",
       "2               [Аксессуары, , , PS3]\n",
       "3               [Аксессуары, , , PS4]\n",
       "4               [Аксессуары, , , PSP]\n",
       "                   ...               \n",
       "79                        [Служебные]\n",
       "80            [Служебные, , , Билеты]\n",
       "81      [Чистые, носители, , шпиль, ]\n",
       "82    [Чистые, носители, , штучные, ]\n",
       "83                [Элементы, питания]\n",
       "Name: item_category_name, Length: 84, dtype: object"
      ]
     },
     "execution_count": 80,
     "metadata": {},
     "output_type": "execute_result"
    }
   ],
   "source": [
    "'''\n",
    "공백으로 문자 분리하기\n",
    "'''\n",
    "high_categories = high_categories.str.split(' ')\n",
    "high_categories"
   ]
  },
  {
   "cell_type": "code",
   "execution_count": 81,
   "id": "2b121372",
   "metadata": {},
   "outputs": [
    {
     "data": {
      "text/plain": [
       "['PC',\n",
       " 'Аксессуары',\n",
       " 'Аксессуары',\n",
       " 'Аксессуары',\n",
       " 'Аксессуары',\n",
       " 'Аксессуары',\n",
       " 'Аксессуары',\n",
       " 'Аксессуары',\n",
       " 'Билеты',\n",
       " 'Доставка',\n",
       " 'Игровые',\n",
       " 'Игровые',\n",
       " 'Игровые',\n",
       " 'Игровые',\n",
       " 'Игровые',\n",
       " 'Игровые',\n",
       " 'Игровые',\n",
       " 'Игровые',\n",
       " 'Игры',\n",
       " 'Игры',\n",
       " 'Игры',\n",
       " 'Игры',\n",
       " 'Игры',\n",
       " 'Игры',\n",
       " 'Игры',\n",
       " 'Игры',\n",
       " 'Игры',\n",
       " 'Игры',\n",
       " 'Игры',\n",
       " 'Игры',\n",
       " 'Игры',\n",
       " 'Игры',\n",
       " 'Карты',\n",
       " 'Карты',\n",
       " 'Карты',\n",
       " 'Карты',\n",
       " 'Карты',\n",
       " 'Кино',\n",
       " 'Кино',\n",
       " 'Кино',\n",
       " 'Кино',\n",
       " 'Кино',\n",
       " 'Книги',\n",
       " 'Книги',\n",
       " 'Книги',\n",
       " 'Книги',\n",
       " 'Книги',\n",
       " 'Книги',\n",
       " 'Книги',\n",
       " 'Книги',\n",
       " 'Книги',\n",
       " 'Книги',\n",
       " 'Книги',\n",
       " 'Книги',\n",
       " 'Книги',\n",
       " 'Музыка',\n",
       " 'Музыка',\n",
       " 'Музыка',\n",
       " 'Музыка',\n",
       " 'Музыка',\n",
       " 'Музыка',\n",
       " 'Подарки',\n",
       " 'Подарки',\n",
       " 'Подарки',\n",
       " 'Подарки',\n",
       " 'Подарки',\n",
       " 'Подарки',\n",
       " 'Подарки',\n",
       " 'Подарки',\n",
       " 'Подарки',\n",
       " 'Подарки',\n",
       " 'Подарки',\n",
       " 'Подарки',\n",
       " 'Программы',\n",
       " 'Программы',\n",
       " 'Программы',\n",
       " 'Программы',\n",
       " 'Программы',\n",
       " 'Программы',\n",
       " 'Служебные',\n",
       " 'Служебные',\n",
       " 'Чистые',\n",
       " 'Чистые',\n",
       " 'Элементы']"
      ]
     },
     "execution_count": 81,
     "metadata": {},
     "output_type": "execute_result"
    }
   ],
   "source": [
    "'''\n",
    "앞에 문자만 분리해서 저장\n",
    "'''\n",
    "high_categories = [high_categories[i][0] for i in range(len(high_categories))]\n",
    "high_categories"
   ]
  },
  {
   "cell_type": "code",
   "execution_count": 84,
   "id": "9e16f1d3",
   "metadata": {},
   "outputs": [],
   "source": [
    "item_high_categories = item_categories.copy()\n",
    "item_high_categories['high_categories'] = high_categories"
   ]
  },
  {
   "cell_type": "code",
   "execution_count": 85,
   "id": "dbe09768",
   "metadata": {},
   "outputs": [
    {
     "data": {
      "text/html": [
       "<div>\n",
       "<style scoped>\n",
       "    .dataframe tbody tr th:only-of-type {\n",
       "        vertical-align: middle;\n",
       "    }\n",
       "\n",
       "    .dataframe tbody tr th {\n",
       "        vertical-align: top;\n",
       "    }\n",
       "\n",
       "    .dataframe thead th {\n",
       "        text-align: right;\n",
       "    }\n",
       "</style>\n",
       "<table border=\"1\" class=\"dataframe\">\n",
       "  <thead>\n",
       "    <tr style=\"text-align: right;\">\n",
       "      <th></th>\n",
       "      <th>item_category_name</th>\n",
       "      <th>item_category_id</th>\n",
       "      <th>high_categories</th>\n",
       "    </tr>\n",
       "  </thead>\n",
       "  <tbody>\n",
       "    <tr>\n",
       "      <th>0</th>\n",
       "      <td>PC - Гарнитуры/Наушники</td>\n",
       "      <td>0</td>\n",
       "      <td>PC</td>\n",
       "    </tr>\n",
       "    <tr>\n",
       "      <th>1</th>\n",
       "      <td>Аксессуары - PS2</td>\n",
       "      <td>1</td>\n",
       "      <td>Аксессуары</td>\n",
       "    </tr>\n",
       "    <tr>\n",
       "      <th>2</th>\n",
       "      <td>Аксессуары - PS3</td>\n",
       "      <td>2</td>\n",
       "      <td>Аксессуары</td>\n",
       "    </tr>\n",
       "    <tr>\n",
       "      <th>3</th>\n",
       "      <td>Аксессуары - PS4</td>\n",
       "      <td>3</td>\n",
       "      <td>Аксессуары</td>\n",
       "    </tr>\n",
       "    <tr>\n",
       "      <th>4</th>\n",
       "      <td>Аксессуары - PSP</td>\n",
       "      <td>4</td>\n",
       "      <td>Аксессуары</td>\n",
       "    </tr>\n",
       "    <tr>\n",
       "      <th>...</th>\n",
       "      <td>...</td>\n",
       "      <td>...</td>\n",
       "      <td>...</td>\n",
       "    </tr>\n",
       "    <tr>\n",
       "      <th>79</th>\n",
       "      <td>Служебные</td>\n",
       "      <td>79</td>\n",
       "      <td>Служебные</td>\n",
       "    </tr>\n",
       "    <tr>\n",
       "      <th>80</th>\n",
       "      <td>Служебные - Билеты</td>\n",
       "      <td>80</td>\n",
       "      <td>Служебные</td>\n",
       "    </tr>\n",
       "    <tr>\n",
       "      <th>81</th>\n",
       "      <td>Чистые носители (шпиль)</td>\n",
       "      <td>81</td>\n",
       "      <td>Чистые</td>\n",
       "    </tr>\n",
       "    <tr>\n",
       "      <th>82</th>\n",
       "      <td>Чистые носители (штучные)</td>\n",
       "      <td>82</td>\n",
       "      <td>Чистые</td>\n",
       "    </tr>\n",
       "    <tr>\n",
       "      <th>83</th>\n",
       "      <td>Элементы питания</td>\n",
       "      <td>83</td>\n",
       "      <td>Элементы</td>\n",
       "    </tr>\n",
       "  </tbody>\n",
       "</table>\n",
       "<p>84 rows × 3 columns</p>\n",
       "</div>"
      ],
      "text/plain": [
       "           item_category_name  item_category_id high_categories\n",
       "0     PC - Гарнитуры/Наушники                 0              PC\n",
       "1            Аксессуары - PS2                 1      Аксессуары\n",
       "2            Аксессуары - PS3                 2      Аксессуары\n",
       "3            Аксессуары - PS4                 3      Аксессуары\n",
       "4            Аксессуары - PSP                 4      Аксессуары\n",
       "..                        ...               ...             ...\n",
       "79                  Служебные                79       Служебные\n",
       "80         Служебные - Билеты                80       Служебные\n",
       "81    Чистые носители (шпиль)                81          Чистые\n",
       "82  Чистые носители (штучные)                82          Чистые\n",
       "83           Элементы питания                83        Элементы\n",
       "\n",
       "[84 rows x 3 columns]"
      ]
     },
     "execution_count": 85,
     "metadata": {},
     "output_type": "execute_result"
    }
   ],
   "source": [
    "'''\n",
    "완성 이것을 라벨 인코딩하면 될 것 같습니다. \n",
    "'''\n",
    "item_high_categories"
   ]
  },
  {
   "cell_type": "code",
   "execution_count": null,
   "id": "1506d3eb",
   "metadata": {},
   "outputs": [],
   "source": []
  }
 ],
 "metadata": {
  "kernelspec": {
   "display_name": "Python 3.9.12 ('base')",
   "language": "python",
   "name": "python3"
  },
  "language_info": {
   "codemirror_mode": {
    "name": "ipython",
    "version": 3
   },
   "file_extension": ".py",
   "mimetype": "text/x-python",
   "name": "python",
   "nbconvert_exporter": "python",
   "pygments_lexer": "ipython3",
   "version": "3.9.12"
  },
  "vscode": {
   "interpreter": {
    "hash": "a077222d77dfe082b8f1dd562ad70e458ac2ab76993a0b248ab0476e32e9e8dd"
   }
  }
 },
 "nbformat": 4,
 "nbformat_minor": 5
}
