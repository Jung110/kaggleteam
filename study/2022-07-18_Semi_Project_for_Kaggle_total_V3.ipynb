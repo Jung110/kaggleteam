{
 "cells": [
  {
   "cell_type": "markdown",
   "id": "6654f602",
   "metadata": {},
   "source": [
    "# 사용할 모듈 불러오기"
   ]
  },
  {
   "cell_type": "code",
   "execution_count": 1,
   "id": "258eff0a",
   "metadata": {},
   "outputs": [],
   "source": [
    "# 사용할 모듈 불러오기 \n",
    "# 라벨인코딩\n",
    "from sklearn.preprocessing import LabelEncoder\n",
    "# 그래프\n",
    "import matplotlib.pyplot as plt\n",
    "from matplotlib import font_manager, rc\n",
    "# 기본\n",
    "import numpy as np\n",
    "import pandas as pd\n",
    "import seaborn as sns\n",
    "# 함수 사용시 사용\n",
    "import re\n",
    "# itertools의 product은 리스트 간의 데카르트 곱을  구하는 데 사용된다.\n",
    "from itertools import product\n",
    "\n"
   ]
  },
  {
   "cell_type": "code",
   "execution_count": 2,
   "id": "e8b657d9",
   "metadata": {},
   "outputs": [],
   "source": [
    "# 데이터 불러오기\n",
    "items = pd.read_csv(\"./data/items.csv\")\n",
    "shops = pd.read_csv(\"./data/shops.csv\")\n",
    "train = pd.read_csv(\"./data/sales_train.csv\")\n",
    "test = pd.read_csv(\"./data/test.csv\")\n",
    "item_categories = pd.read_csv('./data/item_categories.csv')\n",
    "submission = pd.read_csv(\"./data/sample_submission.csv\")"
   ]
  },
  {
   "cell_type": "code",
   "execution_count": 3,
   "id": "d741c49c",
   "metadata": {},
   "outputs": [],
   "source": [
    "font_path = \"C:/Windows/Fonts/NanumGothic.otf\"\n",
    "font = font_manager.FontProperties(fname=font_path).get_name()\n",
    "rc('font', family=font)\n",
    "%matplotlib inline"
   ]
  },
  {
   "cell_type": "markdown",
   "id": "e8b7b6ef",
   "metadata": {},
   "source": [
    "# EDA"
   ]
  },
  {
   "cell_type": "code",
   "execution_count": 4,
   "id": "1504c006",
   "metadata": {},
   "outputs": [],
   "source": [
    "def reduce_mem_usage(df, show_result=True):\n",
    "    num_types = ['int16', 'int32', 'int64', 'float16', 'float32', 'float64']\n",
    "    # 총 메모리를 Mb단위로 표현해준다. \n",
    "    start_mem = df.memory_usage().sum() / 1024**2\n",
    "    # 각 열별로 데이터 타입 및 최대 최소 값 확인 \n",
    "    for col in df.columns:\n",
    "        col_type = df[col].dtypes\n",
    "        if col_type in num_types:\n",
    "            c_min = df[col].min()\n",
    "            c_max = df[col].max()\n",
    "            # 만약 정수형이라면 \n",
    "            if str(col_type)[:3] == 'int':\n",
    "                # np.iinfo()해당 형이 표현 가능한 최댓값 최솟값을 출력해준다. \n",
    "                if c_min > np.iinfo(np.int8).min and c_max < np.iinfo(np.int8).max:\n",
    "                    df[col] = df[col].astype(np.int8)\n",
    "                elif c_min > np.iinfo(np.int16).min and c_max < np.iinfo(np.int16).max:\n",
    "                    df[col] = df[col].astype(np.int16)\n",
    "                elif c_min > np.iinfo(np.int32).min and c_max < np.iinfo(np.int32).max:\n",
    "                    df[col] = df[col].astype(np.int32)\n",
    "                elif c_min > np.iinfo(np.int64).min and c_max < np.iinfo(np.int64).max:\n",
    "                    df[col] = df[col].astype(np.int64)  \n",
    "            # 만약 실수형이라면\n",
    "            else:\n",
    "                if c_min > np.finfo(np.float16).min and c_max < np.finfo(np.float16).max:\n",
    "                    df[col] = df[col].astype(np.float16)\n",
    "                elif c_min > np.finfo(np.float32).min and c_max < np.finfo(np.float32).max:\n",
    "                    df[col] = df[col].astype(np.float32)\n",
    "                else:\n",
    "                    df[col] = df[col].astype(np.float64)    \n",
    "    end_mem = df.memory_usage().sum() / 1024**2\n",
    "    if show_result: \n",
    "        print('Mem. usage decreased to {:.2f} Mb ({:.1f}% reduction)'\n",
    "              .format(end_mem, 100 * (start_mem - end_mem) / start_mem))\n",
    "    return df"
   ]
  },
  {
   "cell_type": "markdown",
   "id": "b7ddcf88",
   "metadata": {},
   "source": [
    "# shops"
   ]
  },
  {
   "cell_type": "code",
   "execution_count": 5,
   "id": "a56606e8",
   "metadata": {},
   "outputs": [
    {
     "name": "stdout",
     "output_type": "stream",
     "text": [
      "<class 'pandas.core.frame.DataFrame'>\n",
      "RangeIndex: 60 entries, 0 to 59\n",
      "Data columns (total 2 columns):\n",
      " #   Column     Non-Null Count  Dtype \n",
      "---  ------     --------------  ----- \n",
      " 0   shop_name  60 non-null     object\n",
      " 1   shop_id    60 non-null     int64 \n",
      "dtypes: int64(1), object(1)\n",
      "memory usage: 1.1+ KB\n"
     ]
    }
   ],
   "source": [
    "shops.info() # 결측값은 없고 데이터 타입이 적당함을 알수있다."
   ]
  },
  {
   "cell_type": "code",
   "execution_count": 6,
   "id": "c9c458fa",
   "metadata": {
    "scrolled": true
   },
   "outputs": [
    {
     "data": {
      "text/html": [
       "<div>\n",
       "<style scoped>\n",
       "    .dataframe tbody tr th:only-of-type {\n",
       "        vertical-align: middle;\n",
       "    }\n",
       "\n",
       "    .dataframe tbody tr th {\n",
       "        vertical-align: top;\n",
       "    }\n",
       "\n",
       "    .dataframe thead th {\n",
       "        text-align: right;\n",
       "    }\n",
       "</style>\n",
       "<table border=\"1\" class=\"dataframe\">\n",
       "  <thead>\n",
       "    <tr style=\"text-align: right;\">\n",
       "      <th></th>\n",
       "      <th>shop_name</th>\n",
       "      <th>shop_id</th>\n",
       "    </tr>\n",
       "  </thead>\n",
       "  <tbody>\n",
       "    <tr>\n",
       "      <th>0</th>\n",
       "      <td>!Якутск Орджоникидзе, 56 фран</td>\n",
       "      <td>0</td>\n",
       "    </tr>\n",
       "    <tr>\n",
       "      <th>1</th>\n",
       "      <td>!Якутск ТЦ \"Центральный\" фран</td>\n",
       "      <td>1</td>\n",
       "    </tr>\n",
       "    <tr>\n",
       "      <th>2</th>\n",
       "      <td>Адыгея ТЦ \"Мега\"</td>\n",
       "      <td>2</td>\n",
       "    </tr>\n",
       "    <tr>\n",
       "      <th>3</th>\n",
       "      <td>Балашиха ТРК \"Октябрь-Киномир\"</td>\n",
       "      <td>3</td>\n",
       "    </tr>\n",
       "    <tr>\n",
       "      <th>4</th>\n",
       "      <td>Волжский ТЦ \"Волга Молл\"</td>\n",
       "      <td>4</td>\n",
       "    </tr>\n",
       "    <tr>\n",
       "      <th>5</th>\n",
       "      <td>Вологда ТРЦ \"Мармелад\"</td>\n",
       "      <td>5</td>\n",
       "    </tr>\n",
       "    <tr>\n",
       "      <th>6</th>\n",
       "      <td>Воронеж (Плехановская, 13)</td>\n",
       "      <td>6</td>\n",
       "    </tr>\n",
       "    <tr>\n",
       "      <th>7</th>\n",
       "      <td>Воронеж ТРЦ \"Максимир\"</td>\n",
       "      <td>7</td>\n",
       "    </tr>\n",
       "    <tr>\n",
       "      <th>8</th>\n",
       "      <td>Воронеж ТРЦ Сити-Парк \"Град\"</td>\n",
       "      <td>8</td>\n",
       "    </tr>\n",
       "    <tr>\n",
       "      <th>9</th>\n",
       "      <td>Выездная Торговля</td>\n",
       "      <td>9</td>\n",
       "    </tr>\n",
       "  </tbody>\n",
       "</table>\n",
       "</div>"
      ],
      "text/plain": [
       "                        shop_name  shop_id\n",
       "0   !Якутск Орджоникидзе, 56 фран        0\n",
       "1   !Якутск ТЦ \"Центральный\" фран        1\n",
       "2                Адыгея ТЦ \"Мега\"        2\n",
       "3  Балашиха ТРК \"Октябрь-Киномир\"        3\n",
       "4        Волжский ТЦ \"Волга Молл\"        4\n",
       "5          Вологда ТРЦ \"Мармелад\"        5\n",
       "6      Воронеж (Плехановская, 13)        6\n",
       "7          Воронеж ТРЦ \"Максимир\"        7\n",
       "8    Воронеж ТРЦ Сити-Парк \"Град\"        8\n",
       "9               Выездная Торговля        9"
      ]
     },
     "execution_count": 6,
     "metadata": {},
     "output_type": "execute_result"
    }
   ],
   "source": [
    "shops.head(10)"
   ]
  },
  {
   "cell_type": "markdown",
   "id": "2878bceb",
   "metadata": {},
   "source": []
  },
  {
   "cell_type": "code",
   "execution_count": 7,
   "id": "add52605",
   "metadata": {},
   "outputs": [
    {
     "name": "stdout",
     "output_type": "stream",
     "text": [
      "code :  10  and   11\n",
      "name :  Жуковский ул  Чкалова 39м   and   Жуковский ул  Чкалова 39м²\n",
      "code :  11  and   10\n",
      "name :  Жуковский ул  Чкалова 39м²  and   Жуковский ул  Чкалова 39м \n",
      "code :  39  and   40\n",
      "name :  РостовНаДону ТРК  Мегацентр Горизонт   and   РостовНаДону ТРК  Мегацентр Горизонт  Островной\n",
      "code :  57  and   0\n",
      "name :  Якутск Орджоникидзе  56  and    Якутск Орджоникидзе  56 фран\n",
      "code :  58  and   1\n",
      "name :  Якутск ТЦ  Центральный   and    Якутск ТЦ  Центральный  фран\n"
     ]
    }
   ],
   "source": [
    "def clean_text(inputString):\n",
    "    text_rmv = re.sub('[-=+,#/\\?:^.@*\\\"※~ㆍ!』‘|\\(\\)\\[\\]`\\'…》\\”\\“\\’·]', ' ', inputString)\n",
    "    return text_rmv\n",
    "shops_names = shops[\"shop_name\"].apply(clean_text)\n",
    "shops_id = shops[\"shop_id\"]\n",
    "# 중복되는 이름 확인 \n",
    "for i in list(zip(shops_names ,shops_id)):\n",
    "    for j in list(zip(shops_names ,shops_id)):\n",
    "        if (re.match('.*'+i[0]+'*.',j[0])) and (i[1]!= j[1]):\n",
    "            print('code : ', i[1], ' and  ', j[1])\n",
    "            print('name : ', i[0], ' and  ', j[0])\n",
    "            "
   ]
  },
  {
   "cell_type": "markdown",
   "id": "1c7e8431",
   "metadata": {},
   "source": [
    "- 위와 같이 shop id가 10:11, 39:40, 57:0, 58:1 4개의 아이디가 중복되는 것을 알 수 있다.\n",
    "- 위의 데이터를 기준으로 train data의 shop id를 바꾸어준다"
   ]
  },
  {
   "cell_type": "code",
   "execution_count": 8,
   "id": "69528a34",
   "metadata": {},
   "outputs": [],
   "source": [
    "train[\"shop_id\"] = train[\"shop_id\"].replace({0: 57, 1: 58, 11: 10, 40: 39})\n",
    "test[\"shop_id\"] = test[\"shop_id\"].replace({0: 57, 1: 58, 11: 10, 40: 39})"
   ]
  },
  {
   "cell_type": "markdown",
   "id": "bc260df3",
   "metadata": {},
   "source": [
    "# test , submission"
   ]
  },
  {
   "cell_type": "code",
   "execution_count": 9,
   "id": "39cf8b5b",
   "metadata": {},
   "outputs": [
    {
     "name": "stdout",
     "output_type": "stream",
     "text": [
      "<class 'pandas.core.frame.DataFrame'>\n",
      "RangeIndex: 214200 entries, 0 to 214199\n",
      "Data columns (total 3 columns):\n",
      " #   Column   Non-Null Count   Dtype\n",
      "---  ------   --------------   -----\n",
      " 0   ID       214200 non-null  int64\n",
      " 1   shop_id  214200 non-null  int64\n",
      " 2   item_id  214200 non-null  int64\n",
      "dtypes: int64(3)\n",
      "memory usage: 4.9 MB\n"
     ]
    }
   ],
   "source": [
    "test.info()  # 결측값은 없고 데이터 타입이 적당함을 알수있다."
   ]
  },
  {
   "cell_type": "code",
   "execution_count": 10,
   "id": "9bdfe104",
   "metadata": {},
   "outputs": [
    {
     "name": "stdout",
     "output_type": "stream",
     "text": [
      "<class 'pandas.core.frame.DataFrame'>\n",
      "RangeIndex: 214200 entries, 0 to 214199\n",
      "Data columns (total 2 columns):\n",
      " #   Column          Non-Null Count   Dtype  \n",
      "---  ------          --------------   -----  \n",
      " 0   ID              214200 non-null  int64  \n",
      " 1   item_cnt_month  214200 non-null  float64\n",
      "dtypes: float64(1), int64(1)\n",
      "memory usage: 3.3 MB\n"
     ]
    }
   ],
   "source": [
    "submission.info() # item_cnt_day 가 아니라 item_cnt_month가 필요함을 알수가있다. "
   ]
  },
  {
   "cell_type": "code",
   "execution_count": 11,
   "id": "b34d9b81",
   "metadata": {},
   "outputs": [
    {
     "name": "stdout",
     "output_type": "stream",
     "text": [
      "diffrent shop_id nums:  14\n",
      "diffrent item_id nums:  363\n",
      "diff_test_items_itemid nums:  0\n"
     ]
    }
   ],
   "source": [
    "# test의 shop_id , item_id 기 train 데이터에 있는지 확인\n",
    "diff_train_test_shop_id  = set(train['shop_id']) - set(test['shop_id'])\n",
    "print('diffrent shop_id nums: ',len(diff_train_test_shop_id))\n",
    "diff_test_train_item_id = set(test['item_id']) - set(train['item_id'])\n",
    "print('diffrent item_id nums: ',len(diff_test_train_item_id))\n",
    "diff_test_items_item_id = set(test['item_id']) - set(items['item_id'])\n",
    "print('diff_test_items_itemid nums: ',len(diff_test_items_item_id))"
   ]
  },
  {
   "cell_type": "markdown",
   "id": "55b2a65a",
   "metadata": {},
   "source": [
    "# 아하!\n",
    "- test에 시간 데이터가 존재하지 않으므로 date_block_num =34 를 추가한다.\n",
    "- shop_id,item_id,date_block_num을 기준으로 묶어 item_cnt_day -> item_cnt_month 로 변환한다.\n",
    "- test에는 존재하지만 train에 존재하지 않는 값이 363개 존재한다.\n",
    "- train에만 있는 가게가 14개 존재한다."
   ]
  },
  {
   "cell_type": "markdown",
   "id": "43e84280",
   "metadata": {},
   "source": [
    "## Train"
   ]
  },
  {
   "cell_type": "code",
   "execution_count": 12,
   "id": "7dfdd5e4",
   "metadata": {},
   "outputs": [
    {
     "name": "stdout",
     "output_type": "stream",
     "text": [
      "<class 'pandas.core.frame.DataFrame'>\n",
      "RangeIndex: 2935849 entries, 0 to 2935848\n",
      "Data columns (total 6 columns):\n",
      " #   Column          Dtype  \n",
      "---  ------          -----  \n",
      " 0   date            object \n",
      " 1   date_block_num  int64  \n",
      " 2   shop_id         int64  \n",
      " 3   item_id         int64  \n",
      " 4   item_price      float64\n",
      " 5   item_cnt_day    float64\n",
      "dtypes: float64(2), int64(3), object(1)\n",
      "memory usage: 134.4+ MB\n"
     ]
    }
   ],
   "source": [
    "train.info() # null 값이 모든데이터에 존재 하지 않는다. "
   ]
  },
  {
   "cell_type": "code",
   "execution_count": 13,
   "id": "c39ad204",
   "metadata": {},
   "outputs": [
    {
     "data": {
      "text/plain": [
       "0   2013-01-02\n",
       "1   2013-01-03\n",
       "2   2013-01-05\n",
       "Name: date, dtype: datetime64[ns]"
      ]
     },
     "execution_count": 13,
     "metadata": {},
     "output_type": "execute_result"
    }
   ],
   "source": [
    "#  date의 자료형을 object  -> dattime 으로 바꾸고 싶다. \n",
    "# 변환하는 과정  ->\n",
    "train[\"date\"] = pd.to_datetime(train[\"date\"], format=\"%d.%m.%Y\")\n",
    "train[\"date\"].head(3) "
   ]
  },
  {
   "cell_type": "code",
   "execution_count": 14,
   "id": "20f1e982",
   "metadata": {},
   "outputs": [
    {
     "name": "stderr",
     "output_type": "stream",
     "text": [
      "C:\\Users\\AW17R4\\AppData\\Local\\Temp\\ipykernel_2792\\2740853986.py:1: FutureWarning: Treating datetime data as categorical rather than numeric in `.describe` is deprecated and will be removed in a future version of pandas. Specify `datetime_is_numeric=True` to silence this warning and adopt the future behavior now.\n",
      "  train.describe(include = 'all')\n"
     ]
    },
    {
     "data": {
      "text/html": [
       "<div>\n",
       "<style scoped>\n",
       "    .dataframe tbody tr th:only-of-type {\n",
       "        vertical-align: middle;\n",
       "    }\n",
       "\n",
       "    .dataframe tbody tr th {\n",
       "        vertical-align: top;\n",
       "    }\n",
       "\n",
       "    .dataframe thead th {\n",
       "        text-align: right;\n",
       "    }\n",
       "</style>\n",
       "<table border=\"1\" class=\"dataframe\">\n",
       "  <thead>\n",
       "    <tr style=\"text-align: right;\">\n",
       "      <th></th>\n",
       "      <th>date</th>\n",
       "      <th>date_block_num</th>\n",
       "      <th>shop_id</th>\n",
       "      <th>item_id</th>\n",
       "      <th>item_price</th>\n",
       "      <th>item_cnt_day</th>\n",
       "    </tr>\n",
       "  </thead>\n",
       "  <tbody>\n",
       "    <tr>\n",
       "      <th>count</th>\n",
       "      <td>2935849</td>\n",
       "      <td>2.935849e+06</td>\n",
       "      <td>2.935849e+06</td>\n",
       "      <td>2.935849e+06</td>\n",
       "      <td>2.935849e+06</td>\n",
       "      <td>2.935849e+06</td>\n",
       "    </tr>\n",
       "    <tr>\n",
       "      <th>unique</th>\n",
       "      <td>1034</td>\n",
       "      <td>NaN</td>\n",
       "      <td>NaN</td>\n",
       "      <td>NaN</td>\n",
       "      <td>NaN</td>\n",
       "      <td>NaN</td>\n",
       "    </tr>\n",
       "    <tr>\n",
       "      <th>top</th>\n",
       "      <td>2013-12-28 00:00:00</td>\n",
       "      <td>NaN</td>\n",
       "      <td>NaN</td>\n",
       "      <td>NaN</td>\n",
       "      <td>NaN</td>\n",
       "      <td>NaN</td>\n",
       "    </tr>\n",
       "    <tr>\n",
       "      <th>freq</th>\n",
       "      <td>9434</td>\n",
       "      <td>NaN</td>\n",
       "      <td>NaN</td>\n",
       "      <td>NaN</td>\n",
       "      <td>NaN</td>\n",
       "      <td>NaN</td>\n",
       "    </tr>\n",
       "    <tr>\n",
       "      <th>first</th>\n",
       "      <td>2013-01-01 00:00:00</td>\n",
       "      <td>NaN</td>\n",
       "      <td>NaN</td>\n",
       "      <td>NaN</td>\n",
       "      <td>NaN</td>\n",
       "      <td>NaN</td>\n",
       "    </tr>\n",
       "    <tr>\n",
       "      <th>last</th>\n",
       "      <td>2015-10-31 00:00:00</td>\n",
       "      <td>NaN</td>\n",
       "      <td>NaN</td>\n",
       "      <td>NaN</td>\n",
       "      <td>NaN</td>\n",
       "      <td>NaN</td>\n",
       "    </tr>\n",
       "    <tr>\n",
       "      <th>mean</th>\n",
       "      <td>NaN</td>\n",
       "      <td>1.456991e+01</td>\n",
       "      <td>3.330172e+01</td>\n",
       "      <td>1.019723e+04</td>\n",
       "      <td>8.908532e+02</td>\n",
       "      <td>1.242641e+00</td>\n",
       "    </tr>\n",
       "    <tr>\n",
       "      <th>std</th>\n",
       "      <td>NaN</td>\n",
       "      <td>9.422988e+00</td>\n",
       "      <td>1.614678e+01</td>\n",
       "      <td>6.324297e+03</td>\n",
       "      <td>1.729800e+03</td>\n",
       "      <td>2.618834e+00</td>\n",
       "    </tr>\n",
       "    <tr>\n",
       "      <th>min</th>\n",
       "      <td>NaN</td>\n",
       "      <td>0.000000e+00</td>\n",
       "      <td>2.000000e+00</td>\n",
       "      <td>0.000000e+00</td>\n",
       "      <td>-1.000000e+00</td>\n",
       "      <td>-2.200000e+01</td>\n",
       "    </tr>\n",
       "    <tr>\n",
       "      <th>25%</th>\n",
       "      <td>NaN</td>\n",
       "      <td>7.000000e+00</td>\n",
       "      <td>2.200000e+01</td>\n",
       "      <td>4.476000e+03</td>\n",
       "      <td>2.490000e+02</td>\n",
       "      <td>1.000000e+00</td>\n",
       "    </tr>\n",
       "    <tr>\n",
       "      <th>50%</th>\n",
       "      <td>NaN</td>\n",
       "      <td>1.400000e+01</td>\n",
       "      <td>3.100000e+01</td>\n",
       "      <td>9.343000e+03</td>\n",
       "      <td>3.990000e+02</td>\n",
       "      <td>1.000000e+00</td>\n",
       "    </tr>\n",
       "    <tr>\n",
       "      <th>75%</th>\n",
       "      <td>NaN</td>\n",
       "      <td>2.300000e+01</td>\n",
       "      <td>4.800000e+01</td>\n",
       "      <td>1.568400e+04</td>\n",
       "      <td>9.990000e+02</td>\n",
       "      <td>1.000000e+00</td>\n",
       "    </tr>\n",
       "    <tr>\n",
       "      <th>max</th>\n",
       "      <td>NaN</td>\n",
       "      <td>3.300000e+01</td>\n",
       "      <td>5.900000e+01</td>\n",
       "      <td>2.216900e+04</td>\n",
       "      <td>3.079800e+05</td>\n",
       "      <td>2.169000e+03</td>\n",
       "    </tr>\n",
       "  </tbody>\n",
       "</table>\n",
       "</div>"
      ],
      "text/plain": [
       "                       date  date_block_num       shop_id       item_id  \\\n",
       "count               2935849    2.935849e+06  2.935849e+06  2.935849e+06   \n",
       "unique                 1034             NaN           NaN           NaN   \n",
       "top     2013-12-28 00:00:00             NaN           NaN           NaN   \n",
       "freq                   9434             NaN           NaN           NaN   \n",
       "first   2013-01-01 00:00:00             NaN           NaN           NaN   \n",
       "last    2015-10-31 00:00:00             NaN           NaN           NaN   \n",
       "mean                    NaN    1.456991e+01  3.330172e+01  1.019723e+04   \n",
       "std                     NaN    9.422988e+00  1.614678e+01  6.324297e+03   \n",
       "min                     NaN    0.000000e+00  2.000000e+00  0.000000e+00   \n",
       "25%                     NaN    7.000000e+00  2.200000e+01  4.476000e+03   \n",
       "50%                     NaN    1.400000e+01  3.100000e+01  9.343000e+03   \n",
       "75%                     NaN    2.300000e+01  4.800000e+01  1.568400e+04   \n",
       "max                     NaN    3.300000e+01  5.900000e+01  2.216900e+04   \n",
       "\n",
       "          item_price  item_cnt_day  \n",
       "count   2.935849e+06  2.935849e+06  \n",
       "unique           NaN           NaN  \n",
       "top              NaN           NaN  \n",
       "freq             NaN           NaN  \n",
       "first            NaN           NaN  \n",
       "last             NaN           NaN  \n",
       "mean    8.908532e+02  1.242641e+00  \n",
       "std     1.729800e+03  2.618834e+00  \n",
       "min    -1.000000e+00 -2.200000e+01  \n",
       "25%     2.490000e+02  1.000000e+00  \n",
       "50%     3.990000e+02  1.000000e+00  \n",
       "75%     9.990000e+02  1.000000e+00  \n",
       "max     3.079800e+05  2.169000e+03  "
      ]
     },
     "execution_count": 14,
     "metadata": {},
     "output_type": "execute_result"
    }
   ],
   "source": [
    "train.describe(include = 'all')"
   ]
  },
  {
   "cell_type": "markdown",
   "id": "9c85e7e0",
   "metadata": {},
   "source": [
    "- 2013-01-01 00:00:00 ~ 2015-10-31 00:00:00 까지의 1034일간의 데이터임을 알수있다.\n",
    "- item_price은 평균과 중위값의 차이가 심한 것으로 보아 이상치가 존재함을 알 수 있디.\n",
    "- item_cnt_day 는일,이,삼 분위수가 1인데 비해 평균은 대략 1.2 최대값은 2168로 이상치가 존재한다.\n",
    "- item_cnt_day, item_price에 최소값들은 음수이다."
   ]
  },
  {
   "cell_type": "code",
   "execution_count": 15,
   "id": "909005bd",
   "metadata": {},
   "outputs": [
    {
     "data": {
      "image/png": "[encoded data removed]",
      "text/plain": [
       "<Figure size 1440x720 with 2 Axes>"
      ]
     },
     "metadata": {
      "needs_background": "light"
     },
     "output_type": "display_data"
    }
   ],
   "source": [
    "def price_item_cnt_day_boxplot():\n",
    "    plt.figure(figsize = (20,10))\n",
    "    # item_price 의 박스플롯\n",
    "    plt.subplot(1,2,1)\n",
    "    sns.boxplot(x = 'date_block_num' , y= 'item_price',data =train)\n",
    "    plt.title('item_price')\n",
    "    plt.grid()\n",
    "    # item_cnt_day의 박스 플롯\n",
    "    plt.subplot(1,2,2)\n",
    "    sns.boxplot(x = 'date_block_num' , y= 'item_cnt_day',data =train)\n",
    "    plt.title('item_cnt_day')\n",
    "    plt.grid()\n",
    "price_item_cnt_day_boxplot()"
   ]
  },
  {
   "cell_type": "markdown",
   "id": "ac1030ff",
   "metadata": {},
   "source": [
    "- 다음은 date_block_num 별로 item_price의 boxplot이다.  \n",
    "- 위의 그래프를 기준으로 item_price는 50000 이상 , item_cnt_day 는 1000 이상을 이상치로서 train에서 제거한다.  \n",
    "- 또한 판매되는 수량을 구하는 것이 목적이므로 0미만의 값을 제거한다."
   ]
  },
  {
   "cell_type": "code",
   "execution_count": 16,
   "id": "42a5c889",
   "metadata": {},
   "outputs": [],
   "source": [
    "condition_for_drop = ((train[\"item_price\"] >= 50000) | (train[\"item_price\"] < 0))\n",
    "train.drop(train[condition_for_drop].index, axis = 0 , inplace=True)\n",
    "\n",
    "condition_for_drop = ((train[\"item_cnt_day\"] >= 1000) | (train[\"item_cnt_day\"] < 0))\n",
    "train.drop(train[condition_for_drop].index, axis = 0 , inplace=True)"
   ]
  },
  {
   "cell_type": "code",
   "execution_count": 17,
   "id": "e471479d",
   "metadata": {},
   "outputs": [
    {
     "data": {
      "image/png": "[encoded data removed]",
      "text/plain": [
       "<Figure size 1440x720 with 2 Axes>"
      ]
     },
     "metadata": {
      "needs_background": "light"
     },
     "output_type": "display_data"
    }
   ],
   "source": [
    "# 제거 후의 boxplot\n",
    "price_item_cnt_day_boxplot()"
   ]
  },
  {
   "cell_type": "markdown",
   "id": "4ed430e5",
   "metadata": {},
   "source": [
    "### train 에만 존재하는 가게 지우기 "
   ]
  },
  {
   "cell_type": "code",
   "execution_count": 18,
   "id": "3bd7c6d2",
   "metadata": {},
   "outputs": [],
   "source": [
    "train = train[train['shop_id'].isin(test['shop_id'].unique())]"
   ]
  },
  {
   "cell_type": "markdown",
   "id": "18074805",
   "metadata": {},
   "source": [
    "### train 에 item_revenue 추가"
   ]
  },
  {
   "cell_type": "code",
   "execution_count": 19,
   "id": "efdaaebe",
   "metadata": {},
   "outputs": [],
   "source": [
    "train['item_revenue'] = train.item_price * train.item_cnt_day"
   ]
  },
  {
   "cell_type": "markdown",
   "id": "8977aa9b",
   "metadata": {},
   "source": [
    "### train 모든 가게에 대해 파는 아이템 조합"
   ]
  },
  {
   "cell_type": "code",
   "execution_count": 20,
   "id": "a65bdff9",
   "metadata": {},
   "outputs": [],
   "source": [
    "'''\n",
    "방법 1\n",
    "itertools 의 product을 사용하여\n",
    "각 달 아이템이 팔린 가게와 아이템 , data_num_block의 조합을 출력한다. \n",
    "'''\n",
    "\n",
    "sales_df = []\n",
    "for i in range(34):\n",
    "    all_shops = train.loc[train['date_block_num'] == i , 'shop_id'].unique()\n",
    "    all_items = train.loc[train['date_block_num'] == i , 'item_id'].unique()\n",
    "    sales_df.append(np.array(list(product([i] , all_shops ,all_items))))\n",
    "base_feature_names = ['date_block_num','shop_id','item_id']\n",
    "# np.vstack 세로 결합 (열의 갯수가 같아야 한다.)\n",
    "sales_df = pd.DataFrame(np.vstack(sales_df) , columns = base_feature_names)"
   ]
  },
  {
   "cell_type": "code",
   "execution_count": 21,
   "id": "d156cf43",
   "metadata": {},
   "outputs": [
    {
     "data": {
      "text/plain": [
       "0          1.0\n",
       "1          NaN\n",
       "2          NaN\n",
       "3          NaN\n",
       "4          NaN\n",
       "          ... \n",
       "8642756    NaN\n",
       "8642757    NaN\n",
       "8642758    NaN\n",
       "8642759    NaN\n",
       "8642760    NaN\n",
       "Name: item_cnt_month, Length: 8642761, dtype: float64"
      ]
     },
     "execution_count": 21,
     "metadata": {},
     "output_type": "execute_result"
    }
   ],
   "source": [
    "'''\n",
    "doing\n",
    "item_cnt_day >> item_cnt_month \n",
    "doing\n",
    "item_price  >> item_price_mean_month\n",
    "'''\n",
    "train_item_cnt_month  = train.pivot_table(index = base_feature_names ,\n",
    "                                          values = ['item_cnt_day','item_price'] , \n",
    "                                          aggfunc ={'item_cnt_day': np.sum,\n",
    "                                                   'item_price': np.mean})\n",
    "sales_df = pd.merge(sales_df,\n",
    "                      train_item_cnt_month.reset_index(),\n",
    "                      on = base_feature_names,\n",
    "                      how= 'left')\n",
    "\n",
    "sales_df.rename(columns= {'item_cnt_day':'item_cnt_month','item_price': 'item_price_mean'} ,inplace = True)\n",
    "sales_df['item_cnt_month'].clip(0,20)"
   ]
  },
  {
   "cell_type": "code",
   "execution_count": 22,
   "id": "97394051",
   "metadata": {},
   "outputs": [
    {
     "data": {
      "text/html": [
       "<div>\n",
       "<style scoped>\n",
       "    .dataframe tbody tr th:only-of-type {\n",
       "        vertical-align: middle;\n",
       "    }\n",
       "\n",
       "    .dataframe tbody tr th {\n",
       "        vertical-align: top;\n",
       "    }\n",
       "\n",
       "    .dataframe thead th {\n",
       "        text-align: right;\n",
       "    }\n",
       "</style>\n",
       "<table border=\"1\" class=\"dataframe\">\n",
       "  <thead>\n",
       "    <tr style=\"text-align: right;\">\n",
       "      <th></th>\n",
       "      <th>date_block_num</th>\n",
       "      <th>shop_id</th>\n",
       "      <th>item_id</th>\n",
       "      <th>item_cnt_month</th>\n",
       "      <th>item_price_mean</th>\n",
       "      <th>item_count</th>\n",
       "    </tr>\n",
       "  </thead>\n",
       "  <tbody>\n",
       "    <tr>\n",
       "      <th>0</th>\n",
       "      <td>0</td>\n",
       "      <td>59</td>\n",
       "      <td>22154</td>\n",
       "      <td>1.0</td>\n",
       "      <td>999.0</td>\n",
       "      <td>1.0</td>\n",
       "    </tr>\n",
       "    <tr>\n",
       "      <th>1</th>\n",
       "      <td>0</td>\n",
       "      <td>59</td>\n",
       "      <td>2552</td>\n",
       "      <td>0.0</td>\n",
       "      <td>0.0</td>\n",
       "      <td>0.0</td>\n",
       "    </tr>\n",
       "    <tr>\n",
       "      <th>2</th>\n",
       "      <td>0</td>\n",
       "      <td>59</td>\n",
       "      <td>2554</td>\n",
       "      <td>0.0</td>\n",
       "      <td>0.0</td>\n",
       "      <td>0.0</td>\n",
       "    </tr>\n",
       "    <tr>\n",
       "      <th>3</th>\n",
       "      <td>0</td>\n",
       "      <td>59</td>\n",
       "      <td>2555</td>\n",
       "      <td>0.0</td>\n",
       "      <td>0.0</td>\n",
       "      <td>0.0</td>\n",
       "    </tr>\n",
       "    <tr>\n",
       "      <th>4</th>\n",
       "      <td>0</td>\n",
       "      <td>59</td>\n",
       "      <td>2564</td>\n",
       "      <td>0.0</td>\n",
       "      <td>0.0</td>\n",
       "      <td>0.0</td>\n",
       "    </tr>\n",
       "  </tbody>\n",
       "</table>\n",
       "</div>"
      ],
      "text/plain": [
       "   date_block_num  shop_id  item_id  item_cnt_month  item_price_mean  \\\n",
       "0               0       59    22154             1.0            999.0   \n",
       "1               0       59     2552             0.0              0.0   \n",
       "2               0       59     2554             0.0              0.0   \n",
       "3               0       59     2555             0.0              0.0   \n",
       "4               0       59     2564             0.0              0.0   \n",
       "\n",
       "   item_count  \n",
       "0         1.0  \n",
       "1         0.0  \n",
       "2         0.0  \n",
       "3         0.0  \n",
       "4         0.0  "
      ]
     },
     "execution_count": 22,
     "metadata": {},
     "output_type": "execute_result"
    }
   ],
   "source": [
    "'''\n",
    "\n",
    "adding\n",
    "item_count\n",
    "'''\n",
    "train_item_cnt_month  = train.pivot_table(index = base_feature_names ,\n",
    "                                          values = 'item_cnt_day' , \n",
    "                                          aggfunc = 'count')\n",
    "sales_df = pd.merge(sales_df,\n",
    "                      train_item_cnt_month.reset_index(),\n",
    "                      on = base_feature_names,\n",
    "                      how= 'left')\n",
    "sales_df.rename(columns= {'item_cnt_day':'item_count'} \n",
    "                  ,inplace = True)\n",
    "sales_df.fillna(0 , inplace = True)\n",
    "sales_df.head()"
   ]
  },
  {
   "cell_type": "code",
   "execution_count": null,
   "id": "ac3cabc1",
   "metadata": {},
   "outputs": [],
   "source": []
  },
  {
   "cell_type": "markdown",
   "id": "76d28ae7",
   "metadata": {},
   "source": [
    "## items"
   ]
  },
  {
   "cell_type": "code",
   "execution_count": 23,
   "id": "32dc7185",
   "metadata": {},
   "outputs": [
    {
     "name": "stdout",
     "output_type": "stream",
     "text": [
      "<class 'pandas.core.frame.DataFrame'>\n",
      "RangeIndex: 22170 entries, 0 to 22169\n",
      "Data columns (total 3 columns):\n",
      " #   Column            Non-Null Count  Dtype \n",
      "---  ------            --------------  ----- \n",
      " 0   item_name         22170 non-null  object\n",
      " 1   item_id           22170 non-null  int64 \n",
      " 2   item_category_id  22170 non-null  int64 \n",
      "dtypes: int64(2), object(1)\n",
      "memory usage: 519.7+ KB\n"
     ]
    }
   ],
   "source": [
    "items.info() # 결측값은 없고 데이터 타입이 적당함을 알수있다."
   ]
  },
  {
   "cell_type": "code",
   "execution_count": 24,
   "id": "a86d2022",
   "metadata": {},
   "outputs": [
    {
     "data": {
      "text/html": [
       "<div>\n",
       "<style scoped>\n",
       "    .dataframe tbody tr th:only-of-type {\n",
       "        vertical-align: middle;\n",
       "    }\n",
       "\n",
       "    .dataframe tbody tr th {\n",
       "        vertical-align: top;\n",
       "    }\n",
       "\n",
       "    .dataframe thead th {\n",
       "        text-align: right;\n",
       "    }\n",
       "</style>\n",
       "<table border=\"1\" class=\"dataframe\">\n",
       "  <thead>\n",
       "    <tr style=\"text-align: right;\">\n",
       "      <th></th>\n",
       "      <th>item_name</th>\n",
       "      <th>item_id</th>\n",
       "      <th>item_category_id</th>\n",
       "    </tr>\n",
       "  </thead>\n",
       "  <tbody>\n",
       "    <tr>\n",
       "      <th>0</th>\n",
       "      <td>! ВО ВЛАСТИ НАВАЖДЕНИЯ (ПЛАСТ.)         D</td>\n",
       "      <td>0</td>\n",
       "      <td>40</td>\n",
       "    </tr>\n",
       "    <tr>\n",
       "      <th>1</th>\n",
       "      <td>!ABBYY FineReader 12 Professional Edition Full...</td>\n",
       "      <td>1</td>\n",
       "      <td>76</td>\n",
       "    </tr>\n",
       "    <tr>\n",
       "      <th>2</th>\n",
       "      <td>***В ЛУЧАХ СЛАВЫ   (UNV)                    D</td>\n",
       "      <td>2</td>\n",
       "      <td>40</td>\n",
       "    </tr>\n",
       "    <tr>\n",
       "      <th>3</th>\n",
       "      <td>***ГОЛУБАЯ ВОЛНА  (Univ)                      D</td>\n",
       "      <td>3</td>\n",
       "      <td>40</td>\n",
       "    </tr>\n",
       "    <tr>\n",
       "      <th>4</th>\n",
       "      <td>***КОРОБКА (СТЕКЛО)                       D</td>\n",
       "      <td>4</td>\n",
       "      <td>40</td>\n",
       "    </tr>\n",
       "    <tr>\n",
       "      <th>5</th>\n",
       "      <td>***НОВЫЕ АМЕРИКАНСКИЕ ГРАФФИТИ  (UNI)         ...</td>\n",
       "      <td>5</td>\n",
       "      <td>40</td>\n",
       "    </tr>\n",
       "    <tr>\n",
       "      <th>6</th>\n",
       "      <td>***УДАР ПО ВОРОТАМ (UNI)               D</td>\n",
       "      <td>6</td>\n",
       "      <td>40</td>\n",
       "    </tr>\n",
       "    <tr>\n",
       "      <th>7</th>\n",
       "      <td>***УДАР ПО ВОРОТАМ-2 (UNI)               D</td>\n",
       "      <td>7</td>\n",
       "      <td>40</td>\n",
       "    </tr>\n",
       "    <tr>\n",
       "      <th>8</th>\n",
       "      <td>***ЧАЙ С МУССОЛИНИ                     D</td>\n",
       "      <td>8</td>\n",
       "      <td>40</td>\n",
       "    </tr>\n",
       "    <tr>\n",
       "      <th>9</th>\n",
       "      <td>***ШУГАРЛЭНДСКИЙ ЭКСПРЕСС (UNI)             D</td>\n",
       "      <td>9</td>\n",
       "      <td>40</td>\n",
       "    </tr>\n",
       "    <tr>\n",
       "      <th>10</th>\n",
       "      <td>*ЗА ГРАНЬЮ СМЕРТИ                       D</td>\n",
       "      <td>10</td>\n",
       "      <td>40</td>\n",
       "    </tr>\n",
       "    <tr>\n",
       "      <th>11</th>\n",
       "      <td>*ЛИНИЯ СМЕРТИ                           D</td>\n",
       "      <td>11</td>\n",
       "      <td>40</td>\n",
       "    </tr>\n",
       "    <tr>\n",
       "      <th>12</th>\n",
       "      <td>*МИХЕЙ И ДЖУМАНДЖИ  Сука любовь</td>\n",
       "      <td>12</td>\n",
       "      <td>55</td>\n",
       "    </tr>\n",
       "    <tr>\n",
       "      <th>13</th>\n",
       "      <td>*СПАСАЯ ЭМИЛИ                           D</td>\n",
       "      <td>13</td>\n",
       "      <td>40</td>\n",
       "    </tr>\n",
       "    <tr>\n",
       "      <th>14</th>\n",
       "      <td>*ЧОКНУТЫЙ ПРОФЕССОР /МАГИЯ/             D</td>\n",
       "      <td>14</td>\n",
       "      <td>40</td>\n",
       "    </tr>\n",
       "    <tr>\n",
       "      <th>15</th>\n",
       "      <td>//АДРЕНАЛИН: ОДИН ПРОТИВ ВСЕХ (Регион)</td>\n",
       "      <td>15</td>\n",
       "      <td>40</td>\n",
       "    </tr>\n",
       "    <tr>\n",
       "      <th>16</th>\n",
       "      <td>//МОНГОЛ С.Бодров (Регион)</td>\n",
       "      <td>16</td>\n",
       "      <td>40</td>\n",
       "    </tr>\n",
       "    <tr>\n",
       "      <th>17</th>\n",
       "      <td>//НЕ ОСТАВЛЯЮЩИЙ СЛЕДА (Регион)</td>\n",
       "      <td>17</td>\n",
       "      <td>40</td>\n",
       "    </tr>\n",
       "    <tr>\n",
       "      <th>18</th>\n",
       "      <td>/БОМБА ДЛЯ НЕВЕСТЫ /2DVD/               D</td>\n",
       "      <td>18</td>\n",
       "      <td>40</td>\n",
       "    </tr>\n",
       "    <tr>\n",
       "      <th>19</th>\n",
       "      <td>/ЗОЛОТАЯ КОЛЛЕКЦИЯ м/ф-72</td>\n",
       "      <td>19</td>\n",
       "      <td>40</td>\n",
       "    </tr>\n",
       "  </tbody>\n",
       "</table>\n",
       "</div>"
      ],
      "text/plain": [
       "                                            item_name  item_id  \\\n",
       "0           ! ВО ВЛАСТИ НАВАЖДЕНИЯ (ПЛАСТ.)         D        0   \n",
       "1   !ABBYY FineReader 12 Professional Edition Full...        1   \n",
       "2       ***В ЛУЧАХ СЛАВЫ   (UNV)                    D        2   \n",
       "3     ***ГОЛУБАЯ ВОЛНА  (Univ)                      D        3   \n",
       "4         ***КОРОБКА (СТЕКЛО)                       D        4   \n",
       "5   ***НОВЫЕ АМЕРИКАНСКИЕ ГРАФФИТИ  (UNI)         ...        5   \n",
       "6            ***УДАР ПО ВОРОТАМ (UNI)               D        6   \n",
       "7          ***УДАР ПО ВОРОТАМ-2 (UNI)               D        7   \n",
       "8            ***ЧАЙ С МУССОЛИНИ                     D        8   \n",
       "9       ***ШУГАРЛЭНДСКИЙ ЭКСПРЕСС (UNI)             D        9   \n",
       "10          *ЗА ГРАНЬЮ СМЕРТИ                       D       10   \n",
       "11          *ЛИНИЯ СМЕРТИ                           D       11   \n",
       "12                    *МИХЕЙ И ДЖУМАНДЖИ  Сука любовь       12   \n",
       "13          *СПАСАЯ ЭМИЛИ                           D       13   \n",
       "14          *ЧОКНУТЫЙ ПРОФЕССОР /МАГИЯ/             D       14   \n",
       "15             //АДРЕНАЛИН: ОДИН ПРОТИВ ВСЕХ (Регион)       15   \n",
       "16                         //МОНГОЛ С.Бодров (Регион)       16   \n",
       "17                    //НЕ ОСТАВЛЯЮЩИЙ СЛЕДА (Регион)       17   \n",
       "18          /БОМБА ДЛЯ НЕВЕСТЫ /2DVD/               D       18   \n",
       "19                          /ЗОЛОТАЯ КОЛЛЕКЦИЯ м/ф-72       19   \n",
       "\n",
       "    item_category_id  \n",
       "0                 40  \n",
       "1                 76  \n",
       "2                 40  \n",
       "3                 40  \n",
       "4                 40  \n",
       "5                 40  \n",
       "6                 40  \n",
       "7                 40  \n",
       "8                 40  \n",
       "9                 40  \n",
       "10                40  \n",
       "11                40  \n",
       "12                55  \n",
       "13                40  \n",
       "14                40  \n",
       "15                40  \n",
       "16                40  \n",
       "17                40  \n",
       "18                40  \n",
       "19                40  "
      ]
     },
     "execution_count": 24,
     "metadata": {},
     "output_type": "execute_result"
    }
   ],
   "source": [
    "items.head(20)"
   ]
  },
  {
   "cell_type": "code",
   "execution_count": 25,
   "id": "1da5ed93",
   "metadata": {},
   "outputs": [
    {
     "name": "stderr",
     "output_type": "stream",
     "text": [
      "C:\\Users\\AW17R4\\AppData\\Local\\Temp\\ipykernel_2792\\3816375695.py:13: DeprecationWarning: `np.int` is a deprecated alias for the builtin `int`. To silence this warning, use `int` by itself. Doing this will not modify any behavior and is safe. When replacing `np.int`, you may wish to use e.g. `np.int64` or `np.int32` to specify the precision. If you wish to review your current use, check the release note link for additional information.\n",
      "Deprecated in NumPy 1.20; for more details and guidance: https://numpy.org/devdocs/release/1.20.0-notes.html#deprecations\n",
      "  items['first_sale_date'] = items['first_sale_date'].fillna(34).astype(np.int)\n"
     ]
    },
    {
     "data": {
      "text/html": [
       "<div>\n",
       "<style scoped>\n",
       "    .dataframe tbody tr th:only-of-type {\n",
       "        vertical-align: middle;\n",
       "    }\n",
       "\n",
       "    .dataframe tbody tr th {\n",
       "        vertical-align: top;\n",
       "    }\n",
       "\n",
       "    .dataframe thead th {\n",
       "        text-align: right;\n",
       "    }\n",
       "</style>\n",
       "<table border=\"1\" class=\"dataframe\">\n",
       "  <thead>\n",
       "    <tr style=\"text-align: right;\">\n",
       "      <th></th>\n",
       "      <th>item_id</th>\n",
       "      <th>item_category_id</th>\n",
       "      <th>first_sale_date</th>\n",
       "    </tr>\n",
       "  </thead>\n",
       "  <tbody>\n",
       "    <tr>\n",
       "      <th>0</th>\n",
       "      <td>0</td>\n",
       "      <td>40</td>\n",
       "      <td>34</td>\n",
       "    </tr>\n",
       "    <tr>\n",
       "      <th>1</th>\n",
       "      <td>1</td>\n",
       "      <td>76</td>\n",
       "      <td>15</td>\n",
       "    </tr>\n",
       "    <tr>\n",
       "      <th>2</th>\n",
       "      <td>2</td>\n",
       "      <td>40</td>\n",
       "      <td>34</td>\n",
       "    </tr>\n",
       "    <tr>\n",
       "      <th>3</th>\n",
       "      <td>3</td>\n",
       "      <td>40</td>\n",
       "      <td>34</td>\n",
       "    </tr>\n",
       "    <tr>\n",
       "      <th>4</th>\n",
       "      <td>4</td>\n",
       "      <td>40</td>\n",
       "      <td>34</td>\n",
       "    </tr>\n",
       "  </tbody>\n",
       "</table>\n",
       "</div>"
      ],
      "text/plain": [
       "   item_id  item_category_id  first_sale_date\n",
       "0        0                40               34\n",
       "1        1                76               15\n",
       "2        2                40               34\n",
       "3        3                40               34\n",
       "4        4                40               34"
      ]
     },
     "execution_count": 25,
     "metadata": {},
     "output_type": "execute_result"
    }
   ],
   "source": [
    "# 이름 부분 제거\n",
    "items = items.drop(['item_name'], axis=1)\n",
    "\n",
    "# 처음 팔린 날 저장\n",
    "items['first_sale_date'] = \\\n",
    "train.pivot_table(index = 'item_id' ,\n",
    "                  values=  'date_block_num' ,\n",
    "                  aggfunc = np.min)['date_block_num']\n",
    "\n",
    "items[items['first_sale_date'].isna()]\n",
    "\n",
    "# Nan값을 34로 저장 \n",
    "items['first_sale_date'] = items['first_sale_date'].fillna(34).astype(np.int)\n",
    "\n",
    "items.head()"
   ]
  },
  {
   "cell_type": "code",
   "execution_count": 26,
   "id": "a348b621",
   "metadata": {},
   "outputs": [
    {
     "data": {
      "image/png": "[encoded data removed]",
      "text/plain": [
       "<Figure size 1440x720 with 1 Axes>"
      ]
     },
     "metadata": {
      "needs_background": "light"
     },
     "output_type": "display_data"
    }
   ],
   "source": [
    "plt.figure(figsize=(20,10))\n",
    "sns.countplot(x= 'item_category_id' , data = items)\n",
    "plt.xticks(size = 15 , rotation =  45 , color = 'black')\n",
    "plt.show()"
   ]
  },
  {
   "cell_type": "markdown",
   "id": "3e0604a9",
   "metadata": {},
   "source": [
    "- 특정 카테고리에 아이템이 몰려 있는 것을 확인 할 수 있다. \n",
    "- 이를 해결하기 위해 상위 카테고리를 분리 후 데이터가 수가 작은 카테고리는 기타 카테고리에 묶는 작업이 필요하다."
   ]
  },
  {
   "cell_type": "markdown",
   "id": "22bbc4e7",
   "metadata": {},
   "source": [
    "# item_category"
   ]
  },
  {
   "cell_type": "code",
   "execution_count": 27,
   "id": "7baa0271",
   "metadata": {},
   "outputs": [
    {
     "name": "stdout",
     "output_type": "stream",
     "text": [
      "<class 'pandas.core.frame.DataFrame'>\n",
      "RangeIndex: 84 entries, 0 to 83\n",
      "Data columns (total 2 columns):\n",
      " #   Column              Non-Null Count  Dtype \n",
      "---  ------              --------------  ----- \n",
      " 0   item_category_name  84 non-null     object\n",
      " 1   item_category_id    84 non-null     int64 \n",
      "dtypes: int64(1), object(1)\n",
      "memory usage: 1.4+ KB\n"
     ]
    }
   ],
   "source": [
    "item_categories.info()"
   ]
  },
  {
   "cell_type": "code",
   "execution_count": 28,
   "id": "8b54557e",
   "metadata": {},
   "outputs": [
    {
     "data": {
      "text/html": [
       "<div>\n",
       "<style scoped>\n",
       "    .dataframe tbody tr th:only-of-type {\n",
       "        vertical-align: middle;\n",
       "    }\n",
       "\n",
       "    .dataframe tbody tr th {\n",
       "        vertical-align: top;\n",
       "    }\n",
       "\n",
       "    .dataframe thead th {\n",
       "        text-align: right;\n",
       "    }\n",
       "</style>\n",
       "<table border=\"1\" class=\"dataframe\">\n",
       "  <thead>\n",
       "    <tr style=\"text-align: right;\">\n",
       "      <th></th>\n",
       "      <th>item_category_name</th>\n",
       "      <th>item_category_id</th>\n",
       "    </tr>\n",
       "  </thead>\n",
       "  <tbody>\n",
       "    <tr>\n",
       "      <th>0</th>\n",
       "      <td>PC - Гарнитуры/Наушники</td>\n",
       "      <td>0</td>\n",
       "    </tr>\n",
       "    <tr>\n",
       "      <th>1</th>\n",
       "      <td>Аксессуары - PS2</td>\n",
       "      <td>1</td>\n",
       "    </tr>\n",
       "    <tr>\n",
       "      <th>2</th>\n",
       "      <td>Аксессуары - PS3</td>\n",
       "      <td>2</td>\n",
       "    </tr>\n",
       "    <tr>\n",
       "      <th>3</th>\n",
       "      <td>Аксессуары - PS4</td>\n",
       "      <td>3</td>\n",
       "    </tr>\n",
       "    <tr>\n",
       "      <th>4</th>\n",
       "      <td>Аксессуары - PSP</td>\n",
       "      <td>4</td>\n",
       "    </tr>\n",
       "    <tr>\n",
       "      <th>5</th>\n",
       "      <td>Аксессуары - PSVita</td>\n",
       "      <td>5</td>\n",
       "    </tr>\n",
       "    <tr>\n",
       "      <th>6</th>\n",
       "      <td>Аксессуары - XBOX 360</td>\n",
       "      <td>6</td>\n",
       "    </tr>\n",
       "    <tr>\n",
       "      <th>7</th>\n",
       "      <td>Аксессуары - XBOX ONE</td>\n",
       "      <td>7</td>\n",
       "    </tr>\n",
       "    <tr>\n",
       "      <th>8</th>\n",
       "      <td>Билеты (Цифра)</td>\n",
       "      <td>8</td>\n",
       "    </tr>\n",
       "    <tr>\n",
       "      <th>9</th>\n",
       "      <td>Доставка товара</td>\n",
       "      <td>9</td>\n",
       "    </tr>\n",
       "    <tr>\n",
       "      <th>10</th>\n",
       "      <td>Игровые консоли - PS2</td>\n",
       "      <td>10</td>\n",
       "    </tr>\n",
       "    <tr>\n",
       "      <th>11</th>\n",
       "      <td>Игровые консоли - PS3</td>\n",
       "      <td>11</td>\n",
       "    </tr>\n",
       "    <tr>\n",
       "      <th>12</th>\n",
       "      <td>Игровые консоли - PS4</td>\n",
       "      <td>12</td>\n",
       "    </tr>\n",
       "    <tr>\n",
       "      <th>13</th>\n",
       "      <td>Игровые консоли - PSP</td>\n",
       "      <td>13</td>\n",
       "    </tr>\n",
       "    <tr>\n",
       "      <th>14</th>\n",
       "      <td>Игровые консоли - PSVita</td>\n",
       "      <td>14</td>\n",
       "    </tr>\n",
       "    <tr>\n",
       "      <th>15</th>\n",
       "      <td>Игровые консоли - XBOX 360</td>\n",
       "      <td>15</td>\n",
       "    </tr>\n",
       "    <tr>\n",
       "      <th>16</th>\n",
       "      <td>Игровые консоли - XBOX ONE</td>\n",
       "      <td>16</td>\n",
       "    </tr>\n",
       "    <tr>\n",
       "      <th>17</th>\n",
       "      <td>Игровые консоли - Прочие</td>\n",
       "      <td>17</td>\n",
       "    </tr>\n",
       "    <tr>\n",
       "      <th>18</th>\n",
       "      <td>Игры - PS2</td>\n",
       "      <td>18</td>\n",
       "    </tr>\n",
       "    <tr>\n",
       "      <th>19</th>\n",
       "      <td>Игры - PS3</td>\n",
       "      <td>19</td>\n",
       "    </tr>\n",
       "  </tbody>\n",
       "</table>\n",
       "</div>"
      ],
      "text/plain": [
       "            item_category_name  item_category_id\n",
       "0      PC - Гарнитуры/Наушники                 0\n",
       "1             Аксессуары - PS2                 1\n",
       "2             Аксессуары - PS3                 2\n",
       "3             Аксессуары - PS4                 3\n",
       "4             Аксессуары - PSP                 4\n",
       "5          Аксессуары - PSVita                 5\n",
       "6        Аксессуары - XBOX 360                 6\n",
       "7        Аксессуары - XBOX ONE                 7\n",
       "8               Билеты (Цифра)                 8\n",
       "9              Доставка товара                 9\n",
       "10       Игровые консоли - PS2                10\n",
       "11       Игровые консоли - PS3                11\n",
       "12       Игровые консоли - PS4                12\n",
       "13       Игровые консоли - PSP                13\n",
       "14    Игровые консоли - PSVita                14\n",
       "15  Игровые консоли - XBOX 360                15\n",
       "16  Игровые консоли - XBOX ONE                16\n",
       "17    Игровые консоли - Прочие                17\n",
       "18                  Игры - PS2                18\n",
       "19                  Игры - PS3                19"
      ]
     },
     "execution_count": 28,
     "metadata": {},
     "output_type": "execute_result"
    }
   ],
   "source": [
    "item_categories.head(20)"
   ]
  },
  {
   "cell_type": "markdown",
   "id": "ff3fea95",
   "metadata": {},
   "source": [
    "- item_category_name에 같은 단어가 들어가는 데이터가 많이 존재한다\n",
    "- 이를 묶어 더 큰 범주를 만들 수 있다."
   ]
  },
  {
   "cell_type": "markdown",
   "id": "bd26c7f3",
   "metadata": {},
   "source": [
    "## high_category"
   ]
  },
  {
   "cell_type": "markdown",
   "id": "88c4373a",
   "metadata": {},
   "source": [
    "- item_category의 앞부분만 자르고 새롭게 만든 열을 라벨인코딩 (악세사리 >> 1)   \n",
    "- item_id와 연결되어있는 item_category를 새롭게 만든 열로 연결하여 test값을 예측한다면?"
   ]
  },
  {
   "cell_type": "code",
   "execution_count": 29,
   "id": "85cae7f3",
   "metadata": {},
   "outputs": [],
   "source": [
    "# item_category 분류하여 새로운 열 만들기\n",
    "def make_high_category(data_name_col):\n",
    "    '''\n",
    "    상위 분류를 생성후 라벨 인코딩을 하는 함수\n",
    "    shopname 과 item_category_name 에 사용\n",
    "    '''\n",
    "    data_name_col\n",
    "    data_name_col = data_name_col.apply(clean_text)\n",
    "    high_category_name = data_name_col.str.split(' ')\n",
    "    high_category_name = [data[1] if data[0] == '' else data[0] for data in high_category_name]\n",
    "    high_category_name_le = LabelEncoder()\n",
    "    high_category_name_le.fit(high_category_name)\n",
    "    high_category_id = high_category_name_le.transform(high_category_name)\n",
    "    return high_category_name , high_category_id"
   ]
  },
  {
   "cell_type": "markdown",
   "id": "ef0e5dca",
   "metadata": {},
   "source": [
    "### 아이템 상위 카테고리 high_category_name"
   ]
  },
  {
   "cell_type": "code",
   "execution_count": 30,
   "id": "ce1f32e8",
   "metadata": {},
   "outputs": [],
   "source": [
    "item_categories['high_category_name'] , item_categories['high_category_id'] =\\\n",
    "make_high_category(item_categories.item_category_name)"
   ]
  },
  {
   "cell_type": "code",
   "execution_count": 31,
   "id": "0a21980b",
   "metadata": {},
   "outputs": [
    {
     "name": "stdout",
     "output_type": "stream",
     "text": [
      "Игры          14\n",
      "Книги         13\n",
      "Подарки       12\n",
      "Игровые        8\n",
      "Аксессуары     7\n",
      "Музыка         6\n",
      "Программы      6\n",
      "Карты          5\n",
      "Кино           5\n",
      "Служебные      2\n",
      "Чистые         2\n",
      "PC             1\n",
      "Билеты         1\n",
      "Доставка       1\n",
      "Элементы       1\n",
      "Name: high_category_name, dtype: int64\n"
     ]
    }
   ],
   "source": [
    "item_categories_value_counts=item_categories['high_category_name'].value_counts()\n",
    "print(item_categories_value_counts)\n",
    "item_categories_value_counts =\\\n",
    "item_categories_value_counts[item_categories_value_counts<5].index"
   ]
  },
  {
   "cell_type": "markdown",
   "id": "533cdc75",
   "metadata": {},
   "source": [
    "- 아이템 종류가 5개 미만인 상위 카테고리는 etc로 묶어준다."
   ]
  },
  {
   "cell_type": "code",
   "execution_count": 32,
   "id": "e4d00f03",
   "metadata": {},
   "outputs": [],
   "source": [
    "item_categories['high_category_name'] = \\\n",
    "item_categories['high_category_name'].apply(\n",
    "    lambda x : 'etc' if x in item_categories_value_counts else x)"
   ]
  },
  {
   "cell_type": "code",
   "execution_count": 33,
   "id": "9842a8c4",
   "metadata": {},
   "outputs": [
    {
     "data": {
      "text/plain": [
       "Игры          14\n",
       "Книги         13\n",
       "Подарки       12\n",
       "etc            8\n",
       "Игровые        8\n",
       "Аксессуары     7\n",
       "Музыка         6\n",
       "Программы      6\n",
       "Карты          5\n",
       "Кино           5\n",
       "Name: high_category_name, dtype: int64"
      ]
     },
     "execution_count": 33,
     "metadata": {},
     "output_type": "execute_result"
    }
   ],
   "source": [
    "item_categories['high_category_name'].value_counts()"
   ]
  },
  {
   "cell_type": "markdown",
   "id": "55b20fb9",
   "metadata": {},
   "source": [
    "### shop 상위 카테고리 city"
   ]
  },
  {
   "cell_type": "code",
   "execution_count": 34,
   "id": "be377def",
   "metadata": {},
   "outputs": [],
   "source": [
    "shops['city_name'],shops['city_id'] = make_high_category(shops.shop_name)"
   ]
  },
  {
   "cell_type": "code",
   "execution_count": 35,
   "id": "464f673c",
   "metadata": {},
   "outputs": [
    {
     "data": {
      "text/html": [
       "<div>\n",
       "<style scoped>\n",
       "    .dataframe tbody tr th:only-of-type {\n",
       "        vertical-align: middle;\n",
       "    }\n",
       "\n",
       "    .dataframe tbody tr th {\n",
       "        vertical-align: top;\n",
       "    }\n",
       "\n",
       "    .dataframe thead th {\n",
       "        text-align: right;\n",
       "    }\n",
       "</style>\n",
       "<table border=\"1\" class=\"dataframe\">\n",
       "  <thead>\n",
       "    <tr style=\"text-align: right;\">\n",
       "      <th></th>\n",
       "      <th>shop_name</th>\n",
       "      <th>shop_id</th>\n",
       "      <th>city_name</th>\n",
       "      <th>city_id</th>\n",
       "    </tr>\n",
       "  </thead>\n",
       "  <tbody>\n",
       "    <tr>\n",
       "      <th>0</th>\n",
       "      <td>!Якутск Орджоникидзе, 56 фран</td>\n",
       "      <td>0</td>\n",
       "      <td>Якутск</td>\n",
       "      <td>29</td>\n",
       "    </tr>\n",
       "    <tr>\n",
       "      <th>1</th>\n",
       "      <td>!Якутск ТЦ \"Центральный\" фран</td>\n",
       "      <td>1</td>\n",
       "      <td>Якутск</td>\n",
       "      <td>29</td>\n",
       "    </tr>\n",
       "    <tr>\n",
       "      <th>2</th>\n",
       "      <td>Адыгея ТЦ \"Мега\"</td>\n",
       "      <td>2</td>\n",
       "      <td>Адыгея</td>\n",
       "      <td>0</td>\n",
       "    </tr>\n",
       "  </tbody>\n",
       "</table>\n",
       "</div>"
      ],
      "text/plain": [
       "                       shop_name  shop_id city_name  city_id\n",
       "0  !Якутск Орджоникидзе, 56 фран        0    Якутск       29\n",
       "1  !Якутск ТЦ \"Центральный\" фран        1    Якутск       29\n",
       "2               Адыгея ТЦ \"Мега\"        2    Адыгея        0"
      ]
     },
     "execution_count": 35,
     "metadata": {},
     "output_type": "execute_result"
    }
   ],
   "source": [
    "shops.head(3)"
   ]
  },
  {
   "cell_type": "markdown",
   "id": "a17f77d3",
   "metadata": {},
   "source": [
    "## train + test "
   ]
  },
  {
   "cell_type": "code",
   "execution_count": 36,
   "id": "0e9adbed",
   "metadata": {},
   "outputs": [
    {
     "data": {
      "text/plain": [
       "(Index(['ID', 'shop_id', 'item_id'], dtype='object'),\n",
       " Index(['date_block_num', 'shop_id', 'item_id', 'item_cnt_month',\n",
       "        'item_price_mean', 'item_count'],\n",
       "       dtype='object'))"
      ]
     },
     "execution_count": 36,
     "metadata": {},
     "output_type": "execute_result"
    }
   ],
   "source": [
    "'''\n",
    "test에 없는 열을 추가 해야 하거나\n",
    "train에 쓸모없는 데이터를 제거해야 한다. \n",
    "'''\n",
    "test.columns , sales_df.columns"
   ]
  },
  {
   "cell_type": "code",
   "execution_count": 37,
   "id": "03d8c71a",
   "metadata": {},
   "outputs": [],
   "source": [
    "test['date_block_num'] = 34\n",
    "del test['ID']"
   ]
  },
  {
   "cell_type": "code",
   "execution_count": 38,
   "id": "7c67dcb8",
   "metadata": {},
   "outputs": [
    {
     "data": {
      "text/html": [
       "<div>\n",
       "<style scoped>\n",
       "    .dataframe tbody tr th:only-of-type {\n",
       "        vertical-align: middle;\n",
       "    }\n",
       "\n",
       "    .dataframe tbody tr th {\n",
       "        vertical-align: top;\n",
       "    }\n",
       "\n",
       "    .dataframe thead th {\n",
       "        text-align: right;\n",
       "    }\n",
       "</style>\n",
       "<table border=\"1\" class=\"dataframe\">\n",
       "  <thead>\n",
       "    <tr style=\"text-align: right;\">\n",
       "      <th></th>\n",
       "      <th>shop_id</th>\n",
       "      <th>item_id</th>\n",
       "      <th>date_block_num</th>\n",
       "      <th>item_cnt_month</th>\n",
       "      <th>item_price_mean</th>\n",
       "      <th>item_count</th>\n",
       "    </tr>\n",
       "  </thead>\n",
       "  <tbody>\n",
       "    <tr>\n",
       "      <th>0</th>\n",
       "      <td>5</td>\n",
       "      <td>5037</td>\n",
       "      <td>34</td>\n",
       "      <td>0.0</td>\n",
       "      <td>0.0</td>\n",
       "      <td>0.0</td>\n",
       "    </tr>\n",
       "    <tr>\n",
       "      <th>1</th>\n",
       "      <td>5</td>\n",
       "      <td>5320</td>\n",
       "      <td>34</td>\n",
       "      <td>0.0</td>\n",
       "      <td>0.0</td>\n",
       "      <td>0.0</td>\n",
       "    </tr>\n",
       "    <tr>\n",
       "      <th>2</th>\n",
       "      <td>5</td>\n",
       "      <td>5233</td>\n",
       "      <td>34</td>\n",
       "      <td>0.0</td>\n",
       "      <td>0.0</td>\n",
       "      <td>0.0</td>\n",
       "    </tr>\n",
       "    <tr>\n",
       "      <th>3</th>\n",
       "      <td>5</td>\n",
       "      <td>5232</td>\n",
       "      <td>34</td>\n",
       "      <td>0.0</td>\n",
       "      <td>0.0</td>\n",
       "      <td>0.0</td>\n",
       "    </tr>\n",
       "    <tr>\n",
       "      <th>4</th>\n",
       "      <td>5</td>\n",
       "      <td>5268</td>\n",
       "      <td>34</td>\n",
       "      <td>0.0</td>\n",
       "      <td>0.0</td>\n",
       "      <td>0.0</td>\n",
       "    </tr>\n",
       "    <tr>\n",
       "      <th>...</th>\n",
       "      <td>...</td>\n",
       "      <td>...</td>\n",
       "      <td>...</td>\n",
       "      <td>...</td>\n",
       "      <td>...</td>\n",
       "      <td>...</td>\n",
       "    </tr>\n",
       "    <tr>\n",
       "      <th>8642756</th>\n",
       "      <td>21</td>\n",
       "      <td>7635</td>\n",
       "      <td>33</td>\n",
       "      <td>0.0</td>\n",
       "      <td>0.0</td>\n",
       "      <td>0.0</td>\n",
       "    </tr>\n",
       "    <tr>\n",
       "      <th>8642757</th>\n",
       "      <td>21</td>\n",
       "      <td>7638</td>\n",
       "      <td>33</td>\n",
       "      <td>0.0</td>\n",
       "      <td>0.0</td>\n",
       "      <td>0.0</td>\n",
       "    </tr>\n",
       "    <tr>\n",
       "      <th>8642758</th>\n",
       "      <td>21</td>\n",
       "      <td>7640</td>\n",
       "      <td>33</td>\n",
       "      <td>0.0</td>\n",
       "      <td>0.0</td>\n",
       "      <td>0.0</td>\n",
       "    </tr>\n",
       "    <tr>\n",
       "      <th>8642759</th>\n",
       "      <td>21</td>\n",
       "      <td>7632</td>\n",
       "      <td>33</td>\n",
       "      <td>0.0</td>\n",
       "      <td>0.0</td>\n",
       "      <td>0.0</td>\n",
       "    </tr>\n",
       "    <tr>\n",
       "      <th>8642760</th>\n",
       "      <td>21</td>\n",
       "      <td>7440</td>\n",
       "      <td>33</td>\n",
       "      <td>0.0</td>\n",
       "      <td>0.0</td>\n",
       "      <td>0.0</td>\n",
       "    </tr>\n",
       "  </tbody>\n",
       "</table>\n",
       "<p>8856961 rows × 6 columns</p>\n",
       "</div>"
      ],
      "text/plain": [
       "         shop_id  item_id  date_block_num  item_cnt_month  item_price_mean  \\\n",
       "0              5     5037              34             0.0              0.0   \n",
       "1              5     5320              34             0.0              0.0   \n",
       "2              5     5233              34             0.0              0.0   \n",
       "3              5     5232              34             0.0              0.0   \n",
       "4              5     5268              34             0.0              0.0   \n",
       "...          ...      ...             ...             ...              ...   \n",
       "8642756       21     7635              33             0.0              0.0   \n",
       "8642757       21     7638              33             0.0              0.0   \n",
       "8642758       21     7640              33             0.0              0.0   \n",
       "8642759       21     7632              33             0.0              0.0   \n",
       "8642760       21     7440              33             0.0              0.0   \n",
       "\n",
       "         item_count  \n",
       "0               0.0  \n",
       "1               0.0  \n",
       "2               0.0  \n",
       "3               0.0  \n",
       "4               0.0  \n",
       "...             ...  \n",
       "8642756         0.0  \n",
       "8642757         0.0  \n",
       "8642758         0.0  \n",
       "8642759         0.0  \n",
       "8642760         0.0  \n",
       "\n",
       "[8856961 rows x 6 columns]"
      ]
     },
     "execution_count": 38,
     "metadata": {},
     "output_type": "execute_result"
    }
   ],
   "source": [
    "# 인덱스 값이 꼬여있다.\n",
    "pd.concat([test,sales_df]).fillna(0)"
   ]
  },
  {
   "cell_type": "code",
   "execution_count": 39,
   "id": "e8e50725",
   "metadata": {},
   "outputs": [
    {
     "data": {
      "text/html": [
       "<div>\n",
       "<style scoped>\n",
       "    .dataframe tbody tr th:only-of-type {\n",
       "        vertical-align: middle;\n",
       "    }\n",
       "\n",
       "    .dataframe tbody tr th {\n",
       "        vertical-align: top;\n",
       "    }\n",
       "\n",
       "    .dataframe thead th {\n",
       "        text-align: right;\n",
       "    }\n",
       "</style>\n",
       "<table border=\"1\" class=\"dataframe\">\n",
       "  <thead>\n",
       "    <tr style=\"text-align: right;\">\n",
       "      <th></th>\n",
       "      <th>date_block_num</th>\n",
       "      <th>shop_id</th>\n",
       "      <th>item_id</th>\n",
       "      <th>item_cnt_month</th>\n",
       "      <th>item_price_mean</th>\n",
       "      <th>item_count</th>\n",
       "    </tr>\n",
       "  </thead>\n",
       "  <tbody>\n",
       "    <tr>\n",
       "      <th>0</th>\n",
       "      <td>0</td>\n",
       "      <td>2</td>\n",
       "      <td>19</td>\n",
       "      <td>0.0</td>\n",
       "      <td>0.0</td>\n",
       "      <td>0.0</td>\n",
       "    </tr>\n",
       "    <tr>\n",
       "      <th>1</th>\n",
       "      <td>0</td>\n",
       "      <td>2</td>\n",
       "      <td>27</td>\n",
       "      <td>1.0</td>\n",
       "      <td>2499.0</td>\n",
       "      <td>1.0</td>\n",
       "    </tr>\n",
       "    <tr>\n",
       "      <th>2</th>\n",
       "      <td>0</td>\n",
       "      <td>2</td>\n",
       "      <td>28</td>\n",
       "      <td>0.0</td>\n",
       "      <td>0.0</td>\n",
       "      <td>0.0</td>\n",
       "    </tr>\n",
       "    <tr>\n",
       "      <th>3</th>\n",
       "      <td>0</td>\n",
       "      <td>2</td>\n",
       "      <td>29</td>\n",
       "      <td>0.0</td>\n",
       "      <td>0.0</td>\n",
       "      <td>0.0</td>\n",
       "    </tr>\n",
       "    <tr>\n",
       "      <th>4</th>\n",
       "      <td>0</td>\n",
       "      <td>2</td>\n",
       "      <td>32</td>\n",
       "      <td>0.0</td>\n",
       "      <td>0.0</td>\n",
       "      <td>0.0</td>\n",
       "    </tr>\n",
       "    <tr>\n",
       "      <th>...</th>\n",
       "      <td>...</td>\n",
       "      <td>...</td>\n",
       "      <td>...</td>\n",
       "      <td>...</td>\n",
       "      <td>...</td>\n",
       "      <td>...</td>\n",
       "    </tr>\n",
       "    <tr>\n",
       "      <th>8856956</th>\n",
       "      <td>34</td>\n",
       "      <td>59</td>\n",
       "      <td>22162</td>\n",
       "      <td>0.0</td>\n",
       "      <td>0.0</td>\n",
       "      <td>0.0</td>\n",
       "    </tr>\n",
       "    <tr>\n",
       "      <th>8856957</th>\n",
       "      <td>34</td>\n",
       "      <td>59</td>\n",
       "      <td>22163</td>\n",
       "      <td>0.0</td>\n",
       "      <td>0.0</td>\n",
       "      <td>0.0</td>\n",
       "    </tr>\n",
       "    <tr>\n",
       "      <th>8856958</th>\n",
       "      <td>34</td>\n",
       "      <td>59</td>\n",
       "      <td>22164</td>\n",
       "      <td>0.0</td>\n",
       "      <td>0.0</td>\n",
       "      <td>0.0</td>\n",
       "    </tr>\n",
       "    <tr>\n",
       "      <th>8856959</th>\n",
       "      <td>34</td>\n",
       "      <td>59</td>\n",
       "      <td>22166</td>\n",
       "      <td>0.0</td>\n",
       "      <td>0.0</td>\n",
       "      <td>0.0</td>\n",
       "    </tr>\n",
       "    <tr>\n",
       "      <th>8856960</th>\n",
       "      <td>34</td>\n",
       "      <td>59</td>\n",
       "      <td>22167</td>\n",
       "      <td>0.0</td>\n",
       "      <td>0.0</td>\n",
       "      <td>0.0</td>\n",
       "    </tr>\n",
       "  </tbody>\n",
       "</table>\n",
       "<p>8856961 rows × 6 columns</p>\n",
       "</div>"
      ],
      "text/plain": [
       "         date_block_num  shop_id  item_id  item_cnt_month  item_price_mean  \\\n",
       "0                     0        2       19             0.0              0.0   \n",
       "1                     0        2       27             1.0           2499.0   \n",
       "2                     0        2       28             0.0              0.0   \n",
       "3                     0        2       29             0.0              0.0   \n",
       "4                     0        2       32             0.0              0.0   \n",
       "...                 ...      ...      ...             ...              ...   \n",
       "8856956              34       59    22162             0.0              0.0   \n",
       "8856957              34       59    22163             0.0              0.0   \n",
       "8856958              34       59    22164             0.0              0.0   \n",
       "8856959              34       59    22166             0.0              0.0   \n",
       "8856960              34       59    22167             0.0              0.0   \n",
       "\n",
       "         item_count  \n",
       "0               0.0  \n",
       "1               1.0  \n",
       "2               0.0  \n",
       "3               0.0  \n",
       "4               0.0  \n",
       "...             ...  \n",
       "8856956         0.0  \n",
       "8856957         0.0  \n",
       "8856958         0.0  \n",
       "8856959         0.0  \n",
       "8856960         0.0  \n",
       "\n",
       "[8856961 rows x 6 columns]"
      ]
     },
     "execution_count": 39,
     "metadata": {},
     "output_type": "execute_result"
    }
   ],
   "source": [
    "pd.concat([test,sales_df])\\\n",
    ".fillna(0)\\\n",
    ".set_index(base_feature_names)\\\n",
    ".sort_index()\\\n",
    ".reset_index()\\\n",
    ".reset_index()\\\n",
    ".drop('index',axis = 1)"
   ]
  },
  {
   "cell_type": "code",
   "execution_count": 40,
   "id": "9a052e8b",
   "metadata": {},
   "outputs": [],
   "source": [
    "sales_df =\\\n",
    "pd.concat([test,sales_df])\\\n",
    ".fillna(0)\\\n",
    ".set_index(base_feature_names)\\\n",
    ".sort_index()\\\n",
    ".reset_index()\\\n",
    ".reset_index()\\\n",
    ".drop('index',axis = 1)"
   ]
  },
  {
   "cell_type": "markdown",
   "id": "cb63b8d5",
   "metadata": {},
   "source": [
    "## merging item , city data"
   ]
  },
  {
   "cell_type": "code",
   "execution_count": 41,
   "id": "fdd7e530",
   "metadata": {},
   "outputs": [],
   "source": [
    "sales_df = \\\n",
    "pd.merge(sales_df ,\n",
    "         shops ,\n",
    "         on =  'shop_id').drop(['shop_name','city_name'] ,axis =1)"
   ]
  },
  {
   "cell_type": "code",
   "execution_count": 42,
   "id": "10589e31",
   "metadata": {},
   "outputs": [
    {
     "data": {
      "text/html": [
       "<div>\n",
       "<style scoped>\n",
       "    .dataframe tbody tr th:only-of-type {\n",
       "        vertical-align: middle;\n",
       "    }\n",
       "\n",
       "    .dataframe tbody tr th {\n",
       "        vertical-align: top;\n",
       "    }\n",
       "\n",
       "    .dataframe thead th {\n",
       "        text-align: right;\n",
       "    }\n",
       "</style>\n",
       "<table border=\"1\" class=\"dataframe\">\n",
       "  <thead>\n",
       "    <tr style=\"text-align: right;\">\n",
       "      <th></th>\n",
       "      <th>date_block_num</th>\n",
       "      <th>shop_id</th>\n",
       "      <th>item_id</th>\n",
       "      <th>item_cnt_month</th>\n",
       "      <th>item_price_mean</th>\n",
       "      <th>item_count</th>\n",
       "      <th>city_id</th>\n",
       "    </tr>\n",
       "  </thead>\n",
       "  <tbody>\n",
       "    <tr>\n",
       "      <th>0</th>\n",
       "      <td>0</td>\n",
       "      <td>2</td>\n",
       "      <td>19</td>\n",
       "      <td>0.0</td>\n",
       "      <td>0.0</td>\n",
       "      <td>0.0</td>\n",
       "      <td>0</td>\n",
       "    </tr>\n",
       "    <tr>\n",
       "      <th>1</th>\n",
       "      <td>0</td>\n",
       "      <td>2</td>\n",
       "      <td>27</td>\n",
       "      <td>1.0</td>\n",
       "      <td>2499.0</td>\n",
       "      <td>1.0</td>\n",
       "      <td>0</td>\n",
       "    </tr>\n",
       "    <tr>\n",
       "      <th>2</th>\n",
       "      <td>0</td>\n",
       "      <td>2</td>\n",
       "      <td>28</td>\n",
       "      <td>0.0</td>\n",
       "      <td>0.0</td>\n",
       "      <td>0.0</td>\n",
       "      <td>0</td>\n",
       "    </tr>\n",
       "  </tbody>\n",
       "</table>\n",
       "</div>"
      ],
      "text/plain": [
       "   date_block_num  shop_id  item_id  item_cnt_month  item_price_mean  \\\n",
       "0               0        2       19             0.0              0.0   \n",
       "1               0        2       27             1.0           2499.0   \n",
       "2               0        2       28             0.0              0.0   \n",
       "\n",
       "   item_count  city_id  \n",
       "0         0.0        0  \n",
       "1         1.0        0  \n",
       "2         0.0        0  "
      ]
     },
     "execution_count": 42,
     "metadata": {},
     "output_type": "execute_result"
    }
   ],
   "source": [
    "sales_df.head(3)"
   ]
  },
  {
   "cell_type": "code",
   "execution_count": 43,
   "id": "30a3e608",
   "metadata": {},
   "outputs": [
    {
     "data": {
      "text/html": [
       "<div>\n",
       "<style scoped>\n",
       "    .dataframe tbody tr th:only-of-type {\n",
       "        vertical-align: middle;\n",
       "    }\n",
       "\n",
       "    .dataframe tbody tr th {\n",
       "        vertical-align: top;\n",
       "    }\n",
       "\n",
       "    .dataframe thead th {\n",
       "        text-align: right;\n",
       "    }\n",
       "</style>\n",
       "<table border=\"1\" class=\"dataframe\">\n",
       "  <thead>\n",
       "    <tr style=\"text-align: right;\">\n",
       "      <th></th>\n",
       "      <th>item_id</th>\n",
       "      <th>item_category_id</th>\n",
       "      <th>first_sale_date</th>\n",
       "      <th>high_category_id</th>\n",
       "    </tr>\n",
       "  </thead>\n",
       "  <tbody>\n",
       "    <tr>\n",
       "      <th>0</th>\n",
       "      <td>0</td>\n",
       "      <td>40</td>\n",
       "      <td>34</td>\n",
       "      <td>7</td>\n",
       "    </tr>\n",
       "    <tr>\n",
       "      <th>1</th>\n",
       "      <td>2</td>\n",
       "      <td>40</td>\n",
       "      <td>34</td>\n",
       "      <td>7</td>\n",
       "    </tr>\n",
       "    <tr>\n",
       "      <th>2</th>\n",
       "      <td>3</td>\n",
       "      <td>40</td>\n",
       "      <td>34</td>\n",
       "      <td>7</td>\n",
       "    </tr>\n",
       "  </tbody>\n",
       "</table>\n",
       "</div>"
      ],
      "text/plain": [
       "   item_id  item_category_id  first_sale_date  high_category_id\n",
       "0        0                40               34                 7\n",
       "1        2                40               34                 7\n",
       "2        3                40               34                 7"
      ]
     },
     "execution_count": 43,
     "metadata": {},
     "output_type": "execute_result"
    }
   ],
   "source": [
    "item_high_categories =\\\n",
    "items.merge(item_categories).drop(['item_category_name','high_category_name'],axis = 1)\n",
    "\n",
    "item_high_categories.head(3)"
   ]
  },
  {
   "cell_type": "code",
   "execution_count": 44,
   "id": "178860a0",
   "metadata": {},
   "outputs": [],
   "source": [
    "sales_df = pd.merge(sales_df ,item_high_categories ,on =  'item_id')"
   ]
  },
  {
   "cell_type": "code",
   "execution_count": 45,
   "id": "7086ef8b",
   "metadata": {},
   "outputs": [
    {
     "data": {
      "text/html": [
       "<div>\n",
       "<style scoped>\n",
       "    .dataframe tbody tr th:only-of-type {\n",
       "        vertical-align: middle;\n",
       "    }\n",
       "\n",
       "    .dataframe tbody tr th {\n",
       "        vertical-align: top;\n",
       "    }\n",
       "\n",
       "    .dataframe thead th {\n",
       "        text-align: right;\n",
       "    }\n",
       "</style>\n",
       "<table border=\"1\" class=\"dataframe\">\n",
       "  <thead>\n",
       "    <tr style=\"text-align: right;\">\n",
       "      <th></th>\n",
       "      <th>date_block_num</th>\n",
       "      <th>shop_id</th>\n",
       "      <th>item_id</th>\n",
       "      <th>item_cnt_month</th>\n",
       "      <th>item_price_mean</th>\n",
       "      <th>item_count</th>\n",
       "      <th>city_id</th>\n",
       "      <th>item_category_id</th>\n",
       "      <th>first_sale_date</th>\n",
       "      <th>high_category_id</th>\n",
       "    </tr>\n",
       "  </thead>\n",
       "  <tbody>\n",
       "    <tr>\n",
       "      <th>0</th>\n",
       "      <td>0</td>\n",
       "      <td>2</td>\n",
       "      <td>19</td>\n",
       "      <td>0.0</td>\n",
       "      <td>0.0</td>\n",
       "      <td>0.0</td>\n",
       "      <td>0</td>\n",
       "      <td>40</td>\n",
       "      <td>0</td>\n",
       "      <td>7</td>\n",
       "    </tr>\n",
       "    <tr>\n",
       "      <th>1</th>\n",
       "      <td>0</td>\n",
       "      <td>3</td>\n",
       "      <td>19</td>\n",
       "      <td>0.0</td>\n",
       "      <td>0.0</td>\n",
       "      <td>0.0</td>\n",
       "      <td>1</td>\n",
       "      <td>40</td>\n",
       "      <td>0</td>\n",
       "      <td>7</td>\n",
       "    </tr>\n",
       "    <tr>\n",
       "      <th>2</th>\n",
       "      <td>0</td>\n",
       "      <td>4</td>\n",
       "      <td>19</td>\n",
       "      <td>0.0</td>\n",
       "      <td>0.0</td>\n",
       "      <td>0.0</td>\n",
       "      <td>2</td>\n",
       "      <td>40</td>\n",
       "      <td>0</td>\n",
       "      <td>7</td>\n",
       "    </tr>\n",
       "  </tbody>\n",
       "</table>\n",
       "</div>"
      ],
      "text/plain": [
       "   date_block_num  shop_id  item_id  item_cnt_month  item_price_mean  \\\n",
       "0               0        2       19             0.0              0.0   \n",
       "1               0        3       19             0.0              0.0   \n",
       "2               0        4       19             0.0              0.0   \n",
       "\n",
       "   item_count  city_id  item_category_id  first_sale_date  high_category_id  \n",
       "0         0.0        0                40                0                 7  \n",
       "1         0.0        1                40                0                 7  \n",
       "2         0.0        2                40                0                 7  "
      ]
     },
     "execution_count": 45,
     "metadata": {},
     "output_type": "execute_result"
    }
   ],
   "source": [
    "sales_df.head(3)"
   ]
  },
  {
   "cell_type": "markdown",
   "id": "3882d667",
   "metadata": {},
   "source": [
    "### add_month"
   ]
  },
  {
   "cell_type": "code",
   "execution_count": 46,
   "id": "ffaa91d0",
   "metadata": {},
   "outputs": [],
   "source": [
    "sales_df['month'] = ((sales_df.date_block_num % 12) +1).astype(np.int8)"
   ]
  },
  {
   "cell_type": "markdown",
   "id": "3648a828",
   "metadata": {},
   "source": [
    "## 시각화"
   ]
  },
  {
   "cell_type": "code",
   "execution_count": 47,
   "id": "71d93ffb",
   "metadata": {},
   "outputs": [],
   "source": [
    "def draw_x_group_y_sum_barplot(x, y):\n",
    "    temp_data_for_plot = \\\n",
    "    sales_df.pivot_table(index = x , values = y , aggfunc = np.sum).reset_index()\n",
    "    plt.figure(figsize=(20,20))\n",
    "    sns.barplot(x= x,\n",
    "                y = y, \n",
    "                data = temp_data_for_plot)\n",
    "    plt.title(f'{y}___per___{x}')\n",
    "    plt.rc.fontsize = 20\n",
    "    plt.show()"
   ]
  },
  {
   "cell_type": "markdown",
   "id": "4b8851e4",
   "metadata": {},
   "source": [
    "### date_block_num 별 팔린 횟수"
   ]
  },
  {
   "cell_type": "code",
   "execution_count": 48,
   "id": "04914e3d",
   "metadata": {
    "scrolled": true
   },
   "outputs": [
    {
     "data": {
      "image/png": "[encoded data removed]",
      "text/plain": [
       "<Figure size 1440x1440 with 1 Axes>"
      ]
     },
     "metadata": {
      "needs_background": "light"
     },
     "output_type": "display_data"
    }
   ],
   "source": [
    "draw_x_group_y_sum_barplot('date_block_num','item_cnt_month')"
   ]
  },
  {
   "cell_type": "markdown",
   "id": "bce6beac",
   "metadata": {},
   "source": [
    "### 달별 팔린 횟수 "
   ]
  },
  {
   "cell_type": "code",
   "execution_count": 49,
   "id": "a5394ff7",
   "metadata": {},
   "outputs": [
    {
     "data": {
      "image/png": "[encoded data removed]",
      "text/plain": [
       "<Figure size 1440x1440 with 1 Axes>"
      ]
     },
     "metadata": {
      "needs_background": "light"
     },
     "output_type": "display_data"
    }
   ],
   "source": [
    "draw_x_group_y_sum_barplot('month','item_cnt_month')"
   ]
  },
  {
   "cell_type": "code",
   "execution_count": 50,
   "id": "96572292",
   "metadata": {},
   "outputs": [
    {
     "name": "stdout",
     "output_type": "stream",
     "text": [
      "<class 'pandas.core.frame.DataFrame'>\n",
      "Int64Index: 8856961 entries, 0 to 8856960\n",
      "Data columns (total 11 columns):\n",
      " #   Column            Dtype  \n",
      "---  ------            -----  \n",
      " 0   date_block_num    int64  \n",
      " 1   shop_id           int64  \n",
      " 2   item_id           int64  \n",
      " 3   item_cnt_month    float64\n",
      " 4   item_price_mean   float64\n",
      " 5   item_count        float64\n",
      " 6   city_id           int32  \n",
      " 7   item_category_id  int64  \n",
      " 8   first_sale_date   int32  \n",
      " 9   high_category_id  int32  \n",
      " 10  month             int8   \n",
      "dtypes: float64(3), int32(3), int64(4), int8(1)\n",
      "memory usage: 650.4 MB\n"
     ]
    }
   ],
   "source": [
    "sales_df.info()"
   ]
  },
  {
   "cell_type": "code",
   "execution_count": null,
   "id": "2e4c34a2",
   "metadata": {},
   "outputs": [],
   "source": []
  },
  {
   "cell_type": "markdown",
   "id": "f6e27d37",
   "metadata": {},
   "source": [
    "## add_mean_feature"
   ]
  },
  {
   "cell_type": "code",
   "execution_count": 51,
   "id": "55f7386d",
   "metadata": {},
   "outputs": [],
   "source": [
    "def add_mean_feature(df ,\n",
    "                     base_feature_names ,\n",
    "                     num_feature_name):\n",
    "    '''\n",
    "    base_feature_name를 기준으로 num_feature_name의 값의\n",
    "    한달 평균을 구해서 df에 병합해주는 함수\n",
    "    '''\n",
    "    num_feature_name\n",
    "    df_temp = df[base_feature_names + [num_feature_name]]\n",
    "    if len(base_feature_names) not in [1, 2, 3]:\n",
    "        raise\n",
    "        \n",
    "    if len(base_feature_names) == 1:\n",
    "        feature_name = 'date_' +num_feature_name+'_mean'\n",
    "    elif len(base_feature_names) == 2:\n",
    "        feature_name = base_feature_names[1] +'_'+num_feature_name.split('_')[1]+ '_month_mean'\n",
    "    else:\n",
    "        feature_name = base_feature_names[1] + '_' + base_feature_names[2] +'_'+num_feature_name.split('_')[1]+'_month_mean'\n",
    "    \n",
    "    df_temp = df_temp.rename(columns = {num_feature_name:feature_name})\n",
    "    print(f'{feature_name}이 생성되었습니다.')\n",
    "    df_temp = df_temp.groupby(base_feature_names).agg({feature_name : np.mean}).reset_index()\n",
    "    df = df.merge(df_temp ,\n",
    "                  on =base_feature_names,\n",
    "                  how= 'left') \n",
    "    return df , feature_name"
   ]
  },
  {
   "cell_type": "code",
   "execution_count": 52,
   "id": "cb39a7a6",
   "metadata": {},
   "outputs": [],
   "source": [
    "def add_lag_data(df , base_feature_names,lag_feature,add_lag_feature_names, lag_periods= [1] , drop = True):\n",
    "    '''\n",
    "    lag_period 만큼의 시차 데이터를 생성하는 함수 \n",
    "    '''\n",
    "    \n",
    "    df_temp = df[base_feature_names + [lag_feature]].copy()\n",
    "    \n",
    "    for i in lag_periods:\n",
    "        feature_name  = lag_feature +\"_lag_\"+str(i)\n",
    "        df_temp.columns = base_feature_names +[feature_name]\n",
    "        df_temp['date_block_num'] +=i\n",
    "        df = df.merge(df_temp.drop_duplicates(), \n",
    "                      on=base_feature_names, \n",
    "                      how='left')\n",
    "        df[feature_name] = df[feature_name].fillna(0)\n",
    "        print(f'{feature_name}을 생성하였습니다.')\n",
    "        add_lag_feature_names.append(feature_name)\n",
    "    if drop : \n",
    "        df = df.drop(columns = [lag_feature] ,axis =1)\n",
    "    \n",
    "    return df ,add_lag_feature_names\n",
    "        "
   ]
  },
  {
   "cell_type": "code",
   "execution_count": 53,
   "id": "d52f630a",
   "metadata": {},
   "outputs": [],
   "source": [
    "sales_df_backup = sales_df.copy()"
   ]
  },
  {
   "cell_type": "code",
   "execution_count": 54,
   "id": "22fa18f3",
   "metadata": {},
   "outputs": [],
   "source": [
    "sales_df = sales_df_backup.copy()"
   ]
  },
  {
   "cell_type": "markdown",
   "id": "c1fdb932",
   "metadata": {},
   "source": [
    "### 월별 평균"
   ]
  },
  {
   "cell_type": "code",
   "execution_count": 55,
   "id": "5223f185",
   "metadata": {},
   "outputs": [
    {
     "name": "stdout",
     "output_type": "stream",
     "text": [
      "date_item_cnt_month_mean이 생성되었습니다.\n",
      "date_item_cnt_month_mean_lag_1을 생성하였습니다.\n",
      "date_item_cnt_month_mean_lag_2을 생성하였습니다.\n",
      "date_item_cnt_month_mean_lag_3을 생성하였습니다.\n",
      "date_item_cnt_month_mean_lag_6을 생성하였습니다.\n",
      "date_item_cnt_month_mean_lag_12을 생성하였습니다.\n"
     ]
    }
   ],
   "source": [
    "# 월별 아이템 팔린 갯수 평균\n",
    "base_feature_names = ['date_block_num']\n",
    "num_feature_name = 'item_cnt_month'\n",
    "add_lag_feature_names = []\n",
    "sales_df ,num_feature_name =\\\n",
    "add_mean_feature(sales_df ,\n",
    "                 base_feature_names,\n",
    "                num_feature_name)\n",
    "sales_df , add_lag_feature_names =\\\n",
    "add_lag_data(sales_df,\n",
    "            base_feature_names,\n",
    "            num_feature_name,\n",
    "            add_lag_feature_names,\n",
    "            [1,2,3,6,12],\n",
    "            False)\n"
   ]
  },
  {
   "cell_type": "code",
   "execution_count": 56,
   "id": "0bdb3441",
   "metadata": {},
   "outputs": [
    {
     "name": "stdout",
     "output_type": "stream",
     "text": [
      "high_category_id_cnt_month_mean이 생성되었습니다.\n",
      "high_category_id_cnt_month_mean_lag_1을 생성하였습니다.\n"
     ]
    }
   ],
   "source": [
    "# 월별 아이템 팔린 갯수 평균\n",
    "base_feature_names = ['date_block_num','high_category_id']\n",
    "num_feature_name = 'item_cnt_month'\n",
    "sales_df ,num_feature_name =\\\n",
    "add_mean_feature(sales_df ,\n",
    "                 base_feature_names,\n",
    "                num_feature_name)\n",
    "sales_df , add_lag_feature_names =\\\n",
    "add_lag_data(sales_df,\n",
    "            base_feature_names,\n",
    "            num_feature_name,\n",
    "            add_lag_feature_names,\n",
    "            [1])"
   ]
  },
  {
   "cell_type": "code",
   "execution_count": 57,
   "id": "4e90524f",
   "metadata": {},
   "outputs": [
    {
     "name": "stdout",
     "output_type": "stream",
     "text": [
      "item_category_id_cnt_month_mean이 생성되었습니다.\n",
      "item_category_id_cnt_month_mean_lag_1을 생성하였습니다.\n"
     ]
    }
   ],
   "source": [
    "base_feature_names = ['date_block_num','item_category_id']\n",
    "num_feature_name = 'item_cnt_month'\n",
    "sales_df ,num_feature_name =\\\n",
    "add_mean_feature(sales_df ,\n",
    "                 base_feature_names,\n",
    "                num_feature_name)\n",
    "sales_df , add_lag_feature_names =\\\n",
    "add_lag_data(sales_df,\n",
    "            base_feature_names,\n",
    "            num_feature_name,\n",
    "            add_lag_feature_names,\n",
    "            [1])"
   ]
  },
  {
   "cell_type": "code",
   "execution_count": null,
   "id": "63a10a91",
   "metadata": {},
   "outputs": [],
   "source": []
  },
  {
   "cell_type": "code",
   "execution_count": null,
   "id": "12855604",
   "metadata": {},
   "outputs": [],
   "source": []
  },
  {
   "cell_type": "code",
   "execution_count": null,
   "id": "a1f4102f",
   "metadata": {},
   "outputs": [],
   "source": []
  },
  {
   "cell_type": "markdown",
   "id": "f497ee61",
   "metadata": {},
   "source": [
    "### shop_id별 평균"
   ]
  },
  {
   "cell_type": "code",
   "execution_count": 58,
   "id": "e022ce69",
   "metadata": {},
   "outputs": [
    {
     "name": "stdout",
     "output_type": "stream",
     "text": [
      "shop_id_cnt_month_mean이 생성되었습니다.\n",
      "shop_id_cnt_month_mean_lag_1을 생성하였습니다.\n",
      "shop_id_cnt_month_mean_lag_2을 생성하였습니다.\n",
      "shop_id_cnt_month_mean_lag_3을 생성하였습니다.\n",
      "shop_id_cnt_month_mean_lag_6을 생성하였습니다.\n",
      "shop_id_cnt_month_mean_lag_12을 생성하였습니다.\n"
     ]
    }
   ],
   "source": [
    "#월 가게별 달 아이템 팔린 평균\n",
    "base_feature_names = ['date_block_num','shop_id']\n",
    "num_feature_name = 'item_cnt_month'\n",
    "sales_df ,num_feature_name =\\\n",
    "add_mean_feature(sales_df ,\n",
    "                 base_feature_names,\n",
    "                num_feature_name)\n",
    "sales_df , add_lag_feature_names =\\\n",
    "add_lag_data(sales_df,\n",
    "            base_feature_names,\n",
    "            num_feature_name,\n",
    "            add_lag_feature_names,\n",
    "            [1,2,3,6,12])"
   ]
  },
  {
   "cell_type": "code",
   "execution_count": 59,
   "id": "46e98aa2",
   "metadata": {},
   "outputs": [
    {
     "name": "stdout",
     "output_type": "stream",
     "text": [
      "shop_id_item_category_id_cnt_month_mean이 생성되었습니다.\n",
      "shop_id_item_category_id_cnt_month_mean_lag_1을 생성하였습니다.\n"
     ]
    }
   ],
   "source": [
    "base_feature_names = ['date_block_num','shop_id','item_category_id']\n",
    "num_feature_name = 'item_cnt_month'\n",
    "sales_df ,num_feature_name =\\\n",
    "add_mean_feature(sales_df ,\n",
    "                 base_feature_names,\n",
    "                num_feature_name)\n",
    "sales_df , add_lag_feature_names =\\\n",
    "add_lag_data(sales_df,\n",
    "            base_feature_names,\n",
    "            num_feature_name,\n",
    "            add_lag_feature_names,\n",
    "            [1])"
   ]
  },
  {
   "cell_type": "code",
   "execution_count": 60,
   "id": "5a54d535",
   "metadata": {},
   "outputs": [
    {
     "name": "stdout",
     "output_type": "stream",
     "text": [
      "shop_id_high_category_id_cnt_month_mean이 생성되었습니다.\n",
      "shop_id_high_category_id_cnt_month_mean_lag_1을 생성하였습니다.\n"
     ]
    }
   ],
   "source": [
    "base_feature_names = ['date_block_num','shop_id','high_category_id']\n",
    "num_feature_name = 'item_cnt_month'\n",
    "sales_df ,num_feature_name =\\\n",
    "add_mean_feature(sales_df ,\n",
    "                 base_feature_names,\n",
    "                num_feature_name)\n",
    "sales_df , add_lag_feature_names =\\\n",
    "add_lag_data(sales_df,\n",
    "            base_feature_names,\n",
    "            num_feature_name,\n",
    "            add_lag_feature_names,\n",
    "            [1])"
   ]
  },
  {
   "cell_type": "markdown",
   "id": "f17b486b",
   "metadata": {},
   "source": [
    "## 도시별"
   ]
  },
  {
   "cell_type": "code",
   "execution_count": 61,
   "id": "3072f31e",
   "metadata": {},
   "outputs": [
    {
     "name": "stdout",
     "output_type": "stream",
     "text": [
      "city_id_cnt_month_mean이 생성되었습니다.\n",
      "city_id_cnt_month_mean_lag_1을 생성하였습니다.\n"
     ]
    }
   ],
   "source": [
    "base_feature_names = ['date_block_num','city_id']\n",
    "num_feature_name = 'item_cnt_month'\n",
    "sales_df ,num_feature_name =\\\n",
    "add_mean_feature(sales_df ,\n",
    "                 base_feature_names,\n",
    "                num_feature_name)\n",
    "sales_df , add_lag_feature_names =\\\n",
    "add_lag_data(sales_df,\n",
    "            base_feature_names,\n",
    "            num_feature_name,\n",
    "            add_lag_feature_names,\n",
    "            [1])"
   ]
  },
  {
   "cell_type": "code",
   "execution_count": 62,
   "id": "014adc7d",
   "metadata": {},
   "outputs": [
    {
     "name": "stdout",
     "output_type": "stream",
     "text": [
      "item_id_city_id_cnt_month_mean이 생성되었습니다.\n",
      "item_id_city_id_cnt_month_mean_lag_1을 생성하였습니다.\n"
     ]
    }
   ],
   "source": [
    "# 월 도시 아이템 별 팔린 갯수의 평균\n",
    "base_feature_names = ['date_block_num','item_id','city_id']\n",
    "num_feature_name = 'item_cnt_month'\n",
    "sales_df ,num_feature_name =\\\n",
    "add_mean_feature(sales_df ,\n",
    "                 base_feature_names,\n",
    "                num_feature_name)\n",
    "sales_df , add_lag_feature_names =\\\n",
    "add_lag_data(sales_df,\n",
    "            base_feature_names,\n",
    "            num_feature_name,\n",
    "            add_lag_feature_names,\n",
    "            [1])"
   ]
  },
  {
   "cell_type": "code",
   "execution_count": 63,
   "id": "08b78a92",
   "metadata": {},
   "outputs": [
    {
     "data": {
      "text/plain": [
       "Index(['date_block_num', 'shop_id', 'item_id', 'item_cnt_month',\n",
       "       'item_price_mean', 'item_count', 'city_id', 'item_category_id',\n",
       "       'first_sale_date', 'high_category_id', 'month',\n",
       "       'date_item_cnt_month_mean', 'date_item_cnt_month_mean_lag_1',\n",
       "       'date_item_cnt_month_mean_lag_2', 'date_item_cnt_month_mean_lag_3',\n",
       "       'date_item_cnt_month_mean_lag_6', 'date_item_cnt_month_mean_lag_12',\n",
       "       'high_category_id_cnt_month_mean_lag_1',\n",
       "       'item_category_id_cnt_month_mean_lag_1', 'shop_id_cnt_month_mean_lag_1',\n",
       "       'shop_id_cnt_month_mean_lag_2', 'shop_id_cnt_month_mean_lag_3',\n",
       "       'shop_id_cnt_month_mean_lag_6', 'shop_id_cnt_month_mean_lag_12',\n",
       "       'shop_id_item_category_id_cnt_month_mean_lag_1',\n",
       "       'shop_id_high_category_id_cnt_month_mean_lag_1',\n",
       "       'city_id_cnt_month_mean_lag_1', 'item_id_city_id_cnt_month_mean_lag_1'],\n",
       "      dtype='object')"
      ]
     },
     "execution_count": 63,
     "metadata": {},
     "output_type": "execute_result"
    }
   ],
   "source": [
    "sales_df.columns"
   ]
  },
  {
   "cell_type": "code",
   "execution_count": 65,
   "id": "c5dfc2b9",
   "metadata": {},
   "outputs": [
    {
     "name": "stdout",
     "output_type": "stream",
     "text": [
      "Mem. usage decreased to 481.46 Mb (73.2% reduction)\n"
     ]
    }
   ],
   "source": [
    "sales_df_backup = sales_df.copy()\n",
    "sales_df = reduce_mem_usage(sales_df)"
   ]
  },
  {
   "cell_type": "markdown",
   "id": "03f6771b",
   "metadata": {},
   "source": [
    "## add_trend_data"
   ]
  },
  {
   "cell_type": "code",
   "execution_count": 66,
   "id": "3da17b4a",
   "metadata": {},
   "outputs": [
    {
     "name": "stdout",
     "output_type": "stream",
     "text": [
      "item_id_price_month_mean이 생성되었습니다.\n"
     ]
    }
   ],
   "source": [
    "base_feature_names = ['date_block_num','item_id']\n",
    "num_feature_name = 'item_price'\n",
    "df_temp ,num_feature_name =\\\n",
    "add_mean_feature(train ,\n",
    "                 base_feature_names,\n",
    "                num_feature_name)\n"
   ]
  },
  {
   "cell_type": "code",
   "execution_count": 72,
   "id": "396fd3f2",
   "metadata": {},
   "outputs": [
    {
     "data": {
      "text/plain": [
       "15           28.0\n",
       "35         2500.0\n",
       "49          498.0\n",
       "61          998.0\n",
       "78          498.0\n",
       "            ...  \n",
       "8840773     169.0\n",
       "8840777     169.0\n",
       "8840781     169.0\n",
       "8840783     169.0\n",
       "8840817     249.0\n",
       "Name: item_price_mean, Length: 1332883, dtype: float16"
      ]
     },
     "execution_count": 72,
     "metadata": {},
     "output_type": "execute_result"
    }
   ],
   "source": [
    "sales_df[sales_df['item_price_mean']>0]['item_price_mean']"
   ]
  },
  {
   "cell_type": "markdown",
   "id": "5cf362be",
   "metadata": {},
   "source": [
    "### 처음 팔린 날부터  팔린 달까지 걸린시간"
   ]
  },
  {
   "cell_type": "code",
   "execution_count": null,
   "id": "30541f41",
   "metadata": {},
   "outputs": [],
   "source": [
    "sales_df['new'] = sales_df['first_sale_date'] == sales_df['date_block_num']\n",
    "\n",
    "sales_df['duration_date'] = \\\n",
    "sales_df['date_block_num'] - sales_df['first_sale_date']"
   ]
  },
  {
   "cell_type": "code",
   "execution_count": null,
   "id": "86f2178a",
   "metadata": {},
   "outputs": [],
   "source": [
    "sales_df['item_cnt_month_lag_mean'] = \\\n",
    "(sales_df['item_cnt_month_lag_1']+sales_df['item_cnt_month_lag_2']+sales_df['item_cnt_month_lag_3']) / 3"
   ]
  },
  {
   "cell_type": "code",
   "execution_count": null,
   "id": "e617e08a",
   "metadata": {},
   "outputs": [],
   "source": [
    "sales_df['item_cnt_month_lag_grad_1'] =sales_df['item_cnt_month_lag_1']/sales_df['item_cnt_month_lag_2']\n",
    "sales_df['item_cnt_month_lag_grad_1']= \\\n",
    "sales_df['item_cnt_month_lag_grad_1'].replace([np.inf, -np.inf],0).fillna(0)\n",
    "\n",
    "sales_df['item_cnt_month_lag_grad_2'] =sales_df['item_cnt_month_lag_2']/sales_df['item_cnt_month_lag_3']\n",
    "sales_df['item_cnt_month_lag_grad_2'] = \\\n",
    "sales_df['item_cnt_month_lag_grad_2'].replace([np.inf, -np.inf],0).fillna(0)"
   ]
  },
  {
   "cell_type": "code",
   "execution_count": null,
   "id": "de99c7d4",
   "metadata": {},
   "outputs": [],
   "source": [
    "# sales_df[add_feature_names + ['item_cnt_month', 'item_cnt_month_lag_mean']] = \\\n",
    "# sales_df[add_feature_names + ['item_cnt_month', 'item_cnt_month_lag_mean']].clip(0, 20)"
   ]
  },
  {
   "cell_type": "code",
   "execution_count": null,
   "id": "e8d7e4f9",
   "metadata": {},
   "outputs": [],
   "source": [
    "sales_df.info()"
   ]
  },
  {
   "cell_type": "code",
   "execution_count": null,
   "id": "15310e7a",
   "metadata": {},
   "outputs": [],
   "source": [
    "catagory_feature_names = ['shop_id', 'city_id', 'item_category_id', 'high_category_id', 'month']\n",
    "from sklearn.preprocessing import StandardScaler  # 표준화 패키지 라이브러리 \n",
    "x = sales_df.drop(catagory_feature_names+, axis=1).values # 독립변인들의 value값만 추출\n",
    "y = sales_df['item_cnt_month'].values # 종속변인 추출\n",
    "\n",
    "x = StandardScaler().fit_transform(x) # x객체에 x를 표준화한 데이터를 저장\n",
    "\n",
    "features = sales_df.drop(catagory_feature_names, axis=1).columns\n",
    "pd.DataFrame(x, columns=features).head()"
   ]
  },
  {
   "cell_type": "code",
   "execution_count": null,
   "id": "bfc30ea0",
   "metadata": {},
   "outputs": [],
   "source": [
    "sales_df = reduce_mem_usage(sales_df)\n",
    "x_train = sales_df[sales_df['date_block_num'] < 33]\n",
    "x_train = x_train.drop(['item_cnt_month'], axis = 1)\n",
    "y_train = sales_df[sales_df['date_block_num'] < 33]['item_cnt_month']\n",
    "\n",
    "\n",
    "x_valid = sales_df[sales_df['date_block_num'] == 33]\n",
    "x_valid = x_valid.drop(['item_cnt_month'], axis = 1)\n",
    "y_valid = sales_df[sales_df['date_block_num'] == 33]['item_cnt_month']\n",
    "\n",
    "x_test = sales_df[sales_df['date_block_num'] == 34]\n",
    "x_test = x_test.drop(['item_cnt_month'], axis = 1)\n",
    "y_test = sales_df[sales_df['date_block_num'] == 34]['item_cnt_month']"
   ]
  },
  {
   "cell_type": "code",
   "execution_count": null,
   "id": "690a471d",
   "metadata": {},
   "outputs": [],
   "source": []
  },
  {
   "cell_type": "code",
   "execution_count": null,
   "id": "5455f61c",
   "metadata": {},
   "outputs": [],
   "source": []
  },
  {
   "cell_type": "code",
   "execution_count": null,
   "id": "f73f9602",
   "metadata": {},
   "outputs": [],
   "source": []
  },
  {
   "cell_type": "code",
   "execution_count": null,
   "id": "d2fb1686",
   "metadata": {},
   "outputs": [],
   "source": [
    "import lightgbm as lgb\n",
    "\n",
    "catagory_feature_names = ['shop_id', 'city_id', 'item_category_id', 'high_category_id', 'month']\n",
    "\n",
    "params = {'metric': 'rmse',\n",
    "          'num_leaves': 255,\n",
    "          'learning_rate': 0.005,\n",
    "          'feature_fraction': 0.75,\n",
    "          'bagging_fraction': 0.75,\n",
    "          'bagging_freq': 5,\n",
    "          'force_col_wise' : True,\n",
    "          'random_state': 10}\n",
    "\n",
    "# lgb train and valid dataset\n",
    "dtrain = lgb.Dataset(x_train, y_train)\n",
    "dvalid = lgb.Dataset(x_valid, y_valid)\n",
    " \n",
    "# Train LightGBM model\n",
    "lgb_model = lgb.train(params=params,\n",
    "                      train_set=dtrain,\n",
    "                      num_boost_round=1500,\n",
    "                      valid_sets=(dtrain, dvalid),\n",
    "                      early_stopping_rounds=150,\n",
    "                      categorical_feature=catagory_feature_names,\n",
    "                      verbose_eval=100)     "
   ]
  },
  {
   "cell_type": "code",
   "execution_count": null,
   "id": "0ce28a1a",
   "metadata": {},
   "outputs": [],
   "source": [
    "preds = lgb_model.predict(x_test).clip(0,20)\n",
    "\n",
    "submission['item_cnt_month'] = preds\n",
    "submission.to_csv('submission.csv', index=False)"
   ]
  },
  {
   "cell_type": "code",
   "execution_count": null,
   "id": "64a5e10a",
   "metadata": {},
   "outputs": [],
   "source": [
    "lgb.plot_importance(lgb_model,figsize = (40,70))"
   ]
  },
  {
   "cell_type": "code",
   "execution_count": null,
   "id": "94558aee",
   "metadata": {},
   "outputs": [],
   "source": [
    "sales_df.columns"
   ]
  },
  {
   "cell_type": "code",
   "execution_count": null,
   "id": "6f7a171a",
   "metadata": {},
   "outputs": [],
   "source": [
    "sales_corr = sales_df.drop(columns = catagory_feature_names).corr() \n",
    "plt.figure(figsize=(20,20))\n",
    "sns.heatmap(sales_corr, annot=True)\n",
    "plt.show()"
   ]
  },
  {
   "cell_type": "code",
   "execution_count": null,
   "id": "fc4494bf",
   "metadata": {},
   "outputs": [],
   "source": [
    "len(preds>0)"
   ]
  },
  {
   "cell_type": "code",
   "execution_count": null,
   "id": "4c7b8b65",
   "metadata": {},
   "outputs": [],
   "source": []
  }
 ],
 "metadata": {
  "kernelspec": {
   "display_name": "Python 3 (ipykernel)",
   "language": "python",
   "name": "python3"
  },
  "language_info": {
   "codemirror_mode": {
    "name": "ipython",
    "version": 3
   },
   "file_extension": ".py",
   "mimetype": "text/x-python",
   "name": "python",
   "nbconvert_exporter": "python",
   "pygments_lexer": "ipython3",
   "version": "3.9.12"
  }
 },
 "nbformat": 4,
 "nbformat_minor": 5
}
